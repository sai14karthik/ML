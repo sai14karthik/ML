{
 "cells": [
  {
   "cell_type": "code",
   "execution_count": 1,
   "id": "7bf19290-a54d-4e11-a459-0f790ef3de10",
   "metadata": {},
   "outputs": [
    {
     "name": "stdout",
     "output_type": "stream",
     "text": [
      "Python Platform: macOS-14.3-arm64-arm-64bit\n",
      "TensorFlow Version: 2.13.0\n",
      "Keras version not found\n",
      "Python 3.8.16 | packaged by conda-forge | (default, Feb  1 2023, 16:01:13) \n",
      "[Clang 14.0.6 ]\n",
      "Pandas 2.0.3\n",
      "Scikit-Learn 1.3.0\n",
      "GPU is available\n"
     ]
    }
   ],
   "source": [
    "import sys\n",
    "import pandas as pd\n",
    "import sklearn as sk\n",
    "import tensorflow as tf\n",
    "import platform\n",
    "import os \n",
    "\n",
    "# Print information about the Python platform and versions of TensorFlow, Keras, Python, Pandas, and Scikit-Learn\n",
    "print(f\"Python Platform: {platform.platform()}\")\n",
    "print(f\"TensorFlow Version: {tf.__version__}\")\n",
    "\n",
    "# Check if tf.keras is available and print its version\n",
    "if hasattr(tf, 'keras') and hasattr(tf.keras, '__version__'):\n",
    "    print(f\"Keras Version: {tf.keras.__version__}\")\n",
    "else:\n",
    "    print(\"Keras version not found\")\n",
    "\n",
    "print(f\"Python {sys.version}\")\n",
    "print(f\"Pandas {pd.__version__}\")\n",
    "print(f\"Scikit-Learn {sk.__version__}\")\n",
    "\n",
    "# Check if a GPU is available for TensorFlow\n",
    "gpu = len(tf.config.list_physical_devices('GPU')) > 0\n",
    "print(\"GPU is\", \"available\" if gpu else \"NOT AVAILABLE\")\n"
   ]
  }
 ],
 "metadata": {
  "kernelspec": {
   "display_name": "Python 3 (ipykernel)",
   "language": "python",
   "name": "python3"
  },
  "language_info": {
   "codemirror_mode": {
    "name": "ipython",
    "version": 3
   },
   "file_extension": ".py",
   "mimetype": "text/x-python",
   "name": "python",
   "nbconvert_exporter": "python",
   "pygments_lexer": "ipython3",
   "version": "3.8.16"
  }
 },
 "nbformat": 4,
 "nbformat_minor": 5
}
