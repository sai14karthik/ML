{
 "cells": [
  {
   "cell_type": "code",
   "execution_count": 31,
   "metadata": {},
   "outputs": [],
   "source": [
    "import pandas as pd\n",
    "import numpy as np\n",
    "import seaborn as sns \n",
    "import matplotlib.pyplot as plt \n",
    "import warnings \n",
    "warnings.filterwarnings(\"ignore\")\n",
    "plt.rcParams[\"figure.figsize\"] =(12,6)\n"
   ]
  },
  {
   "cell_type": "code",
   "execution_count": 30,
   "metadata": {},
   "outputs": [],
   "source": [
    "\n",
    "s = pd.Series([1,2,3,np.nan,5,6], index=['A','B','C','D','E','F'])\n"
   ]
  },
  {
   "cell_type": "code",
   "execution_count": 13,
   "metadata": {},
   "outputs": [
    {
     "name": "stdout",
     "output_type": "stream",
     "text": [
      "  Emp_ID Gender  Age\n",
      "0    E01      F   25\n",
      "1    E02      M   27\n",
      "2    E03      M   25\n",
      "\n",
      "0    E01\n",
      "1    E02\n",
      "2    E03\n",
      "Name: Emp_ID, dtype: object\n",
      "\n",
      "E01\n"
     ]
    }
   ],
   "source": [
    "data = {'Gender': ['F', 'M', 'M'],'Emp_ID': ['E01', 'E02','E03'], 'Age': [25, 27, 25]}\n",
    "df = pd.DataFrame(data, columns=['Emp_ID','Gender', 'Age'])\n",
    "print(df) \n",
    "print()\n",
    "print(df.Emp_ID)\n",
    "print()\n",
    "print(df.Emp_ID[0])"
   ]
  },
  {
   "cell_type": "code",
   "execution_count": 14,
   "metadata": {},
   "outputs": [],
   "source": [
    "df=pd.read_csv(\"/Users/saikarthik/Desktop/ml algorithms from scratch /pandas/employees - employees.csv\")"
   ]
  },
  {
   "cell_type": "code",
   "execution_count": 15,
   "metadata": {},
   "outputs": [
    {
     "data": {
      "text/html": [
       "<div>\n",
       "<style scoped>\n",
       "    .dataframe tbody tr th:only-of-type {\n",
       "        vertical-align: middle;\n",
       "    }\n",
       "\n",
       "    .dataframe tbody tr th {\n",
       "        vertical-align: top;\n",
       "    }\n",
       "\n",
       "    .dataframe thead th {\n",
       "        text-align: right;\n",
       "    }\n",
       "</style>\n",
       "<table border=\"1\" class=\"dataframe\">\n",
       "  <thead>\n",
       "    <tr style=\"text-align: right;\">\n",
       "      <th></th>\n",
       "      <th>First Name</th>\n",
       "      <th>Gender</th>\n",
       "      <th>Start Date</th>\n",
       "      <th>Last Login Time</th>\n",
       "      <th>Salary</th>\n",
       "      <th>Bonus %</th>\n",
       "      <th>Senior Management</th>\n",
       "      <th>Team</th>\n",
       "    </tr>\n",
       "  </thead>\n",
       "  <tbody>\n",
       "    <tr>\n",
       "      <th>0</th>\n",
       "      <td>Douglas</td>\n",
       "      <td>Male</td>\n",
       "      <td>8/6/1993</td>\n",
       "      <td>12:42 PM</td>\n",
       "      <td>97308</td>\n",
       "      <td>6.945</td>\n",
       "      <td>True</td>\n",
       "      <td>Marketing</td>\n",
       "    </tr>\n",
       "    <tr>\n",
       "      <th>1</th>\n",
       "      <td>Thomas</td>\n",
       "      <td>Male</td>\n",
       "      <td>3/31/1996</td>\n",
       "      <td>6:53 AM</td>\n",
       "      <td>61933</td>\n",
       "      <td>4.170</td>\n",
       "      <td>True</td>\n",
       "      <td>NaN</td>\n",
       "    </tr>\n",
       "    <tr>\n",
       "      <th>2</th>\n",
       "      <td>Maria</td>\n",
       "      <td>Female</td>\n",
       "      <td>4/23/1993</td>\n",
       "      <td>11:17 AM</td>\n",
       "      <td>130590</td>\n",
       "      <td>11.858</td>\n",
       "      <td>False</td>\n",
       "      <td>Finance</td>\n",
       "    </tr>\n",
       "    <tr>\n",
       "      <th>3</th>\n",
       "      <td>Jerry</td>\n",
       "      <td>Male</td>\n",
       "      <td>3/4/2005</td>\n",
       "      <td>1:00 PM</td>\n",
       "      <td>138705</td>\n",
       "      <td>9.340</td>\n",
       "      <td>True</td>\n",
       "      <td>Finance</td>\n",
       "    </tr>\n",
       "    <tr>\n",
       "      <th>4</th>\n",
       "      <td>Larry</td>\n",
       "      <td>Male</td>\n",
       "      <td>1/24/1998</td>\n",
       "      <td>4:47 PM</td>\n",
       "      <td>101004</td>\n",
       "      <td>1.389</td>\n",
       "      <td>True</td>\n",
       "      <td>Client Services</td>\n",
       "    </tr>\n",
       "  </tbody>\n",
       "</table>\n",
       "</div>"
      ],
      "text/plain": [
       "  First Name  Gender Start Date Last Login Time  Salary  Bonus %  \\\n",
       "0    Douglas    Male   8/6/1993        12:42 PM   97308    6.945   \n",
       "1     Thomas    Male  3/31/1996         6:53 AM   61933    4.170   \n",
       "2      Maria  Female  4/23/1993        11:17 AM  130590   11.858   \n",
       "3      Jerry    Male   3/4/2005         1:00 PM  138705    9.340   \n",
       "4      Larry    Male  1/24/1998         4:47 PM  101004    1.389   \n",
       "\n",
       "  Senior Management             Team  \n",
       "0              True        Marketing  \n",
       "1              True              NaN  \n",
       "2             False          Finance  \n",
       "3              True          Finance  \n",
       "4              True  Client Services  "
      ]
     },
     "execution_count": 15,
     "metadata": {},
     "output_type": "execute_result"
    }
   ],
   "source": [
    "df.head()"
   ]
  },
  {
   "cell_type": "code",
   "execution_count": 24,
   "metadata": {},
   "outputs": [
    {
     "data": {
      "text/plain": [
       "90428.0"
      ]
     },
     "execution_count": 24,
     "metadata": {},
     "output_type": "execute_result"
    }
   ],
   "source": [
    "df[\"Salary\"].max()\n",
    "df[\"Salary\"].mean()\n",
    "df[\"Salary\"].median()"
   ]
  },
  {
   "cell_type": "code",
   "execution_count": 25,
   "metadata": {},
   "outputs": [
    {
     "data": {
      "text/plain": [
       "Index(['First Name', 'Gender', 'Start Date', 'Last Login Time', 'Salary',\n",
       "       'Bonus %', 'Senior Management', 'Team'],\n",
       "      dtype='object')"
      ]
     },
     "execution_count": 25,
     "metadata": {},
     "output_type": "execute_result"
    }
   ],
   "source": [
    "df.columns"
   ]
  },
  {
   "cell_type": "code",
   "execution_count": 26,
   "metadata": {},
   "outputs": [
    {
     "data": {
      "text/plain": [
       "First Name            67\n",
       "Gender               145\n",
       "Start Date             0\n",
       "Last Login Time        0\n",
       "Salary                 0\n",
       "Bonus %                0\n",
       "Senior Management     67\n",
       "Team                  43\n",
       "dtype: int64"
      ]
     },
     "execution_count": 26,
     "metadata": {},
     "output_type": "execute_result"
    }
   ],
   "source": [
    "df.isnull().sum()"
   ]
  },
  {
   "cell_type": "code",
   "execution_count": 27,
   "metadata": {},
   "outputs": [
    {
     "data": {
      "text/plain": [
       "First Name            object\n",
       "Gender                object\n",
       "Start Date            object\n",
       "Last Login Time       object\n",
       "Salary                 int64\n",
       "Bonus %              float64\n",
       "Senior Management     object\n",
       "Team                  object\n",
       "dtype: object"
      ]
     },
     "execution_count": 27,
     "metadata": {},
     "output_type": "execute_result"
    }
   ],
   "source": [
    "df.dtypes"
   ]
  },
  {
   "cell_type": "code",
   "execution_count": 28,
   "metadata": {},
   "outputs": [
    {
     "name": "stdout",
     "output_type": "stream",
     "text": [
      "<class 'pandas.core.frame.DataFrame'>\n",
      "RangeIndex: 1000 entries, 0 to 999\n",
      "Data columns (total 8 columns):\n",
      " #   Column             Non-Null Count  Dtype  \n",
      "---  ------             --------------  -----  \n",
      " 0   First Name         933 non-null    object \n",
      " 1   Gender             855 non-null    object \n",
      " 2   Start Date         1000 non-null   object \n",
      " 3   Last Login Time    1000 non-null   object \n",
      " 4   Salary             1000 non-null   int64  \n",
      " 5   Bonus %            1000 non-null   float64\n",
      " 6   Senior Management  933 non-null    object \n",
      " 7   Team               957 non-null    object \n",
      "dtypes: float64(1), int64(1), object(6)\n",
      "memory usage: 62.6+ KB\n"
     ]
    }
   ],
   "source": [
    "df.info()"
   ]
  },
  {
   "cell_type": "code",
   "execution_count": 29,
   "metadata": {},
   "outputs": [
    {
     "data": {
      "text/html": [
       "<div>\n",
       "<style scoped>\n",
       "    .dataframe tbody tr th:only-of-type {\n",
       "        vertical-align: middle;\n",
       "    }\n",
       "\n",
       "    .dataframe tbody tr th {\n",
       "        vertical-align: top;\n",
       "    }\n",
       "\n",
       "    .dataframe thead th {\n",
       "        text-align: right;\n",
       "    }\n",
       "</style>\n",
       "<table border=\"1\" class=\"dataframe\">\n",
       "  <thead>\n",
       "    <tr style=\"text-align: right;\">\n",
       "      <th></th>\n",
       "      <th>Salary</th>\n",
       "      <th>Bonus %</th>\n",
       "    </tr>\n",
       "  </thead>\n",
       "  <tbody>\n",
       "    <tr>\n",
       "      <th>count</th>\n",
       "      <td>1000.000000</td>\n",
       "      <td>1000.000000</td>\n",
       "    </tr>\n",
       "    <tr>\n",
       "      <th>mean</th>\n",
       "      <td>90662.181000</td>\n",
       "      <td>10.207555</td>\n",
       "    </tr>\n",
       "    <tr>\n",
       "      <th>std</th>\n",
       "      <td>32923.693342</td>\n",
       "      <td>5.528481</td>\n",
       "    </tr>\n",
       "    <tr>\n",
       "      <th>min</th>\n",
       "      <td>35013.000000</td>\n",
       "      <td>1.015000</td>\n",
       "    </tr>\n",
       "    <tr>\n",
       "      <th>25%</th>\n",
       "      <td>62613.000000</td>\n",
       "      <td>5.401750</td>\n",
       "    </tr>\n",
       "    <tr>\n",
       "      <th>50%</th>\n",
       "      <td>90428.000000</td>\n",
       "      <td>9.838500</td>\n",
       "    </tr>\n",
       "    <tr>\n",
       "      <th>75%</th>\n",
       "      <td>118740.250000</td>\n",
       "      <td>14.838000</td>\n",
       "    </tr>\n",
       "    <tr>\n",
       "      <th>max</th>\n",
       "      <td>149908.000000</td>\n",
       "      <td>19.944000</td>\n",
       "    </tr>\n",
       "  </tbody>\n",
       "</table>\n",
       "</div>"
      ],
      "text/plain": [
       "              Salary      Bonus %\n",
       "count    1000.000000  1000.000000\n",
       "mean    90662.181000    10.207555\n",
       "std     32923.693342     5.528481\n",
       "min     35013.000000     1.015000\n",
       "25%     62613.000000     5.401750\n",
       "50%     90428.000000     9.838500\n",
       "75%    118740.250000    14.838000\n",
       "max    149908.000000    19.944000"
      ]
     },
     "execution_count": 29,
     "metadata": {},
     "output_type": "execute_result"
    }
   ],
   "source": [
    "df.describe()"
   ]
  },
  {
   "cell_type": "code",
   "execution_count": 34,
   "metadata": {},
   "outputs": [
    {
     "data": {
      "text/plain": [
       "RangeIndex(start=0, stop=1000, step=1)"
      ]
     },
     "execution_count": 34,
     "metadata": {},
     "output_type": "execute_result"
    }
   ],
   "source": [
    "df.index"
   ]
  },
  {
   "cell_type": "code",
   "execution_count": 35,
   "metadata": {},
   "outputs": [
    {
     "name": "stdout",
     "output_type": "stream",
     "text": [
      "<class 'pandas.core.frame.DataFrame'>\n",
      "RangeIndex: 1000 entries, 0 to 999\n",
      "Data columns (total 8 columns):\n",
      " #   Column             Non-Null Count  Dtype  \n",
      "---  ------             --------------  -----  \n",
      " 0   First Name         933 non-null    object \n",
      " 1   Gender             855 non-null    object \n",
      " 2   Start Date         1000 non-null   object \n",
      " 3   Last Login Time    1000 non-null   object \n",
      " 4   Salary             1000 non-null   int64  \n",
      " 5   Bonus %            1000 non-null   float64\n",
      " 6   Senior Management  933 non-null    object \n",
      " 7   Team               957 non-null    object \n",
      "dtypes: float64(1), int64(1), object(6)\n",
      "memory usage: 62.6+ KB\n"
     ]
    }
   ],
   "source": [
    "df.info()"
   ]
  },
  {
   "cell_type": "code",
   "execution_count": 37,
   "metadata": {},
   "outputs": [
    {
     "data": {
      "text/plain": [
       "First Name\n",
       "Marilyn    11\n",
       "Barbara    10\n",
       "Jeremy     10\n",
       "Todd       10\n",
       "Steven      9\n",
       "           ..\n",
       "Brian       1\n",
       "Jean        1\n",
       "Dennis      1\n",
       "Angela      1\n",
       "David       1\n",
       "Name: count, Length: 200, dtype: int64"
      ]
     },
     "execution_count": 37,
     "metadata": {},
     "output_type": "execute_result"
    }
   ],
   "source": [
    "df[\"First Name\"].value_counts()\n"
   ]
  },
  {
   "cell_type": "code",
   "execution_count": 38,
   "metadata": {},
   "outputs": [
    {
     "data": {
      "text/plain": [
       "Senior Management\n",
       "True     468\n",
       "False    465\n",
       "Name: count, dtype: int64"
      ]
     },
     "execution_count": 38,
     "metadata": {},
     "output_type": "execute_result"
    }
   ],
   "source": [
    "df[\"Senior Management\"].value_counts()"
   ]
  },
  {
   "cell_type": "code",
   "execution_count": 39,
   "metadata": {},
   "outputs": [
    {
     "data": {
      "text/plain": [
       "array(['Marketing', nan, 'Finance', 'Client Services', 'Legal', 'Product',\n",
       "       'Engineering', 'Business Development', 'Human Resources', 'Sales',\n",
       "       'Distribution'], dtype=object)"
      ]
     },
     "execution_count": 39,
     "metadata": {},
     "output_type": "execute_result"
    }
   ],
   "source": [
    "df['Team'].unique()"
   ]
  },
  {
   "cell_type": "code",
   "execution_count": 45,
   "metadata": {},
   "outputs": [
    {
     "data": {
      "text/html": [
       "<div>\n",
       "<style scoped>\n",
       "    .dataframe tbody tr th:only-of-type {\n",
       "        vertical-align: middle;\n",
       "    }\n",
       "\n",
       "    .dataframe tbody tr th {\n",
       "        vertical-align: top;\n",
       "    }\n",
       "\n",
       "    .dataframe thead th {\n",
       "        text-align: right;\n",
       "    }\n",
       "</style>\n",
       "<table border=\"1\" class=\"dataframe\">\n",
       "  <thead>\n",
       "    <tr style=\"text-align: right;\">\n",
       "      <th></th>\n",
       "      <th>First Name</th>\n",
       "      <th>Gender</th>\n",
       "      <th>Start Date</th>\n",
       "      <th>Last Login Time</th>\n",
       "      <th>Salary</th>\n",
       "      <th>Bonus %</th>\n",
       "      <th>Senior Management</th>\n",
       "      <th>Team</th>\n",
       "    </tr>\n",
       "  </thead>\n",
       "  <tbody>\n",
       "    <tr>\n",
       "      <th>995</th>\n",
       "      <td>Henry</td>\n",
       "      <td>NaN</td>\n",
       "      <td>11/23/2014</td>\n",
       "      <td>6:09 AM</td>\n",
       "      <td>132483</td>\n",
       "      <td>16.655</td>\n",
       "      <td>False</td>\n",
       "      <td>Distribution</td>\n",
       "    </tr>\n",
       "    <tr>\n",
       "      <th>996</th>\n",
       "      <td>Phillip</td>\n",
       "      <td>Male</td>\n",
       "      <td>1/31/1984</td>\n",
       "      <td>6:30 AM</td>\n",
       "      <td>42392</td>\n",
       "      <td>19.675</td>\n",
       "      <td>False</td>\n",
       "      <td>Finance</td>\n",
       "    </tr>\n",
       "    <tr>\n",
       "      <th>997</th>\n",
       "      <td>Russell</td>\n",
       "      <td>Male</td>\n",
       "      <td>5/20/2013</td>\n",
       "      <td>12:39 PM</td>\n",
       "      <td>96914</td>\n",
       "      <td>1.421</td>\n",
       "      <td>False</td>\n",
       "      <td>Product</td>\n",
       "    </tr>\n",
       "    <tr>\n",
       "      <th>998</th>\n",
       "      <td>Larry</td>\n",
       "      <td>Male</td>\n",
       "      <td>4/20/2013</td>\n",
       "      <td>4:45 PM</td>\n",
       "      <td>60500</td>\n",
       "      <td>11.985</td>\n",
       "      <td>False</td>\n",
       "      <td>Business Development</td>\n",
       "    </tr>\n",
       "    <tr>\n",
       "      <th>999</th>\n",
       "      <td>Albert</td>\n",
       "      <td>Male</td>\n",
       "      <td>5/15/2012</td>\n",
       "      <td>6:24 PM</td>\n",
       "      <td>129949</td>\n",
       "      <td>10.169</td>\n",
       "      <td>True</td>\n",
       "      <td>Sales</td>\n",
       "    </tr>\n",
       "  </tbody>\n",
       "</table>\n",
       "</div>"
      ],
      "text/plain": [
       "    First Name Gender  Start Date Last Login Time  Salary  Bonus %  \\\n",
       "995      Henry    NaN  11/23/2014         6:09 AM  132483   16.655   \n",
       "996    Phillip   Male   1/31/1984         6:30 AM   42392   19.675   \n",
       "997    Russell   Male   5/20/2013        12:39 PM   96914    1.421   \n",
       "998      Larry   Male   4/20/2013         4:45 PM   60500   11.985   \n",
       "999     Albert   Male   5/15/2012         6:24 PM  129949   10.169   \n",
       "\n",
       "    Senior Management                  Team  \n",
       "995             False          Distribution  \n",
       "996             False               Finance  \n",
       "997             False               Product  \n",
       "998             False  Business Development  \n",
       "999              True                 Sales  "
      ]
     },
     "execution_count": 45,
     "metadata": {},
     "output_type": "execute_result"
    }
   ],
   "source": [
    "df.tail()"
   ]
  },
  {
   "cell_type": "code",
   "execution_count": 46,
   "metadata": {},
   "outputs": [
    {
     "data": {
      "text/plain": [
       "Index(['First Name', 'Gender', 'Start Date', 'Last Login Time', 'Salary',\n",
       "       'Bonus %', 'Senior Management', 'Team'],\n",
       "      dtype='object')"
      ]
     },
     "execution_count": 46,
     "metadata": {},
     "output_type": "execute_result"
    }
   ],
   "source": [
    "df.columns"
   ]
  },
  {
   "cell_type": "code",
   "execution_count": 47,
   "metadata": {},
   "outputs": [
    {
     "data": {
      "text/plain": [
       "First Name            67\n",
       "Gender               145\n",
       "Start Date             0\n",
       "Last Login Time        0\n",
       "Salary                 0\n",
       "Bonus %                0\n",
       "Senior Management     67\n",
       "Team                  43\n",
       "dtype: int64"
      ]
     },
     "execution_count": 47,
     "metadata": {},
     "output_type": "execute_result"
    }
   ],
   "source": [
    "df.isnull().sum()"
   ]
  },
  {
   "cell_type": "code",
   "execution_count": 48,
   "metadata": {},
   "outputs": [
    {
     "data": {
      "text/plain": [
       "Gender\n",
       "Female    431\n",
       "Male      424\n",
       "Name: count, dtype: int64"
      ]
     },
     "execution_count": 48,
     "metadata": {},
     "output_type": "execute_result"
    }
   ],
   "source": [
    "df[\"Gender\"].value_counts()"
   ]
  },
  {
   "cell_type": "code",
   "execution_count": 51,
   "metadata": {},
   "outputs": [
    {
     "data": {
      "text/html": [
       "<div>\n",
       "<style scoped>\n",
       "    .dataframe tbody tr th:only-of-type {\n",
       "        vertical-align: middle;\n",
       "    }\n",
       "\n",
       "    .dataframe tbody tr th {\n",
       "        vertical-align: top;\n",
       "    }\n",
       "\n",
       "    .dataframe thead th {\n",
       "        text-align: right;\n",
       "    }\n",
       "</style>\n",
       "<table border=\"1\" class=\"dataframe\">\n",
       "  <thead>\n",
       "    <tr style=\"text-align: right;\">\n",
       "      <th></th>\n",
       "      <th>First Name</th>\n",
       "      <th>Gender</th>\n",
       "      <th>Start Date</th>\n",
       "      <th>Last Login Time</th>\n",
       "      <th>Salary</th>\n",
       "      <th>Bonus %</th>\n",
       "      <th>Senior Management</th>\n",
       "      <th>Team</th>\n",
       "    </tr>\n",
       "  </thead>\n",
       "  <tbody>\n",
       "    <tr>\n",
       "      <th>20</th>\n",
       "      <td>Lois</td>\n",
       "      <td>NaN</td>\n",
       "      <td>4/22/1995</td>\n",
       "      <td>7:18 PM</td>\n",
       "      <td>64714</td>\n",
       "      <td>4.934</td>\n",
       "      <td>True</td>\n",
       "      <td>Legal</td>\n",
       "    </tr>\n",
       "    <tr>\n",
       "      <th>22</th>\n",
       "      <td>Joshua</td>\n",
       "      <td>NaN</td>\n",
       "      <td>3/8/2012</td>\n",
       "      <td>1:58 AM</td>\n",
       "      <td>90816</td>\n",
       "      <td>18.816</td>\n",
       "      <td>True</td>\n",
       "      <td>Client Services</td>\n",
       "    </tr>\n",
       "    <tr>\n",
       "      <th>27</th>\n",
       "      <td>Scott</td>\n",
       "      <td>NaN</td>\n",
       "      <td>7/11/1991</td>\n",
       "      <td>6:58 PM</td>\n",
       "      <td>122367</td>\n",
       "      <td>5.218</td>\n",
       "      <td>False</td>\n",
       "      <td>Legal</td>\n",
       "    </tr>\n",
       "    <tr>\n",
       "      <th>31</th>\n",
       "      <td>Joyce</td>\n",
       "      <td>NaN</td>\n",
       "      <td>2/20/2005</td>\n",
       "      <td>2:40 PM</td>\n",
       "      <td>88657</td>\n",
       "      <td>12.752</td>\n",
       "      <td>False</td>\n",
       "      <td>Product</td>\n",
       "    </tr>\n",
       "    <tr>\n",
       "      <th>41</th>\n",
       "      <td>Christine</td>\n",
       "      <td>NaN</td>\n",
       "      <td>6/28/2015</td>\n",
       "      <td>1:08 AM</td>\n",
       "      <td>66582</td>\n",
       "      <td>11.308</td>\n",
       "      <td>True</td>\n",
       "      <td>Business Development</td>\n",
       "    </tr>\n",
       "    <tr>\n",
       "      <th>...</th>\n",
       "      <td>...</td>\n",
       "      <td>...</td>\n",
       "      <td>...</td>\n",
       "      <td>...</td>\n",
       "      <td>...</td>\n",
       "      <td>...</td>\n",
       "      <td>...</td>\n",
       "      <td>...</td>\n",
       "    </tr>\n",
       "    <tr>\n",
       "      <th>961</th>\n",
       "      <td>Antonio</td>\n",
       "      <td>NaN</td>\n",
       "      <td>6/18/1989</td>\n",
       "      <td>9:37 PM</td>\n",
       "      <td>103050</td>\n",
       "      <td>3.050</td>\n",
       "      <td>False</td>\n",
       "      <td>Legal</td>\n",
       "    </tr>\n",
       "    <tr>\n",
       "      <th>972</th>\n",
       "      <td>Victor</td>\n",
       "      <td>NaN</td>\n",
       "      <td>7/28/2006</td>\n",
       "      <td>2:49 PM</td>\n",
       "      <td>76381</td>\n",
       "      <td>11.159</td>\n",
       "      <td>True</td>\n",
       "      <td>Sales</td>\n",
       "    </tr>\n",
       "    <tr>\n",
       "      <th>985</th>\n",
       "      <td>Stephen</td>\n",
       "      <td>NaN</td>\n",
       "      <td>7/10/1983</td>\n",
       "      <td>8:10 PM</td>\n",
       "      <td>85668</td>\n",
       "      <td>1.909</td>\n",
       "      <td>False</td>\n",
       "      <td>Legal</td>\n",
       "    </tr>\n",
       "    <tr>\n",
       "      <th>989</th>\n",
       "      <td>Justin</td>\n",
       "      <td>NaN</td>\n",
       "      <td>2/10/1991</td>\n",
       "      <td>4:58 PM</td>\n",
       "      <td>38344</td>\n",
       "      <td>3.794</td>\n",
       "      <td>False</td>\n",
       "      <td>Legal</td>\n",
       "    </tr>\n",
       "    <tr>\n",
       "      <th>995</th>\n",
       "      <td>Henry</td>\n",
       "      <td>NaN</td>\n",
       "      <td>11/23/2014</td>\n",
       "      <td>6:09 AM</td>\n",
       "      <td>132483</td>\n",
       "      <td>16.655</td>\n",
       "      <td>False</td>\n",
       "      <td>Distribution</td>\n",
       "    </tr>\n",
       "  </tbody>\n",
       "</table>\n",
       "<p>145 rows × 8 columns</p>\n",
       "</div>"
      ],
      "text/plain": [
       "    First Name Gender  Start Date Last Login Time  Salary  Bonus %  \\\n",
       "20        Lois    NaN   4/22/1995         7:18 PM   64714    4.934   \n",
       "22      Joshua    NaN    3/8/2012         1:58 AM   90816   18.816   \n",
       "27       Scott    NaN   7/11/1991         6:58 PM  122367    5.218   \n",
       "31       Joyce    NaN   2/20/2005         2:40 PM   88657   12.752   \n",
       "41   Christine    NaN   6/28/2015         1:08 AM   66582   11.308   \n",
       "..         ...    ...         ...             ...     ...      ...   \n",
       "961    Antonio    NaN   6/18/1989         9:37 PM  103050    3.050   \n",
       "972     Victor    NaN   7/28/2006         2:49 PM   76381   11.159   \n",
       "985    Stephen    NaN   7/10/1983         8:10 PM   85668    1.909   \n",
       "989     Justin    NaN   2/10/1991         4:58 PM   38344    3.794   \n",
       "995      Henry    NaN  11/23/2014         6:09 AM  132483   16.655   \n",
       "\n",
       "    Senior Management                  Team  \n",
       "20               True                 Legal  \n",
       "22               True       Client Services  \n",
       "27              False                 Legal  \n",
       "31              False               Product  \n",
       "41               True  Business Development  \n",
       "..                ...                   ...  \n",
       "961             False                 Legal  \n",
       "972              True                 Sales  \n",
       "985             False                 Legal  \n",
       "989             False                 Legal  \n",
       "995             False          Distribution  \n",
       "\n",
       "[145 rows x 8 columns]"
      ]
     },
     "execution_count": 51,
     "metadata": {},
     "output_type": "execute_result"
    }
   ],
   "source": [
    "df[df[\"Gender\"].isnull()==True]"
   ]
  },
  {
   "cell_type": "code",
   "execution_count": 52,
   "metadata": {},
   "outputs": [
    {
     "data": {
      "text/plain": [
       "145"
      ]
     },
     "execution_count": 52,
     "metadata": {},
     "output_type": "execute_result"
    }
   ],
   "source": [
    "df[\"Gender\"].isnull().sum()"
   ]
  },
  {
   "cell_type": "code",
   "execution_count": 53,
   "metadata": {},
   "outputs": [
    {
     "data": {
      "text/html": [
       "<div>\n",
       "<style scoped>\n",
       "    .dataframe tbody tr th:only-of-type {\n",
       "        vertical-align: middle;\n",
       "    }\n",
       "\n",
       "    .dataframe tbody tr th {\n",
       "        vertical-align: top;\n",
       "    }\n",
       "\n",
       "    .dataframe thead th {\n",
       "        text-align: right;\n",
       "    }\n",
       "</style>\n",
       "<table border=\"1\" class=\"dataframe\">\n",
       "  <thead>\n",
       "    <tr style=\"text-align: right;\">\n",
       "      <th></th>\n",
       "      <th>First Name</th>\n",
       "      <th>Gender</th>\n",
       "      <th>Start Date</th>\n",
       "      <th>Last Login Time</th>\n",
       "      <th>Salary</th>\n",
       "      <th>Bonus %</th>\n",
       "      <th>Senior Management</th>\n",
       "      <th>Team</th>\n",
       "    </tr>\n",
       "  </thead>\n",
       "  <tbody>\n",
       "    <tr>\n",
       "      <th>0</th>\n",
       "      <td>Douglas</td>\n",
       "      <td>Male</td>\n",
       "      <td>8/6/1993</td>\n",
       "      <td>12:42 PM</td>\n",
       "      <td>97308</td>\n",
       "      <td>6.945</td>\n",
       "      <td>True</td>\n",
       "      <td>Marketing</td>\n",
       "    </tr>\n",
       "    <tr>\n",
       "      <th>1</th>\n",
       "      <td>Thomas</td>\n",
       "      <td>Male</td>\n",
       "      <td>3/31/1996</td>\n",
       "      <td>6:53 AM</td>\n",
       "      <td>61933</td>\n",
       "      <td>4.170</td>\n",
       "      <td>True</td>\n",
       "      <td>NaN</td>\n",
       "    </tr>\n",
       "    <tr>\n",
       "      <th>2</th>\n",
       "      <td>Maria</td>\n",
       "      <td>Female</td>\n",
       "      <td>4/23/1993</td>\n",
       "      <td>11:17 AM</td>\n",
       "      <td>130590</td>\n",
       "      <td>11.858</td>\n",
       "      <td>False</td>\n",
       "      <td>Finance</td>\n",
       "    </tr>\n",
       "  </tbody>\n",
       "</table>\n",
       "</div>"
      ],
      "text/plain": [
       "  First Name  Gender Start Date Last Login Time  Salary  Bonus %  \\\n",
       "0    Douglas    Male   8/6/1993        12:42 PM   97308    6.945   \n",
       "1     Thomas    Male  3/31/1996         6:53 AM   61933    4.170   \n",
       "2      Maria  Female  4/23/1993        11:17 AM  130590   11.858   \n",
       "\n",
       "  Senior Management       Team  \n",
       "0              True  Marketing  \n",
       "1              True        NaN  \n",
       "2             False    Finance  "
      ]
     },
     "execution_count": 53,
     "metadata": {},
     "output_type": "execute_result"
    }
   ],
   "source": [
    "df[0:3]"
   ]
  },
  {
   "cell_type": "code",
   "execution_count": 54,
   "metadata": {},
   "outputs": [
    {
     "data": {
      "text/html": [
       "<div>\n",
       "<style scoped>\n",
       "    .dataframe tbody tr th:only-of-type {\n",
       "        vertical-align: middle;\n",
       "    }\n",
       "\n",
       "    .dataframe tbody tr th {\n",
       "        vertical-align: top;\n",
       "    }\n",
       "\n",
       "    .dataframe thead th {\n",
       "        text-align: right;\n",
       "    }\n",
       "</style>\n",
       "<table border=\"1\" class=\"dataframe\">\n",
       "  <thead>\n",
       "    <tr style=\"text-align: right;\">\n",
       "      <th></th>\n",
       "      <th>First Name</th>\n",
       "      <th>Gender</th>\n",
       "      <th>Start Date</th>\n",
       "      <th>Last Login Time</th>\n",
       "      <th>Salary</th>\n",
       "      <th>Bonus %</th>\n",
       "      <th>Senior Management</th>\n",
       "      <th>Team</th>\n",
       "    </tr>\n",
       "  </thead>\n",
       "  <tbody>\n",
       "    <tr>\n",
       "      <th>0</th>\n",
       "      <td>Douglas</td>\n",
       "      <td>Male</td>\n",
       "      <td>8/6/1993</td>\n",
       "      <td>12:42 PM</td>\n",
       "      <td>97308</td>\n",
       "      <td>6.945</td>\n",
       "      <td>True</td>\n",
       "      <td>Marketing</td>\n",
       "    </tr>\n",
       "    <tr>\n",
       "      <th>1</th>\n",
       "      <td>Thomas</td>\n",
       "      <td>Male</td>\n",
       "      <td>3/31/1996</td>\n",
       "      <td>6:53 AM</td>\n",
       "      <td>61933</td>\n",
       "      <td>4.170</td>\n",
       "      <td>True</td>\n",
       "      <td>NaN</td>\n",
       "    </tr>\n",
       "    <tr>\n",
       "      <th>2</th>\n",
       "      <td>Maria</td>\n",
       "      <td>Female</td>\n",
       "      <td>4/23/1993</td>\n",
       "      <td>11:17 AM</td>\n",
       "      <td>130590</td>\n",
       "      <td>11.858</td>\n",
       "      <td>False</td>\n",
       "      <td>Finance</td>\n",
       "    </tr>\n",
       "    <tr>\n",
       "      <th>3</th>\n",
       "      <td>Jerry</td>\n",
       "      <td>Male</td>\n",
       "      <td>3/4/2005</td>\n",
       "      <td>1:00 PM</td>\n",
       "      <td>138705</td>\n",
       "      <td>9.340</td>\n",
       "      <td>True</td>\n",
       "      <td>Finance</td>\n",
       "    </tr>\n",
       "  </tbody>\n",
       "</table>\n",
       "</div>"
      ],
      "text/plain": [
       "  First Name  Gender Start Date Last Login Time  Salary  Bonus %  \\\n",
       "0    Douglas    Male   8/6/1993        12:42 PM   97308    6.945   \n",
       "1     Thomas    Male  3/31/1996         6:53 AM   61933    4.170   \n",
       "2      Maria  Female  4/23/1993        11:17 AM  130590   11.858   \n",
       "3      Jerry    Male   3/4/2005         1:00 PM  138705    9.340   \n",
       "\n",
       "  Senior Management       Team  \n",
       "0              True  Marketing  \n",
       "1              True        NaN  \n",
       "2             False    Finance  \n",
       "3              True    Finance  "
      ]
     },
     "execution_count": 54,
     "metadata": {},
     "output_type": "execute_result"
    }
   ],
   "source": [
    "df.loc[0:3]"
   ]
  },
  {
   "cell_type": "code",
   "execution_count": 57,
   "metadata": {},
   "outputs": [],
   "source": [
    "sal=df[\"Salary\"].mean()"
   ]
  },
  {
   "cell_type": "code",
   "execution_count": 64,
   "metadata": {},
   "outputs": [
    {
     "data": {
      "text/html": [
       "<div>\n",
       "<style scoped>\n",
       "    .dataframe tbody tr th:only-of-type {\n",
       "        vertical-align: middle;\n",
       "    }\n",
       "\n",
       "    .dataframe tbody tr th {\n",
       "        vertical-align: top;\n",
       "    }\n",
       "\n",
       "    .dataframe thead th {\n",
       "        text-align: right;\n",
       "    }\n",
       "</style>\n",
       "<table border=\"1\" class=\"dataframe\">\n",
       "  <thead>\n",
       "    <tr style=\"text-align: right;\">\n",
       "      <th></th>\n",
       "      <th>First Name</th>\n",
       "      <th>Gender</th>\n",
       "      <th>Start Date</th>\n",
       "      <th>Last Login Time</th>\n",
       "      <th>Salary</th>\n",
       "      <th>Bonus %</th>\n",
       "      <th>Senior Management</th>\n",
       "      <th>Team</th>\n",
       "    </tr>\n",
       "  </thead>\n",
       "  <tbody>\n",
       "    <tr>\n",
       "      <th>0</th>\n",
       "      <td>Douglas</td>\n",
       "      <td>Male</td>\n",
       "      <td>8/6/1993</td>\n",
       "      <td>12:42 PM</td>\n",
       "      <td>97308</td>\n",
       "      <td>6.945</td>\n",
       "      <td>True</td>\n",
       "      <td>Marketing</td>\n",
       "    </tr>\n",
       "    <tr>\n",
       "      <th>2</th>\n",
       "      <td>Maria</td>\n",
       "      <td>Female</td>\n",
       "      <td>4/23/1993</td>\n",
       "      <td>11:17 AM</td>\n",
       "      <td>130590</td>\n",
       "      <td>11.858</td>\n",
       "      <td>False</td>\n",
       "      <td>Finance</td>\n",
       "    </tr>\n",
       "    <tr>\n",
       "      <th>3</th>\n",
       "      <td>Jerry</td>\n",
       "      <td>Male</td>\n",
       "      <td>3/4/2005</td>\n",
       "      <td>1:00 PM</td>\n",
       "      <td>138705</td>\n",
       "      <td>9.340</td>\n",
       "      <td>True</td>\n",
       "      <td>Finance</td>\n",
       "    </tr>\n",
       "    <tr>\n",
       "      <th>4</th>\n",
       "      <td>Larry</td>\n",
       "      <td>Male</td>\n",
       "      <td>1/24/1998</td>\n",
       "      <td>4:47 PM</td>\n",
       "      <td>101004</td>\n",
       "      <td>1.389</td>\n",
       "      <td>True</td>\n",
       "      <td>Client Services</td>\n",
       "    </tr>\n",
       "    <tr>\n",
       "      <th>5</th>\n",
       "      <td>Dennis</td>\n",
       "      <td>Male</td>\n",
       "      <td>4/18/1987</td>\n",
       "      <td>1:35 AM</td>\n",
       "      <td>115163</td>\n",
       "      <td>10.125</td>\n",
       "      <td>False</td>\n",
       "      <td>Legal</td>\n",
       "    </tr>\n",
       "    <tr>\n",
       "      <th>...</th>\n",
       "      <td>...</td>\n",
       "      <td>...</td>\n",
       "      <td>...</td>\n",
       "      <td>...</td>\n",
       "      <td>...</td>\n",
       "      <td>...</td>\n",
       "      <td>...</td>\n",
       "      <td>...</td>\n",
       "    </tr>\n",
       "    <tr>\n",
       "      <th>992</th>\n",
       "      <td>Anthony</td>\n",
       "      <td>Male</td>\n",
       "      <td>10/16/2011</td>\n",
       "      <td>8:35 AM</td>\n",
       "      <td>112769</td>\n",
       "      <td>11.625</td>\n",
       "      <td>True</td>\n",
       "      <td>Finance</td>\n",
       "    </tr>\n",
       "    <tr>\n",
       "      <th>994</th>\n",
       "      <td>George</td>\n",
       "      <td>Male</td>\n",
       "      <td>6/21/2013</td>\n",
       "      <td>5:47 PM</td>\n",
       "      <td>98874</td>\n",
       "      <td>4.479</td>\n",
       "      <td>True</td>\n",
       "      <td>Marketing</td>\n",
       "    </tr>\n",
       "    <tr>\n",
       "      <th>995</th>\n",
       "      <td>Henry</td>\n",
       "      <td>NaN</td>\n",
       "      <td>11/23/2014</td>\n",
       "      <td>6:09 AM</td>\n",
       "      <td>132483</td>\n",
       "      <td>16.655</td>\n",
       "      <td>False</td>\n",
       "      <td>Distribution</td>\n",
       "    </tr>\n",
       "    <tr>\n",
       "      <th>997</th>\n",
       "      <td>Russell</td>\n",
       "      <td>Male</td>\n",
       "      <td>5/20/2013</td>\n",
       "      <td>12:39 PM</td>\n",
       "      <td>96914</td>\n",
       "      <td>1.421</td>\n",
       "      <td>False</td>\n",
       "      <td>Product</td>\n",
       "    </tr>\n",
       "    <tr>\n",
       "      <th>999</th>\n",
       "      <td>Albert</td>\n",
       "      <td>Male</td>\n",
       "      <td>5/15/2012</td>\n",
       "      <td>6:24 PM</td>\n",
       "      <td>129949</td>\n",
       "      <td>10.169</td>\n",
       "      <td>True</td>\n",
       "      <td>Sales</td>\n",
       "    </tr>\n",
       "  </tbody>\n",
       "</table>\n",
       "<p>497 rows × 8 columns</p>\n",
       "</div>"
      ],
      "text/plain": [
       "    First Name  Gender  Start Date Last Login Time  Salary  Bonus %  \\\n",
       "0      Douglas    Male    8/6/1993        12:42 PM   97308    6.945   \n",
       "2        Maria  Female   4/23/1993        11:17 AM  130590   11.858   \n",
       "3        Jerry    Male    3/4/2005         1:00 PM  138705    9.340   \n",
       "4        Larry    Male   1/24/1998         4:47 PM  101004    1.389   \n",
       "5       Dennis    Male   4/18/1987         1:35 AM  115163   10.125   \n",
       "..         ...     ...         ...             ...     ...      ...   \n",
       "992    Anthony    Male  10/16/2011         8:35 AM  112769   11.625   \n",
       "994     George    Male   6/21/2013         5:47 PM   98874    4.479   \n",
       "995      Henry     NaN  11/23/2014         6:09 AM  132483   16.655   \n",
       "997    Russell    Male   5/20/2013        12:39 PM   96914    1.421   \n",
       "999     Albert    Male   5/15/2012         6:24 PM  129949   10.169   \n",
       "\n",
       "    Senior Management             Team  \n",
       "0                True        Marketing  \n",
       "2               False          Finance  \n",
       "3                True          Finance  \n",
       "4                True  Client Services  \n",
       "5               False            Legal  \n",
       "..                ...              ...  \n",
       "992              True          Finance  \n",
       "994              True        Marketing  \n",
       "995             False     Distribution  \n",
       "997             False          Product  \n",
       "999              True            Sales  \n",
       "\n",
       "[497 rows x 8 columns]"
      ]
     },
     "execution_count": 64,
     "metadata": {},
     "output_type": "execute_result"
    }
   ],
   "source": [
    "df[df[\"Salary\"]>sal]"
   ]
  },
  {
   "cell_type": "code",
   "execution_count": 65,
   "metadata": {},
   "outputs": [
    {
     "data": {
      "text/plain": [
       "0        Male\n",
       "1        Male\n",
       "2      Female\n",
       "3        Male\n",
       "4        Male\n",
       "        ...  \n",
       "995    Female\n",
       "996      Male\n",
       "997      Male\n",
       "998      Male\n",
       "999      Male\n",
       "Name: Gender, Length: 1000, dtype: object"
      ]
     },
     "execution_count": 65,
     "metadata": {},
     "output_type": "execute_result"
    }
   ],
   "source": [
    "df[\"Gender\"]=df[\"Gender\"].fillna(\"Female\")"
   ]
  },
  {
   "cell_type": "code",
   "execution_count": 66,
   "metadata": {},
   "outputs": [
    {
     "data": {
      "text/plain": [
       "First Name            67\n",
       "Gender               145\n",
       "Start Date             0\n",
       "Last Login Time        0\n",
       "Salary                 0\n",
       "Bonus %                0\n",
       "Senior Management     67\n",
       "Team                  43\n",
       "dtype: int64"
      ]
     },
     "execution_count": 66,
     "metadata": {},
     "output_type": "execute_result"
    }
   ],
   "source": [
    "df.isnull().sum()"
   ]
  },
  {
   "cell_type": "code",
   "execution_count": 67,
   "metadata": {},
   "outputs": [
    {
     "data": {
      "text/plain": [
       "Index(['First Name', 'Gender', 'Start Date', 'Last Login Time', 'Salary',\n",
       "       'Bonus %', 'Senior Management', 'Team'],\n",
       "      dtype='object')"
      ]
     },
     "execution_count": 67,
     "metadata": {},
     "output_type": "execute_result"
    }
   ],
   "source": [
    "df.columns"
   ]
  },
  {
   "cell_type": "code",
   "execution_count": 77,
   "metadata": {},
   "outputs": [
    {
     "data": {
      "text/plain": [
       "(1000, 7)"
      ]
     },
     "execution_count": 77,
     "metadata": {},
     "output_type": "execute_result"
    }
   ],
   "source": [
    "df.shape"
   ]
  },
  {
   "cell_type": "code",
   "execution_count": 78,
   "metadata": {},
   "outputs": [
    {
     "data": {
      "text/plain": [
       "Index(['Gender', 'Start Date', 'Last Login Time', 'Salary', 'Bonus %',\n",
       "       'Senior Management', 'Team'],\n",
       "      dtype='object')"
      ]
     },
     "execution_count": 78,
     "metadata": {},
     "output_type": "execute_result"
    }
   ],
   "source": [
    "df.columns"
   ]
  },
  {
   "cell_type": "code",
   "execution_count": 85,
   "metadata": {},
   "outputs": [
    {
     "data": {
      "text/plain": [
       "972"
      ]
     },
     "execution_count": 85,
     "metadata": {},
     "output_type": "execute_result"
    }
   ],
   "source": [
    "len(df[\"Start Date\"].unique())"
   ]
  },
  {
   "cell_type": "code",
   "execution_count": 86,
   "metadata": {},
   "outputs": [
    {
     "data": {
      "text/plain": [
       "array(['8/6/1993', '3/31/1996', '4/23/1993', '3/4/2005', '1/24/1998',\n",
       "       '4/18/1987', '8/17/1987', '7/20/2015', '11/22/2005', '8/8/2002',\n",
       "       '8/12/1980', '10/26/1997', '12/1/1980', '1/27/2008', '1/14/1999',\n",
       "       '6/5/2016', '9/21/2010', '12/7/1986', '10/23/1981', '7/22/2010',\n",
       "       '4/22/1995', '9/5/1995', '3/8/2012', '6/14/2012', '7/1/1992',\n",
       "       '10/8/2012', '2/27/2000', '7/11/1991', '11/27/1981', '1/26/2005',\n",
       "       '8/6/2002', '2/20/2005', '8/21/1998', '12/18/1993', '1/10/2004',\n",
       "       '10/10/2006', '2/16/2009', '10/19/1981', '9/13/1986', '1/29/2016',\n",
       "       '10/10/2008', '6/28/2015', '9/9/1998', '12/7/1980', '11/16/1988',\n",
       "       '4/17/1980', '11/28/2009', '6/22/2005', '3/26/1996', '1/24/1980',\n",
       "       '9/23/2000', '12/17/2011', '2/18/1990', '3/3/2014', '8/15/2007',\n",
       "       '11/30/1999', '5/3/2006', '6/26/1996', '4/11/2010', '5/7/1997',\n",
       "       '11/23/2005', '11/6/2001', '6/12/2007', '1/2/2013', '4/11/1990',\n",
       "       '11/11/2009', '12/15/2012', '8/16/1999', '10/30/2004', '7/14/2015',\n",
       "       '6/10/2003', '11/6/2009', '5/7/2007', '4/4/1999', '6/4/1995',\n",
       "       '7/2/1991', '9/10/1988', '9/14/2004', '6/4/1983', '11/13/1988',\n",
       "       '3/17/1995', '3/30/2008', '3/30/1980', '9/23/2005', '8/20/2004',\n",
       "       '2/1/2008', '9/29/2007', '1/30/1993', '11/27/1991', '3/12/2016',\n",
       "       '8/21/1997', '5/25/2000', '5/7/1994', '8/26/1981', '7/11/1998',\n",
       "       '3/21/1994', '7/19/2014', '6/16/2016', '1/2/1985', '6/21/2005',\n",
       "       '2/17/2012', '1/12/1997', '10/11/1996', '12/23/1989', '3/9/1996',\n",
       "       '8/4/1993', '4/23/2013', '5/5/1988', '4/22/2000', '6/20/2001',\n",
       "       '12/17/1999', '11/27/2003', '6/12/2009', '8/4/2002', '7/1/1982',\n",
       "       '6/22/1991', '3/1/1995', '1/12/2012', '6/3/2008', '11/17/1994',\n",
       "       '5/9/2016', '4/13/2012', '11/29/2001', '11/16/1983', '9/1/2003',\n",
       "       '3/30/1984', '9/29/2002', '8/25/1987', '10/25/1988', '5/1/1984',\n",
       "       '7/10/1992', '1/4/1995', '12/25/1987', '4/9/2011', '6/29/2007',\n",
       "       '4/24/1995', '5/21/2011', '5/25/2006', '10/3/1990', '2/28/1981',\n",
       "       '12/24/1990', '10/9/2003', '1/28/2016', '3/5/1982', '4/4/2009',\n",
       "       '11/25/1992', '7/17/2008', '7/14/1991', '8/17/2014', '5/4/1996',\n",
       "       '11/3/1997', '8/19/1999', '3/10/2011', '11/15/1980', '3/16/2003',\n",
       "       '4/27/1992', '7/27/2005', '2/28/1999', '11/22/1983', '3/18/2000',\n",
       "       '8/22/1999', '4/13/1998', '9/3/1990', '8/13/1999', '3/23/2014',\n",
       "       '7/9/1991', '12/24/2011', '9/3/1987', '11/4/1996', '1/29/1992',\n",
       "       '8/17/2007', '9/23/1991', '12/21/2008', '9/18/2007', '2/17/1998',\n",
       "       '1/8/2003', '4/7/2012', '9/3/1997', '10/23/1995', '4/12/2008',\n",
       "       '11/14/1999', '6/19/1999', '5/18/1999', '12/18/2003', '1/19/1983',\n",
       "       '2/23/2005', '11/19/2004', '10/14/2000', '5/2/1998', '3/19/1996',\n",
       "       '10/18/2013', '5/3/2003', '2/18/1995', '1/30/2004', '4/30/2014',\n",
       "       '11/10/1985', '11/6/2012', '12/27/1990', '7/17/2009', '8/12/1987',\n",
       "       '7/15/1997', '11/8/1982', '1/4/2013', '6/6/2006', '3/27/2006',\n",
       "       '12/6/2012', '10/12/1987', '9/20/2007', '8/12/1986', '6/24/2006',\n",
       "       '11/2/2009', '5/24/1980', '7/23/1989', '5/30/2009', '7/31/2013',\n",
       "       '9/3/1999', '6/15/1992', '3/13/1995', '6/17/1991', '1/29/2000',\n",
       "       '10/17/1999', '4/30/2010', '9/14/1995', '10/1/2015', '4/19/1995',\n",
       "       '4/13/1999', '9/23/1994', '6/8/2000', '2/24/1988', '4/18/1993',\n",
       "       '4/4/1997', '2/4/2004', '2/4/1982', '2/11/2015', '4/2/2006',\n",
       "       '9/23/2008', '3/25/1982', '5/12/2016', '4/21/1984', '7/6/1983',\n",
       "       '10/27/1990', '10/7/1986', '10/8/1996', '4/11/1991', '12/2/1984',\n",
       "       '7/27/2010', '12/6/1992', '6/12/2002', '2/6/1986', '3/1/1990',\n",
       "       '11/11/2004', '4/28/2003', '5/27/1985', '3/20/2009', '3/13/1998',\n",
       "       '11/25/1999', '1/24/2002', '2/6/1995', '3/27/2007', '8/6/1995',\n",
       "       '7/16/1986', '11/21/1985', '3/24/1983', '9/23/2004', '8/5/2009',\n",
       "       '2/4/2005', '3/3/1982', '8/2/1992', '4/6/2011', '11/20/2001',\n",
       "       '2/20/1980', '4/12/1994', '10/5/1982', '2/22/1994', '7/3/1989',\n",
       "       '5/29/1991', '6/28/2005', '11/8/2000', '7/12/1997', '1/1/2014',\n",
       "       '2/7/2014', '3/11/2009', '10/6/2005', '9/16/1997', '2/2/1984',\n",
       "       '11/9/2011', '12/21/1999', '9/27/1985', '6/14/1988', '11/11/1984',\n",
       "       '3/7/2000', '10/25/1999', '10/20/1999', '3/2/1981', '11/10/1996',\n",
       "       '9/15/2007', '8/30/2004', '1/13/1988', '6/26/1988', '7/11/2015',\n",
       "       '7/5/2007', '7/25/1980', '8/12/1981', '2/6/1993', '4/1/1984',\n",
       "       '9/26/1981', '9/8/2009', '9/11/1984', '2/20/1990', '1/18/2002',\n",
       "       '4/16/2001', '7/1/1991', '9/1/1995', '10/3/2013', '12/18/2013',\n",
       "       '8/6/2006', '11/25/1981', '7/8/2008', '3/23/1986', '1/8/2002',\n",
       "       '12/16/1990', '12/10/1988', '1/2/2005', '6/18/1997', '1/29/1994',\n",
       "       '12/19/1991', '1/27/2010', '3/16/2014', '9/3/1983', '2/13/1987',\n",
       "       '6/8/1986', '5/23/2011', '11/18/2014', '1/22/2007', '1/5/2000',\n",
       "       '9/27/2005', '11/22/1991', '5/12/2009', '9/19/2007', '10/20/2011',\n",
       "       '2/24/2009', '11/21/2006', '11/22/1998', '3/31/1988', '8/2/1989',\n",
       "       '11/24/2005', '8/31/1995', '12/3/2012', '10/9/2011', '4/22/1997',\n",
       "       '11/10/2005', '9/14/2003', '2/1/1990', '8/13/2014', '5/22/1994',\n",
       "       '9/25/2004', '5/5/2014', '11/9/2009', '4/15/2005', '4/16/2002',\n",
       "       '7/19/1983', '1/24/1989', '8/4/1989', '12/17/1982', '10/18/2009',\n",
       "       '7/15/2009', '8/27/2003', '2/1/1997', '12/31/2006', '7/9/2011',\n",
       "       '10/16/2015', '4/9/1987', '10/30/1994', '9/18/2002', '7/15/2001',\n",
       "       '8/3/1996', '4/18/1996', '7/28/2010', '12/24/1980', '1/19/2010',\n",
       "       '1/15/1995', '10/29/1994', '9/19/1989', '10/28/1984', '4/26/2001',\n",
       "       '8/15/1989', '10/27/2010', '12/5/1996', '1/8/1998', '11/25/2001',\n",
       "       '7/6/2002', '1/13/2005', '7/29/1992', '6/9/1988', '3/16/2004',\n",
       "       '4/16/1996', '11/28/1992', '2/8/1984', '7/20/1990', '3/9/2014',\n",
       "       '8/22/2010', '2/23/2002', '12/5/2010', '5/29/1994', '8/14/2012',\n",
       "       '6/23/1981', '2/11/2007', '9/14/1992', '8/18/2011', '11/16/1990',\n",
       "       '6/29/2008', '8/31/1981', '3/2/1982', '11/5/2013', '5/22/1986',\n",
       "       '11/20/1986', '9/24/2005', '11/25/1980', '6/9/2003', '5/2/1986',\n",
       "       '3/16/2016', '1/10/1981', '5/13/1999', '5/28/2015', '10/1/2010',\n",
       "       '12/16/1999', '3/7/2015', '7/20/2008', '2/7/1995', '12/1/2006',\n",
       "       '8/29/2007', '3/18/2001', '11/20/1998', '3/1/2013', '7/22/1990',\n",
       "       '5/13/2003', '4/23/1998', '5/8/1987', '5/24/2016', '12/12/2006',\n",
       "       '8/16/1994', '5/15/2009', '1/30/1992', '11/30/2005', '8/22/2009',\n",
       "       '7/15/2016', '11/17/2012', '12/19/1994', '2/21/1995', '10/24/2000',\n",
       "       '2/3/1983', '1/9/2015', '9/30/2007', '3/1/1987', '1/17/2005',\n",
       "       '8/9/2001', '4/14/1996', '7/11/2002', '5/13/2005', '10/31/1997',\n",
       "       '8/4/2007', '6/19/2002', '6/28/1997', '5/9/2015', '7/20/1993',\n",
       "       '3/12/2002', '7/10/1984', '8/20/1992', '8/15/2002', '11/26/1992',\n",
       "       '10/25/1996', '8/14/2008', '5/22/2011', '7/4/1997', '4/27/2013',\n",
       "       '5/3/1995', '4/26/1992', '4/14/2000', '8/15/1997', '4/9/2012',\n",
       "       '12/3/2014', '3/11/2007', '7/1/2011', '11/23/2007', '9/9/1989',\n",
       "       '1/30/1995', '11/1/2005', '3/21/2002', '5/24/1984', '2/26/2016',\n",
       "       '5/5/2013', '6/13/1994', '12/10/1980', '2/1/2003', '2/11/2013',\n",
       "       '11/3/1980', '8/3/2015', '6/24/2014', '4/20/1980', '7/14/1995',\n",
       "       '11/3/2015', '11/23/1996', '11/4/1984', '4/27/2003', '7/4/1983',\n",
       "       '4/6/1993', '11/19/2013', '12/25/1984', '1/8/1999', '4/12/1992',\n",
       "       '12/12/1996', '1/19/1995', '2/22/2003', '9/25/1981', '8/31/2013',\n",
       "       '7/5/1982', '10/13/2014', '8/22/1995', '3/22/2004', '12/2/1993',\n",
       "       '8/26/1983', '4/23/2014', '6/13/2014', '5/2/2010', '2/26/2005',\n",
       "       '2/11/2014', '1/8/1992', '9/18/1981', '8/26/1982', '9/14/1991',\n",
       "       '10/8/2010', '9/6/1999', '12/2/2009', '5/1/1999', '8/1/2004',\n",
       "       '4/15/2008', '7/3/2010', '2/4/1999', '9/10/1992', '9/22/1998',\n",
       "       '1/2/1984', '2/25/1980', '6/18/1984', '7/18/1985', '9/2/1991',\n",
       "       '6/7/2002', '10/25/1985', '10/26/1996', '12/16/2014', '6/1/1994',\n",
       "       '8/18/1985', '11/17/1999', '12/3/2009', '9/20/1996', '10/7/1983',\n",
       "       '5/2/2002', '3/29/1985', '8/9/2006', '1/8/1995', '4/1/1980',\n",
       "       '4/18/1986', '7/7/1980', '8/16/1996', '4/6/1995', '1/13/1996',\n",
       "       '12/30/1981', '1/13/2009', '1/22/1995', '7/30/1993', '5/4/2003',\n",
       "       '3/17/1982', '10/18/2010', '1/27/1985', '1/28/1990', '11/19/1982',\n",
       "       '2/2/1988', '5/30/2012', '4/16/1988', '7/23/1982', '5/23/1980',\n",
       "       '4/22/1988', '5/24/1981', '11/23/2000', '4/15/2011', '5/7/1985',\n",
       "       '10/3/1984', '6/24/1987', '7/21/2001', '10/11/1990', '12/20/1994',\n",
       "       '6/15/1980', '7/21/2003', '10/26/1991', '3/15/2013', '5/20/1982',\n",
       "       '2/21/1981', '10/13/1983', '10/24/1993', '2/16/2010', '2/16/1981',\n",
       "       '10/21/2000', '1/3/1992', '11/12/2004', '8/30/2001', '12/6/1986',\n",
       "       '1/14/2001', '11/24/1992', '10/22/1990', '3/7/2012', '8/10/1997',\n",
       "       '6/23/2005', '11/29/2006', '11/26/1997', '6/29/2015', '4/13/1997',\n",
       "       '11/21/1984', '9/2/1988', '3/12/1983', '7/13/1988', '3/6/2008',\n",
       "       '2/23/1990', '11/17/2011', '3/30/1987', '9/27/2000', '7/2/1984',\n",
       "       '9/2/2009', '11/12/1996', '8/11/1991', '8/28/2004', '1/25/1995',\n",
       "       '3/16/2010', '9/29/1987', '8/13/1996', '3/13/1985', '2/21/2010',\n",
       "       '4/6/1988', '11/15/1999', '2/17/2004', '7/5/1986', '12/5/2009',\n",
       "       '5/28/2006', '12/14/1984', '9/24/2007', '2/9/1982', '3/5/2000',\n",
       "       '10/19/1986', '8/27/2009', '12/24/1986', '8/21/1995', '12/19/2000',\n",
       "       '8/31/1989', '10/6/2010', '2/13/2013', '2/4/2009', '12/5/2001',\n",
       "       '3/28/1982', '9/14/2001', '7/12/2000', '11/5/1982', '3/24/1996',\n",
       "       '8/28/2012', '10/30/2009', '6/6/1992', '9/20/1994', '4/17/1984',\n",
       "       '9/11/2002', '6/17/1992', '11/23/2002', '4/23/2000', '12/20/2005',\n",
       "       '1/21/2016', '10/20/1989', '2/18/2011', '12/27/1996', '4/7/2007',\n",
       "       '5/8/1980', '1/28/2007', '10/2/2007', '5/15/2007', '10/16/1995',\n",
       "       '11/12/2011', '4/6/1999', '5/25/2012', '5/23/1990', '8/2/2002',\n",
       "       '5/19/1984', '3/2/2009', '9/16/2005', '3/17/2011', '5/31/2004',\n",
       "       '9/7/1991', '9/23/2015', '7/4/1993', '3/7/1998', '1/11/2002',\n",
       "       '4/7/1995', '11/27/1997', '1/9/2014', '2/6/2001', '9/28/1994',\n",
       "       '7/30/1984', '3/22/1982', '6/15/1993', '4/15/1988', '10/21/2010',\n",
       "       '1/29/1999', '4/8/1983', '4/16/2010', '6/27/1997', '9/5/1992',\n",
       "       '12/10/2001', '5/19/1991', '2/29/2016', '5/10/2004', '10/8/2008',\n",
       "       '9/7/1986', '4/26/2009', '7/16/2001', '5/12/1986', '6/17/2009',\n",
       "       '12/18/1994', '11/26/2002', '4/5/2011', '7/23/2011', '10/10/2010',\n",
       "       '1/25/1981', '5/9/2009', '7/10/1999', '2/25/2016', '5/30/1980',\n",
       "       '7/15/2011', '2/16/2008', '8/19/2004', '6/30/2001', '7/17/1997',\n",
       "       '1/25/1986', '2/5/1983', '8/6/1999', '2/23/2007', '6/6/1999',\n",
       "       '4/11/2007', '2/19/1984', '10/21/1984', '4/12/1988', '8/18/2007',\n",
       "       '9/2/1980', '12/29/2006', '3/31/2015', '11/10/2004', '7/27/2008',\n",
       "       '5/2/1988', '4/23/1995', '7/25/1991', '7/12/2008', '3/26/2004',\n",
       "       '10/7/2002', '9/22/2006', '5/22/1991', '8/14/2009', '10/24/1986',\n",
       "       '6/18/2000', '11/3/1999', '9/30/2004', '4/20/1986', '12/28/2003',\n",
       "       '9/8/1984', '7/5/2009', '7/3/1995', '5/6/1986', '4/15/1991',\n",
       "       '9/14/1982', '7/24/1982', '9/7/1989', '7/1/2005', '3/31/2012',\n",
       "       '7/8/2000', '3/3/1989', '11/4/1982', '7/22/1999', '3/1/2004',\n",
       "       '10/7/1995', '8/31/1986', '12/31/1982', '10/1/1984', '12/12/1986',\n",
       "       '8/5/1989', '1/12/1992', '7/28/2012', '3/17/2008', '5/3/1990',\n",
       "       '1/29/2008', '11/6/2011', '3/8/1980', '9/27/1995', '2/10/2000',\n",
       "       '9/3/1989', '12/13/1994', '2/10/2002', '6/23/2011', '1/18/1986',\n",
       "       '3/17/2007', '5/31/2008', '10/3/1980', '12/14/1985', '11/18/1993',\n",
       "       '12/27/1980', '2/26/2009', '11/12/2009', '8/18/2014', '12/4/2000',\n",
       "       '8/1/1988', '7/16/2014', '7/12/2006', '1/14/2007', '8/31/2002',\n",
       "       '1/15/2015', '2/12/2003', '5/28/2010', '2/11/1982', '3/17/2004',\n",
       "       '5/23/1985', '4/6/2000', '7/25/2001', '8/26/2002', '8/13/2006',\n",
       "       '2/7/1998', '2/26/1982', '6/19/1985', '1/3/1981', '9/10/1990',\n",
       "       '5/2/1981', '6/5/1984', '9/6/1997', '8/19/1996', '4/6/2007',\n",
       "       '2/10/1985', '10/20/2003', '1/18/2006', '12/8/1993', '4/25/2006',\n",
       "       '10/1/2012', '10/7/1984', '3/26/1989', '5/25/1983', '5/15/1984',\n",
       "       '11/16/2012', '8/29/1997', '8/25/2004', '6/15/2013', '8/18/2013',\n",
       "       '8/3/1995', '11/19/1996', '3/29/2003', '1/18/2015', '5/1/1998',\n",
       "       '9/8/1994', '4/11/1998', '9/11/1992', '9/5/1980', '5/25/2003',\n",
       "       '5/20/2009', '5/25/2007', '1/28/1980', '10/27/1995', '10/17/2003',\n",
       "       '10/6/1993', '1/30/2014', '10/8/2007', '1/4/2001', '11/24/2015',\n",
       "       '8/25/1991', '7/27/2013', '11/19/2002', '11/19/1991', '3/10/2010',\n",
       "       '2/28/1994', '4/27/2012', '5/21/1992', '6/23/2002', '10/10/1995',\n",
       "       '5/23/2001', '7/29/1983', '2/9/2013', '5/16/2014', '7/27/1998',\n",
       "       '12/17/2009', '8/1/1991', '10/22/2002', '7/7/2010', '12/8/1998',\n",
       "       '12/11/2015', '9/28/2001', '1/4/1983', '1/16/1996', '3/13/2008',\n",
       "       '4/27/1999', '3/21/2009', '1/2/2002', '6/5/2015', '12/5/2013',\n",
       "       '2/28/1991', '11/11/2003', '8/23/2000', '3/11/2005', '9/20/1986',\n",
       "       '4/27/2001', '9/10/2001', '6/23/2012', '12/23/2008', '7/5/1993',\n",
       "       '8/7/1997', '3/23/1996', '3/14/2003', '1/22/1986', '9/9/2006',\n",
       "       '7/28/1995', '9/28/1990', '6/26/1997', '11/20/2015', '9/8/2006',\n",
       "       '5/10/2006', '4/15/1989', '9/15/1985', '7/30/2012', '3/31/2006',\n",
       "       '8/20/2011', '5/21/1983', '9/14/2010', '1/22/2013', '2/25/2012',\n",
       "       '1/19/1980', '10/17/1986', '2/3/1984', '10/24/1987', '9/19/1992',\n",
       "       '10/29/1989', '6/18/1989', '8/21/2013', '5/7/1980', '9/25/1989',\n",
       "       '8/16/2011', '3/27/1995', '2/4/2010', '9/3/1988', '12/30/2002',\n",
       "       '7/28/2006', '5/10/2013', '8/30/2011', '10/19/1992', '12/4/1995',\n",
       "       '1/17/1983', '7/20/2013', '1/26/2013', '1/15/1993', '4/6/1982',\n",
       "       '12/23/1982', '10/15/2011', '7/10/1983', '11/26/1982', '12/8/2014',\n",
       "       '10/5/2004', '2/10/1991', '7/24/1987', '8/25/2002', '10/16/2011',\n",
       "       '5/15/1997', '6/21/2013', '11/23/2014', '1/31/1984', '5/20/2013',\n",
       "       '4/20/2013', '5/15/2012'], dtype=object)"
      ]
     },
     "execution_count": 86,
     "metadata": {},
     "output_type": "execute_result"
    }
   ],
   "source": [
    "df[\"Start Date\"].unique()"
   ]
  },
  {
   "cell_type": "code",
   "execution_count": 89,
   "metadata": {},
   "outputs": [],
   "source": [
    "a=df[\"Salary\"]"
   ]
  },
  {
   "cell_type": "code",
   "execution_count": 104,
   "metadata": {},
   "outputs": [],
   "source": [
    "df.drop(columns=[\"Last Login Time\"],inplace=True,axis=0)"
   ]
  },
  {
   "cell_type": "code",
   "execution_count": 105,
   "metadata": {},
   "outputs": [
    {
     "data": {
      "text/html": [
       "<div>\n",
       "<style scoped>\n",
       "    .dataframe tbody tr th:only-of-type {\n",
       "        vertical-align: middle;\n",
       "    }\n",
       "\n",
       "    .dataframe tbody tr th {\n",
       "        vertical-align: top;\n",
       "    }\n",
       "\n",
       "    .dataframe thead th {\n",
       "        text-align: right;\n",
       "    }\n",
       "</style>\n",
       "<table border=\"1\" class=\"dataframe\">\n",
       "  <thead>\n",
       "    <tr style=\"text-align: right;\">\n",
       "      <th></th>\n",
       "      <th>Gender</th>\n",
       "      <th>Start Date</th>\n",
       "      <th>Salary</th>\n",
       "      <th>Bonus %</th>\n",
       "      <th>Senior Management</th>\n",
       "      <th>Team</th>\n",
       "    </tr>\n",
       "  </thead>\n",
       "  <tbody>\n",
       "    <tr>\n",
       "      <th>0</th>\n",
       "      <td>Male</td>\n",
       "      <td>8/6/1993</td>\n",
       "      <td>97308</td>\n",
       "      <td>6.945</td>\n",
       "      <td>True</td>\n",
       "      <td>Marketing</td>\n",
       "    </tr>\n",
       "    <tr>\n",
       "      <th>1</th>\n",
       "      <td>Male</td>\n",
       "      <td>3/31/1996</td>\n",
       "      <td>61933</td>\n",
       "      <td>4.170</td>\n",
       "      <td>True</td>\n",
       "      <td>NaN</td>\n",
       "    </tr>\n",
       "    <tr>\n",
       "      <th>2</th>\n",
       "      <td>Female</td>\n",
       "      <td>4/23/1993</td>\n",
       "      <td>130590</td>\n",
       "      <td>11.858</td>\n",
       "      <td>False</td>\n",
       "      <td>Finance</td>\n",
       "    </tr>\n",
       "    <tr>\n",
       "      <th>3</th>\n",
       "      <td>Male</td>\n",
       "      <td>3/4/2005</td>\n",
       "      <td>138705</td>\n",
       "      <td>9.340</td>\n",
       "      <td>True</td>\n",
       "      <td>Finance</td>\n",
       "    </tr>\n",
       "    <tr>\n",
       "      <th>4</th>\n",
       "      <td>Male</td>\n",
       "      <td>1/24/1998</td>\n",
       "      <td>101004</td>\n",
       "      <td>1.389</td>\n",
       "      <td>True</td>\n",
       "      <td>Client Services</td>\n",
       "    </tr>\n",
       "  </tbody>\n",
       "</table>\n",
       "</div>"
      ],
      "text/plain": [
       "   Gender Start Date  Salary  Bonus % Senior Management             Team\n",
       "0    Male   8/6/1993   97308    6.945              True        Marketing\n",
       "1    Male  3/31/1996   61933    4.170              True              NaN\n",
       "2  Female  4/23/1993  130590   11.858             False          Finance\n",
       "3    Male   3/4/2005  138705    9.340              True          Finance\n",
       "4    Male  1/24/1998  101004    1.389              True  Client Services"
      ]
     },
     "execution_count": 105,
     "metadata": {},
     "output_type": "execute_result"
    }
   ],
   "source": [
    "df.head()"
   ]
  },
  {
   "cell_type": "code",
   "execution_count": 110,
   "metadata": {},
   "outputs": [
    {
     "data": {
      "text/plain": [
       "Gender               145\n",
       "Start Date             0\n",
       "Salary $               0\n",
       "Bonus %                0\n",
       "Senior Management     67\n",
       "Team                  43\n",
       "dtype: int64"
      ]
     },
     "execution_count": 110,
     "metadata": {},
     "output_type": "execute_result"
    }
   ],
   "source": [
    "df.isnull().sum()"
   ]
  },
  {
   "cell_type": "code",
   "execution_count": null,
   "metadata": {},
   "outputs": [],
   "source": []
  }
 ],
 "metadata": {
  "kernelspec": {
   "display_name": "Python 3",
   "language": "python",
   "name": "python3"
  },
  "language_info": {
   "codemirror_mode": {
    "name": "ipython",
    "version": 3
   },
   "file_extension": ".py",
   "mimetype": "text/x-python",
   "name": "python",
   "nbconvert_exporter": "python",
   "pygments_lexer": "ipython3",
   "version": "3.8.16"
  }
 },
 "nbformat": 4,
 "nbformat_minor": 2
}
