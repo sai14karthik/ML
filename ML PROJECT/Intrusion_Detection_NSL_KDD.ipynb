{
  "cells": [
    {
      "cell_type": "markdown",
      "metadata": {
        "id": "sPx2-RWSDKBX"
      },
      "source": [
        "# **Data Preprocessing**"
      ]
    },
    {
      "cell_type": "code",
      "execution_count": 3,
      "metadata": {
        "id": "6kZdajRmA1Pk"
      },
      "outputs": [],
      "source": [
        "import numpy as np\n",
        "import pandas as pd\n",
        "\n",
        "import pickle \n",
        "from os import path\n",
        "\n",
        "from sklearn import preprocessing\n",
        "from sklearn.preprocessing import StandardScaler\n",
        "\n",
        "import matplotlib.pyplot as plt\n",
        "\n",
        "from sklearn.svm import SVC\n",
        "from sklearn.neighbors import KNeighborsClassifier\n",
        "from sklearn.discriminant_analysis import LinearDiscriminantAnalysis\n",
        "from sklearn.discriminant_analysis import QuadraticDiscriminantAnalysis\n",
        "\n",
        "from sklearn import metrics\n",
        "from sklearn.metrics import accuracy_score \n",
        "from sklearn.model_selection import train_test_split\n",
        "from sklearn.metrics import classification_report \n",
        "\n",
        "from sklearn.metrics import precision_score\n",
        "from sklearn.metrics import recall_score\n",
        "from sklearn.metrics import f1_score\n",
        "\n",
        "from sklearn.metrics import roc_auc_score\n",
        "from sklearn.metrics import roc_curve, auc\n",
        "\n",
        "from keras.layers import Dense\n",
        "from keras.models import Sequential \n",
        "from keras.models import model_from_json \n",
        "\n",
        "from keras.layers import LSTM\n",
        "from keras.layers import Input\n",
        "from keras.models import Model\n",
        "\n"
      ]
    },
    {
      "cell_type": "code",
      "execution_count": 4,
      "metadata": {
        "id": "FCXl8_-aBV2b"
      },
      "outputs": [],
      "source": [
        "# dataset doesn't have column names, so we have to provide it\n",
        "col_names = [\"duration\",\"protocol_type\",\"service\",\"flag\",\"src_bytes\",\n",
        "    \"dst_bytes\",\"land\",\"wrong_fragment\",\"urgent\",\"hot\",\"num_failed_logins\",\n",
        "    \"logged_in\",\"num_compromised\",\"root_shell\",\"su_attempted\",\"num_root\",\n",
        "    \"num_file_creations\",\"num_shells\",\"num_access_files\",\"num_outbound_cmds\",\n",
        "    \"is_host_login\",\"is_guest_login\",\"count\",\"srv_count\",\"serror_rate\",\n",
        "    \"srv_serror_rate\",\"rerror_rate\",\"srv_rerror_rate\",\"same_srv_rate\",\n",
        "    \"diff_srv_rate\",\"srv_diff_host_rate\",\"dst_host_count\",\"dst_host_srv_count\",\n",
        "    \"dst_host_same_srv_rate\",\"dst_host_diff_srv_rate\",\"dst_host_same_src_port_rate\",\n",
        "    \"dst_host_srv_diff_host_rate\",\"dst_host_serror_rate\",\"dst_host_srv_serror_rate\",\n",
        "    \"dst_host_rerror_rate\",\"dst_host_srv_rerror_rate\",\"label\",\"difficulty_level\"]"
      ]
    },
    {
      "cell_type": "code",
      "execution_count": 5,
      "metadata": {
        "id": "8k0n5mxqBYi6"
      },
      "outputs": [],
      "source": [
        "# importing dataset\n",
        "data = pd.read_csv('/Users/saikarthik/Downloads/Network-Intrusion-Detection-Using-Machine-Learning-master/datasets/KDDTrain+.txt',header=None, names=col_names)\n"
      ]
    },
    {
      "cell_type": "code",
      "execution_count": 6,
      "metadata": {
        "colab": {
          "base_uri": "https://localhost:8080/",
          "height": 439
        },
        "id": "rohGHXJTBa2M",
        "outputId": "2b87d4f7-9ec1-46d8-8467-9a727b64492c"
      },
      "outputs": [
        {
          "data": {
            "text/html": [
              "<div>\n",
              "<style scoped>\n",
              "    .dataframe tbody tr th:only-of-type {\n",
              "        vertical-align: middle;\n",
              "    }\n",
              "\n",
              "    .dataframe tbody tr th {\n",
              "        vertical-align: top;\n",
              "    }\n",
              "\n",
              "    .dataframe thead th {\n",
              "        text-align: right;\n",
              "    }\n",
              "</style>\n",
              "<table border=\"1\" class=\"dataframe\">\n",
              "  <thead>\n",
              "    <tr style=\"text-align: right;\">\n",
              "      <th></th>\n",
              "      <th>duration</th>\n",
              "      <th>protocol_type</th>\n",
              "      <th>service</th>\n",
              "      <th>flag</th>\n",
              "      <th>src_bytes</th>\n",
              "      <th>dst_bytes</th>\n",
              "      <th>land</th>\n",
              "      <th>wrong_fragment</th>\n",
              "      <th>urgent</th>\n",
              "      <th>hot</th>\n",
              "      <th>...</th>\n",
              "      <th>dst_host_same_srv_rate</th>\n",
              "      <th>dst_host_diff_srv_rate</th>\n",
              "      <th>dst_host_same_src_port_rate</th>\n",
              "      <th>dst_host_srv_diff_host_rate</th>\n",
              "      <th>dst_host_serror_rate</th>\n",
              "      <th>dst_host_srv_serror_rate</th>\n",
              "      <th>dst_host_rerror_rate</th>\n",
              "      <th>dst_host_srv_rerror_rate</th>\n",
              "      <th>label</th>\n",
              "      <th>difficulty_level</th>\n",
              "    </tr>\n",
              "  </thead>\n",
              "  <tbody>\n",
              "    <tr>\n",
              "      <th>0</th>\n",
              "      <td>0</td>\n",
              "      <td>tcp</td>\n",
              "      <td>ftp_data</td>\n",
              "      <td>SF</td>\n",
              "      <td>491</td>\n",
              "      <td>0</td>\n",
              "      <td>0</td>\n",
              "      <td>0</td>\n",
              "      <td>0</td>\n",
              "      <td>0</td>\n",
              "      <td>...</td>\n",
              "      <td>0.17</td>\n",
              "      <td>0.03</td>\n",
              "      <td>0.17</td>\n",
              "      <td>0.00</td>\n",
              "      <td>0.00</td>\n",
              "      <td>0.00</td>\n",
              "      <td>0.05</td>\n",
              "      <td>0.00</td>\n",
              "      <td>normal</td>\n",
              "      <td>20</td>\n",
              "    </tr>\n",
              "    <tr>\n",
              "      <th>1</th>\n",
              "      <td>0</td>\n",
              "      <td>udp</td>\n",
              "      <td>other</td>\n",
              "      <td>SF</td>\n",
              "      <td>146</td>\n",
              "      <td>0</td>\n",
              "      <td>0</td>\n",
              "      <td>0</td>\n",
              "      <td>0</td>\n",
              "      <td>0</td>\n",
              "      <td>...</td>\n",
              "      <td>0.00</td>\n",
              "      <td>0.60</td>\n",
              "      <td>0.88</td>\n",
              "      <td>0.00</td>\n",
              "      <td>0.00</td>\n",
              "      <td>0.00</td>\n",
              "      <td>0.00</td>\n",
              "      <td>0.00</td>\n",
              "      <td>normal</td>\n",
              "      <td>15</td>\n",
              "    </tr>\n",
              "    <tr>\n",
              "      <th>2</th>\n",
              "      <td>0</td>\n",
              "      <td>tcp</td>\n",
              "      <td>private</td>\n",
              "      <td>S0</td>\n",
              "      <td>0</td>\n",
              "      <td>0</td>\n",
              "      <td>0</td>\n",
              "      <td>0</td>\n",
              "      <td>0</td>\n",
              "      <td>0</td>\n",
              "      <td>...</td>\n",
              "      <td>0.10</td>\n",
              "      <td>0.05</td>\n",
              "      <td>0.00</td>\n",
              "      <td>0.00</td>\n",
              "      <td>1.00</td>\n",
              "      <td>1.00</td>\n",
              "      <td>0.00</td>\n",
              "      <td>0.00</td>\n",
              "      <td>neptune</td>\n",
              "      <td>19</td>\n",
              "    </tr>\n",
              "    <tr>\n",
              "      <th>3</th>\n",
              "      <td>0</td>\n",
              "      <td>tcp</td>\n",
              "      <td>http</td>\n",
              "      <td>SF</td>\n",
              "      <td>232</td>\n",
              "      <td>8153</td>\n",
              "      <td>0</td>\n",
              "      <td>0</td>\n",
              "      <td>0</td>\n",
              "      <td>0</td>\n",
              "      <td>...</td>\n",
              "      <td>1.00</td>\n",
              "      <td>0.00</td>\n",
              "      <td>0.03</td>\n",
              "      <td>0.04</td>\n",
              "      <td>0.03</td>\n",
              "      <td>0.01</td>\n",
              "      <td>0.00</td>\n",
              "      <td>0.01</td>\n",
              "      <td>normal</td>\n",
              "      <td>21</td>\n",
              "    </tr>\n",
              "    <tr>\n",
              "      <th>4</th>\n",
              "      <td>0</td>\n",
              "      <td>tcp</td>\n",
              "      <td>http</td>\n",
              "      <td>SF</td>\n",
              "      <td>199</td>\n",
              "      <td>420</td>\n",
              "      <td>0</td>\n",
              "      <td>0</td>\n",
              "      <td>0</td>\n",
              "      <td>0</td>\n",
              "      <td>...</td>\n",
              "      <td>1.00</td>\n",
              "      <td>0.00</td>\n",
              "      <td>0.00</td>\n",
              "      <td>0.00</td>\n",
              "      <td>0.00</td>\n",
              "      <td>0.00</td>\n",
              "      <td>0.00</td>\n",
              "      <td>0.00</td>\n",
              "      <td>normal</td>\n",
              "      <td>21</td>\n",
              "    </tr>\n",
              "    <tr>\n",
              "      <th>...</th>\n",
              "      <td>...</td>\n",
              "      <td>...</td>\n",
              "      <td>...</td>\n",
              "      <td>...</td>\n",
              "      <td>...</td>\n",
              "      <td>...</td>\n",
              "      <td>...</td>\n",
              "      <td>...</td>\n",
              "      <td>...</td>\n",
              "      <td>...</td>\n",
              "      <td>...</td>\n",
              "      <td>...</td>\n",
              "      <td>...</td>\n",
              "      <td>...</td>\n",
              "      <td>...</td>\n",
              "      <td>...</td>\n",
              "      <td>...</td>\n",
              "      <td>...</td>\n",
              "      <td>...</td>\n",
              "      <td>...</td>\n",
              "      <td>...</td>\n",
              "    </tr>\n",
              "    <tr>\n",
              "      <th>125968</th>\n",
              "      <td>0</td>\n",
              "      <td>tcp</td>\n",
              "      <td>private</td>\n",
              "      <td>S0</td>\n",
              "      <td>0</td>\n",
              "      <td>0</td>\n",
              "      <td>0</td>\n",
              "      <td>0</td>\n",
              "      <td>0</td>\n",
              "      <td>0</td>\n",
              "      <td>...</td>\n",
              "      <td>0.10</td>\n",
              "      <td>0.06</td>\n",
              "      <td>0.00</td>\n",
              "      <td>0.00</td>\n",
              "      <td>1.00</td>\n",
              "      <td>1.00</td>\n",
              "      <td>0.00</td>\n",
              "      <td>0.00</td>\n",
              "      <td>neptune</td>\n",
              "      <td>20</td>\n",
              "    </tr>\n",
              "    <tr>\n",
              "      <th>125969</th>\n",
              "      <td>8</td>\n",
              "      <td>udp</td>\n",
              "      <td>private</td>\n",
              "      <td>SF</td>\n",
              "      <td>105</td>\n",
              "      <td>145</td>\n",
              "      <td>0</td>\n",
              "      <td>0</td>\n",
              "      <td>0</td>\n",
              "      <td>0</td>\n",
              "      <td>...</td>\n",
              "      <td>0.96</td>\n",
              "      <td>0.01</td>\n",
              "      <td>0.01</td>\n",
              "      <td>0.00</td>\n",
              "      <td>0.00</td>\n",
              "      <td>0.00</td>\n",
              "      <td>0.00</td>\n",
              "      <td>0.00</td>\n",
              "      <td>normal</td>\n",
              "      <td>21</td>\n",
              "    </tr>\n",
              "    <tr>\n",
              "      <th>125970</th>\n",
              "      <td>0</td>\n",
              "      <td>tcp</td>\n",
              "      <td>smtp</td>\n",
              "      <td>SF</td>\n",
              "      <td>2231</td>\n",
              "      <td>384</td>\n",
              "      <td>0</td>\n",
              "      <td>0</td>\n",
              "      <td>0</td>\n",
              "      <td>0</td>\n",
              "      <td>...</td>\n",
              "      <td>0.12</td>\n",
              "      <td>0.06</td>\n",
              "      <td>0.00</td>\n",
              "      <td>0.00</td>\n",
              "      <td>0.72</td>\n",
              "      <td>0.00</td>\n",
              "      <td>0.01</td>\n",
              "      <td>0.00</td>\n",
              "      <td>normal</td>\n",
              "      <td>18</td>\n",
              "    </tr>\n",
              "    <tr>\n",
              "      <th>125971</th>\n",
              "      <td>0</td>\n",
              "      <td>tcp</td>\n",
              "      <td>klogin</td>\n",
              "      <td>S0</td>\n",
              "      <td>0</td>\n",
              "      <td>0</td>\n",
              "      <td>0</td>\n",
              "      <td>0</td>\n",
              "      <td>0</td>\n",
              "      <td>0</td>\n",
              "      <td>...</td>\n",
              "      <td>0.03</td>\n",
              "      <td>0.05</td>\n",
              "      <td>0.00</td>\n",
              "      <td>0.00</td>\n",
              "      <td>1.00</td>\n",
              "      <td>1.00</td>\n",
              "      <td>0.00</td>\n",
              "      <td>0.00</td>\n",
              "      <td>neptune</td>\n",
              "      <td>20</td>\n",
              "    </tr>\n",
              "    <tr>\n",
              "      <th>125972</th>\n",
              "      <td>0</td>\n",
              "      <td>tcp</td>\n",
              "      <td>ftp_data</td>\n",
              "      <td>SF</td>\n",
              "      <td>151</td>\n",
              "      <td>0</td>\n",
              "      <td>0</td>\n",
              "      <td>0</td>\n",
              "      <td>0</td>\n",
              "      <td>0</td>\n",
              "      <td>...</td>\n",
              "      <td>0.30</td>\n",
              "      <td>0.03</td>\n",
              "      <td>0.30</td>\n",
              "      <td>0.00</td>\n",
              "      <td>0.00</td>\n",
              "      <td>0.00</td>\n",
              "      <td>0.00</td>\n",
              "      <td>0.00</td>\n",
              "      <td>normal</td>\n",
              "      <td>21</td>\n",
              "    </tr>\n",
              "  </tbody>\n",
              "</table>\n",
              "<p>125973 rows × 43 columns</p>\n",
              "</div>"
            ],
            "text/plain": [
              "        duration protocol_type   service flag  src_bytes  dst_bytes  land  \\\n",
              "0              0           tcp  ftp_data   SF        491          0     0   \n",
              "1              0           udp     other   SF        146          0     0   \n",
              "2              0           tcp   private   S0          0          0     0   \n",
              "3              0           tcp      http   SF        232       8153     0   \n",
              "4              0           tcp      http   SF        199        420     0   \n",
              "...          ...           ...       ...  ...        ...        ...   ...   \n",
              "125968         0           tcp   private   S0          0          0     0   \n",
              "125969         8           udp   private   SF        105        145     0   \n",
              "125970         0           tcp      smtp   SF       2231        384     0   \n",
              "125971         0           tcp    klogin   S0          0          0     0   \n",
              "125972         0           tcp  ftp_data   SF        151          0     0   \n",
              "\n",
              "        wrong_fragment  urgent  hot  ...  dst_host_same_srv_rate  \\\n",
              "0                    0       0    0  ...                    0.17   \n",
              "1                    0       0    0  ...                    0.00   \n",
              "2                    0       0    0  ...                    0.10   \n",
              "3                    0       0    0  ...                    1.00   \n",
              "4                    0       0    0  ...                    1.00   \n",
              "...                ...     ...  ...  ...                     ...   \n",
              "125968               0       0    0  ...                    0.10   \n",
              "125969               0       0    0  ...                    0.96   \n",
              "125970               0       0    0  ...                    0.12   \n",
              "125971               0       0    0  ...                    0.03   \n",
              "125972               0       0    0  ...                    0.30   \n",
              "\n",
              "        dst_host_diff_srv_rate  dst_host_same_src_port_rate  \\\n",
              "0                         0.03                         0.17   \n",
              "1                         0.60                         0.88   \n",
              "2                         0.05                         0.00   \n",
              "3                         0.00                         0.03   \n",
              "4                         0.00                         0.00   \n",
              "...                        ...                          ...   \n",
              "125968                    0.06                         0.00   \n",
              "125969                    0.01                         0.01   \n",
              "125970                    0.06                         0.00   \n",
              "125971                    0.05                         0.00   \n",
              "125972                    0.03                         0.30   \n",
              "\n",
              "        dst_host_srv_diff_host_rate  dst_host_serror_rate  \\\n",
              "0                              0.00                  0.00   \n",
              "1                              0.00                  0.00   \n",
              "2                              0.00                  1.00   \n",
              "3                              0.04                  0.03   \n",
              "4                              0.00                  0.00   \n",
              "...                             ...                   ...   \n",
              "125968                         0.00                  1.00   \n",
              "125969                         0.00                  0.00   \n",
              "125970                         0.00                  0.72   \n",
              "125971                         0.00                  1.00   \n",
              "125972                         0.00                  0.00   \n",
              "\n",
              "        dst_host_srv_serror_rate  dst_host_rerror_rate  \\\n",
              "0                           0.00                  0.05   \n",
              "1                           0.00                  0.00   \n",
              "2                           1.00                  0.00   \n",
              "3                           0.01                  0.00   \n",
              "4                           0.00                  0.00   \n",
              "...                          ...                   ...   \n",
              "125968                      1.00                  0.00   \n",
              "125969                      0.00                  0.00   \n",
              "125970                      0.00                  0.01   \n",
              "125971                      1.00                  0.00   \n",
              "125972                      0.00                  0.00   \n",
              "\n",
              "        dst_host_srv_rerror_rate    label  difficulty_level  \n",
              "0                           0.00   normal                20  \n",
              "1                           0.00   normal                15  \n",
              "2                           0.00  neptune                19  \n",
              "3                           0.01   normal                21  \n",
              "4                           0.00   normal                21  \n",
              "...                          ...      ...               ...  \n",
              "125968                      0.00  neptune                20  \n",
              "125969                      0.00   normal                21  \n",
              "125970                      0.00   normal                18  \n",
              "125971                      0.00  neptune                20  \n",
              "125972                      0.00   normal                21  \n",
              "\n",
              "[125973 rows x 43 columns]"
            ]
          },
          "execution_count": 6,
          "metadata": {},
          "output_type": "execute_result"
        }
      ],
      "source": [
        "data"
      ]
    },
    {
      "cell_type": "code",
      "execution_count": 7,
      "metadata": {
        "colab": {
          "base_uri": "https://localhost:8080/"
        },
        "id": "nMwiT2PzBovq",
        "outputId": "e4da5053-f318-478f-faa1-8492ea93559f"
      },
      "outputs": [
        {
          "data": {
            "text/plain": [
              "(125973, 42)"
            ]
          },
          "execution_count": 7,
          "metadata": {},
          "output_type": "execute_result"
        }
      ],
      "source": [
        "data.drop(['difficulty_level'],axis=1,inplace=True)\n",
        "data.shape"
      ]
    },
    {
      "cell_type": "code",
      "execution_count": 8,
      "metadata": {
        "colab": {
          "base_uri": "https://localhost:8080/",
          "height": 317
        },
        "id": "hHt0Iy6UCZmZ",
        "outputId": "beb41c28-aaea-4ad0-cb13-4a001b51088a"
      },
      "outputs": [
        {
          "data": {
            "text/html": [
              "<div>\n",
              "<style scoped>\n",
              "    .dataframe tbody tr th:only-of-type {\n",
              "        vertical-align: middle;\n",
              "    }\n",
              "\n",
              "    .dataframe tbody tr th {\n",
              "        vertical-align: top;\n",
              "    }\n",
              "\n",
              "    .dataframe thead th {\n",
              "        text-align: right;\n",
              "    }\n",
              "</style>\n",
              "<table border=\"1\" class=\"dataframe\">\n",
              "  <thead>\n",
              "    <tr style=\"text-align: right;\">\n",
              "      <th></th>\n",
              "      <th>duration</th>\n",
              "      <th>src_bytes</th>\n",
              "      <th>dst_bytes</th>\n",
              "      <th>land</th>\n",
              "      <th>wrong_fragment</th>\n",
              "      <th>urgent</th>\n",
              "      <th>hot</th>\n",
              "      <th>num_failed_logins</th>\n",
              "      <th>logged_in</th>\n",
              "      <th>num_compromised</th>\n",
              "      <th>...</th>\n",
              "      <th>dst_host_count</th>\n",
              "      <th>dst_host_srv_count</th>\n",
              "      <th>dst_host_same_srv_rate</th>\n",
              "      <th>dst_host_diff_srv_rate</th>\n",
              "      <th>dst_host_same_src_port_rate</th>\n",
              "      <th>dst_host_srv_diff_host_rate</th>\n",
              "      <th>dst_host_serror_rate</th>\n",
              "      <th>dst_host_srv_serror_rate</th>\n",
              "      <th>dst_host_rerror_rate</th>\n",
              "      <th>dst_host_srv_rerror_rate</th>\n",
              "    </tr>\n",
              "  </thead>\n",
              "  <tbody>\n",
              "    <tr>\n",
              "      <th>count</th>\n",
              "      <td>125973.00000</td>\n",
              "      <td>1.259730e+05</td>\n",
              "      <td>1.259730e+05</td>\n",
              "      <td>125973.000000</td>\n",
              "      <td>125973.000000</td>\n",
              "      <td>125973.000000</td>\n",
              "      <td>125973.000000</td>\n",
              "      <td>125973.000000</td>\n",
              "      <td>125973.000000</td>\n",
              "      <td>125973.000000</td>\n",
              "      <td>...</td>\n",
              "      <td>125973.000000</td>\n",
              "      <td>125973.000000</td>\n",
              "      <td>125973.000000</td>\n",
              "      <td>125973.000000</td>\n",
              "      <td>125973.000000</td>\n",
              "      <td>125973.000000</td>\n",
              "      <td>125973.000000</td>\n",
              "      <td>125973.000000</td>\n",
              "      <td>125973.000000</td>\n",
              "      <td>125973.000000</td>\n",
              "    </tr>\n",
              "    <tr>\n",
              "      <th>mean</th>\n",
              "      <td>287.14465</td>\n",
              "      <td>4.556674e+04</td>\n",
              "      <td>1.977911e+04</td>\n",
              "      <td>0.000198</td>\n",
              "      <td>0.022687</td>\n",
              "      <td>0.000111</td>\n",
              "      <td>0.204409</td>\n",
              "      <td>0.001222</td>\n",
              "      <td>0.395736</td>\n",
              "      <td>0.279250</td>\n",
              "      <td>...</td>\n",
              "      <td>182.148945</td>\n",
              "      <td>115.653005</td>\n",
              "      <td>0.521242</td>\n",
              "      <td>0.082951</td>\n",
              "      <td>0.148379</td>\n",
              "      <td>0.032542</td>\n",
              "      <td>0.284452</td>\n",
              "      <td>0.278485</td>\n",
              "      <td>0.118832</td>\n",
              "      <td>0.120240</td>\n",
              "    </tr>\n",
              "    <tr>\n",
              "      <th>std</th>\n",
              "      <td>2604.51531</td>\n",
              "      <td>5.870331e+06</td>\n",
              "      <td>4.021269e+06</td>\n",
              "      <td>0.014086</td>\n",
              "      <td>0.253530</td>\n",
              "      <td>0.014366</td>\n",
              "      <td>2.149968</td>\n",
              "      <td>0.045239</td>\n",
              "      <td>0.489010</td>\n",
              "      <td>23.942042</td>\n",
              "      <td>...</td>\n",
              "      <td>99.206213</td>\n",
              "      <td>110.702741</td>\n",
              "      <td>0.448949</td>\n",
              "      <td>0.188922</td>\n",
              "      <td>0.308997</td>\n",
              "      <td>0.112564</td>\n",
              "      <td>0.444784</td>\n",
              "      <td>0.445669</td>\n",
              "      <td>0.306557</td>\n",
              "      <td>0.319459</td>\n",
              "    </tr>\n",
              "    <tr>\n",
              "      <th>min</th>\n",
              "      <td>0.00000</td>\n",
              "      <td>0.000000e+00</td>\n",
              "      <td>0.000000e+00</td>\n",
              "      <td>0.000000</td>\n",
              "      <td>0.000000</td>\n",
              "      <td>0.000000</td>\n",
              "      <td>0.000000</td>\n",
              "      <td>0.000000</td>\n",
              "      <td>0.000000</td>\n",
              "      <td>0.000000</td>\n",
              "      <td>...</td>\n",
              "      <td>0.000000</td>\n",
              "      <td>0.000000</td>\n",
              "      <td>0.000000</td>\n",
              "      <td>0.000000</td>\n",
              "      <td>0.000000</td>\n",
              "      <td>0.000000</td>\n",
              "      <td>0.000000</td>\n",
              "      <td>0.000000</td>\n",
              "      <td>0.000000</td>\n",
              "      <td>0.000000</td>\n",
              "    </tr>\n",
              "    <tr>\n",
              "      <th>25%</th>\n",
              "      <td>0.00000</td>\n",
              "      <td>0.000000e+00</td>\n",
              "      <td>0.000000e+00</td>\n",
              "      <td>0.000000</td>\n",
              "      <td>0.000000</td>\n",
              "      <td>0.000000</td>\n",
              "      <td>0.000000</td>\n",
              "      <td>0.000000</td>\n",
              "      <td>0.000000</td>\n",
              "      <td>0.000000</td>\n",
              "      <td>...</td>\n",
              "      <td>82.000000</td>\n",
              "      <td>10.000000</td>\n",
              "      <td>0.050000</td>\n",
              "      <td>0.000000</td>\n",
              "      <td>0.000000</td>\n",
              "      <td>0.000000</td>\n",
              "      <td>0.000000</td>\n",
              "      <td>0.000000</td>\n",
              "      <td>0.000000</td>\n",
              "      <td>0.000000</td>\n",
              "    </tr>\n",
              "    <tr>\n",
              "      <th>50%</th>\n",
              "      <td>0.00000</td>\n",
              "      <td>4.400000e+01</td>\n",
              "      <td>0.000000e+00</td>\n",
              "      <td>0.000000</td>\n",
              "      <td>0.000000</td>\n",
              "      <td>0.000000</td>\n",
              "      <td>0.000000</td>\n",
              "      <td>0.000000</td>\n",
              "      <td>0.000000</td>\n",
              "      <td>0.000000</td>\n",
              "      <td>...</td>\n",
              "      <td>255.000000</td>\n",
              "      <td>63.000000</td>\n",
              "      <td>0.510000</td>\n",
              "      <td>0.020000</td>\n",
              "      <td>0.000000</td>\n",
              "      <td>0.000000</td>\n",
              "      <td>0.000000</td>\n",
              "      <td>0.000000</td>\n",
              "      <td>0.000000</td>\n",
              "      <td>0.000000</td>\n",
              "    </tr>\n",
              "    <tr>\n",
              "      <th>75%</th>\n",
              "      <td>0.00000</td>\n",
              "      <td>2.760000e+02</td>\n",
              "      <td>5.160000e+02</td>\n",
              "      <td>0.000000</td>\n",
              "      <td>0.000000</td>\n",
              "      <td>0.000000</td>\n",
              "      <td>0.000000</td>\n",
              "      <td>0.000000</td>\n",
              "      <td>1.000000</td>\n",
              "      <td>0.000000</td>\n",
              "      <td>...</td>\n",
              "      <td>255.000000</td>\n",
              "      <td>255.000000</td>\n",
              "      <td>1.000000</td>\n",
              "      <td>0.070000</td>\n",
              "      <td>0.060000</td>\n",
              "      <td>0.020000</td>\n",
              "      <td>1.000000</td>\n",
              "      <td>1.000000</td>\n",
              "      <td>0.000000</td>\n",
              "      <td>0.000000</td>\n",
              "    </tr>\n",
              "    <tr>\n",
              "      <th>max</th>\n",
              "      <td>42908.00000</td>\n",
              "      <td>1.379964e+09</td>\n",
              "      <td>1.309937e+09</td>\n",
              "      <td>1.000000</td>\n",
              "      <td>3.000000</td>\n",
              "      <td>3.000000</td>\n",
              "      <td>77.000000</td>\n",
              "      <td>5.000000</td>\n",
              "      <td>1.000000</td>\n",
              "      <td>7479.000000</td>\n",
              "      <td>...</td>\n",
              "      <td>255.000000</td>\n",
              "      <td>255.000000</td>\n",
              "      <td>1.000000</td>\n",
              "      <td>1.000000</td>\n",
              "      <td>1.000000</td>\n",
              "      <td>1.000000</td>\n",
              "      <td>1.000000</td>\n",
              "      <td>1.000000</td>\n",
              "      <td>1.000000</td>\n",
              "      <td>1.000000</td>\n",
              "    </tr>\n",
              "  </tbody>\n",
              "</table>\n",
              "<p>8 rows × 38 columns</p>\n",
              "</div>"
            ],
            "text/plain": [
              "           duration     src_bytes     dst_bytes           land  \\\n",
              "count  125973.00000  1.259730e+05  1.259730e+05  125973.000000   \n",
              "mean      287.14465  4.556674e+04  1.977911e+04       0.000198   \n",
              "std      2604.51531  5.870331e+06  4.021269e+06       0.014086   \n",
              "min         0.00000  0.000000e+00  0.000000e+00       0.000000   \n",
              "25%         0.00000  0.000000e+00  0.000000e+00       0.000000   \n",
              "50%         0.00000  4.400000e+01  0.000000e+00       0.000000   \n",
              "75%         0.00000  2.760000e+02  5.160000e+02       0.000000   \n",
              "max     42908.00000  1.379964e+09  1.309937e+09       1.000000   \n",
              "\n",
              "       wrong_fragment         urgent            hot  num_failed_logins  \\\n",
              "count   125973.000000  125973.000000  125973.000000      125973.000000   \n",
              "mean         0.022687       0.000111       0.204409           0.001222   \n",
              "std          0.253530       0.014366       2.149968           0.045239   \n",
              "min          0.000000       0.000000       0.000000           0.000000   \n",
              "25%          0.000000       0.000000       0.000000           0.000000   \n",
              "50%          0.000000       0.000000       0.000000           0.000000   \n",
              "75%          0.000000       0.000000       0.000000           0.000000   \n",
              "max          3.000000       3.000000      77.000000           5.000000   \n",
              "\n",
              "           logged_in  num_compromised  ...  dst_host_count  \\\n",
              "count  125973.000000    125973.000000  ...   125973.000000   \n",
              "mean        0.395736         0.279250  ...      182.148945   \n",
              "std         0.489010        23.942042  ...       99.206213   \n",
              "min         0.000000         0.000000  ...        0.000000   \n",
              "25%         0.000000         0.000000  ...       82.000000   \n",
              "50%         0.000000         0.000000  ...      255.000000   \n",
              "75%         1.000000         0.000000  ...      255.000000   \n",
              "max         1.000000      7479.000000  ...      255.000000   \n",
              "\n",
              "       dst_host_srv_count  dst_host_same_srv_rate  dst_host_diff_srv_rate  \\\n",
              "count       125973.000000           125973.000000           125973.000000   \n",
              "mean           115.653005                0.521242                0.082951   \n",
              "std            110.702741                0.448949                0.188922   \n",
              "min              0.000000                0.000000                0.000000   \n",
              "25%             10.000000                0.050000                0.000000   \n",
              "50%             63.000000                0.510000                0.020000   \n",
              "75%            255.000000                1.000000                0.070000   \n",
              "max            255.000000                1.000000                1.000000   \n",
              "\n",
              "       dst_host_same_src_port_rate  dst_host_srv_diff_host_rate  \\\n",
              "count                125973.000000                125973.000000   \n",
              "mean                      0.148379                     0.032542   \n",
              "std                       0.308997                     0.112564   \n",
              "min                       0.000000                     0.000000   \n",
              "25%                       0.000000                     0.000000   \n",
              "50%                       0.000000                     0.000000   \n",
              "75%                       0.060000                     0.020000   \n",
              "max                       1.000000                     1.000000   \n",
              "\n",
              "       dst_host_serror_rate  dst_host_srv_serror_rate  dst_host_rerror_rate  \\\n",
              "count         125973.000000             125973.000000         125973.000000   \n",
              "mean               0.284452                  0.278485              0.118832   \n",
              "std                0.444784                  0.445669              0.306557   \n",
              "min                0.000000                  0.000000              0.000000   \n",
              "25%                0.000000                  0.000000              0.000000   \n",
              "50%                0.000000                  0.000000              0.000000   \n",
              "75%                1.000000                  1.000000              0.000000   \n",
              "max                1.000000                  1.000000              1.000000   \n",
              "\n",
              "       dst_host_srv_rerror_rate  \n",
              "count             125973.000000  \n",
              "mean                   0.120240  \n",
              "std                    0.319459  \n",
              "min                    0.000000  \n",
              "25%                    0.000000  \n",
              "50%                    0.000000  \n",
              "75%                    0.000000  \n",
              "max                    1.000000  \n",
              "\n",
              "[8 rows x 38 columns]"
            ]
          },
          "execution_count": 8,
          "metadata": {},
          "output_type": "execute_result"
        }
      ],
      "source": [
        "data.describe()"
      ]
    },
    {
      "cell_type": "code",
      "execution_count": 9,
      "metadata": {
        "colab": {
          "base_uri": "https://localhost:8080/"
        },
        "id": "RGcNBCANCcui",
        "outputId": "8fb37215-429a-4f16-86b4-5fefbc4621c3"
      },
      "outputs": [
        {
          "data": {
            "text/plain": [
              "label\n",
              "normal             67343\n",
              "neptune            41214\n",
              "satan               3633\n",
              "ipsweep             3599\n",
              "portsweep           2931\n",
              "smurf               2646\n",
              "nmap                1493\n",
              "back                 956\n",
              "teardrop             892\n",
              "warezclient          890\n",
              "pod                  201\n",
              "guess_passwd          53\n",
              "buffer_overflow       30\n",
              "warezmaster           20\n",
              "land                  18\n",
              "imap                  11\n",
              "rootkit               10\n",
              "loadmodule             9\n",
              "ftp_write              8\n",
              "multihop               7\n",
              "phf                    4\n",
              "perl                   3\n",
              "spy                    2\n",
              "Name: count, dtype: int64"
            ]
          },
          "execution_count": 9,
          "metadata": {},
          "output_type": "execute_result"
        }
      ],
      "source": [
        "data['label'].value_counts()"
      ]
    },
    {
      "cell_type": "code",
      "execution_count": 10,
      "metadata": {
        "id": "h_1DBgHnHsrU"
      },
      "outputs": [],
      "source": [
        "def change_label(df):\n",
        "  df.label.replace(['apache2','back','land','neptune','mailbomb','pod','processtable','smurf','teardrop','udpstorm','worm'],'Dos',inplace=True)\n",
        "  df.label.replace(['ftp_write','guess_passwd','httptunnel','imap','multihop','named','phf','sendmail',\n",
        "       'snmpgetattack','snmpguess','spy','warezclient','warezmaster','xlock','xsnoop'],'R2L',inplace=True)\n",
        "  df.label.replace(['ipsweep','mscan','nmap','portsweep','saint','satan'],'Probe',inplace=True)\n",
        "  df.label.replace(['buffer_overflow','loadmodule','perl','ps','rootkit','sqlattack','xterm'],'U2R',inplace=True)"
      ]
    },
    {
      "cell_type": "code",
      "execution_count": 11,
      "metadata": {
        "id": "bapWBZK1IO0c"
      },
      "outputs": [],
      "source": [
        "# calling change_label() function\n",
        "change_label(data)"
      ]
    },
    {
      "cell_type": "code",
      "execution_count": 12,
      "metadata": {
        "colab": {
          "base_uri": "https://localhost:8080/"
        },
        "id": "nC_z5XVTIUjk",
        "outputId": "12efc8a2-1290-4cc2-cf87-c7c8f6fa1587"
      },
      "outputs": [
        {
          "data": {
            "text/plain": [
              "label\n",
              "normal    67343\n",
              "Dos       45927\n",
              "Probe     11656\n",
              "R2L         995\n",
              "U2R          52\n",
              "Name: count, dtype: int64"
            ]
          },
          "execution_count": 12,
          "metadata": {},
          "output_type": "execute_result"
        }
      ],
      "source": [
        "# distribution of attack classes\n",
        "data.label.value_counts()"
      ]
    },
    {
      "cell_type": "markdown",
      "metadata": {
        "id": "QrehJGT8MAfH"
      },
      "source": [
        "# **Data Normalization**"
      ]
    },
    {
      "cell_type": "code",
      "execution_count": 13,
      "metadata": {
        "id": "wcIJVDs9MMT-"
      },
      "outputs": [],
      "source": [
        "# selecting numeric attributes columns from data\n",
        "numeric_col = data.select_dtypes(include='number').columns"
      ]
    },
    {
      "cell_type": "code",
      "execution_count": 14,
      "metadata": {
        "id": "kxS1XY0kvxmT"
      },
      "outputs": [],
      "source": [
        "# using standard scaler for normalizing\n",
        "std_scaler = StandardScaler()\n",
        "def normalization(df,col):\n",
        "  for i in col:\n",
        "    arr = df[i]\n",
        "    arr = np.array(arr)\n",
        "    df[i] = std_scaler.fit_transform(arr.reshape(len(arr),1))\n",
        "  return df"
      ]
    },
    {
      "cell_type": "code",
      "execution_count": 15,
      "metadata": {
        "colab": {
          "base_uri": "https://localhost:8080/",
          "height": 224
        },
        "id": "oyWWm2w8xRI9",
        "outputId": "cec4f813-a581-4bb4-a184-126698026079"
      },
      "outputs": [
        {
          "data": {
            "text/html": [
              "<div>\n",
              "<style scoped>\n",
              "    .dataframe tbody tr th:only-of-type {\n",
              "        vertical-align: middle;\n",
              "    }\n",
              "\n",
              "    .dataframe tbody tr th {\n",
              "        vertical-align: top;\n",
              "    }\n",
              "\n",
              "    .dataframe thead th {\n",
              "        text-align: right;\n",
              "    }\n",
              "</style>\n",
              "<table border=\"1\" class=\"dataframe\">\n",
              "  <thead>\n",
              "    <tr style=\"text-align: right;\">\n",
              "      <th></th>\n",
              "      <th>duration</th>\n",
              "      <th>protocol_type</th>\n",
              "      <th>service</th>\n",
              "      <th>flag</th>\n",
              "      <th>src_bytes</th>\n",
              "      <th>dst_bytes</th>\n",
              "      <th>land</th>\n",
              "      <th>wrong_fragment</th>\n",
              "      <th>urgent</th>\n",
              "      <th>hot</th>\n",
              "      <th>...</th>\n",
              "      <th>dst_host_srv_count</th>\n",
              "      <th>dst_host_same_srv_rate</th>\n",
              "      <th>dst_host_diff_srv_rate</th>\n",
              "      <th>dst_host_same_src_port_rate</th>\n",
              "      <th>dst_host_srv_diff_host_rate</th>\n",
              "      <th>dst_host_serror_rate</th>\n",
              "      <th>dst_host_srv_serror_rate</th>\n",
              "      <th>dst_host_rerror_rate</th>\n",
              "      <th>dst_host_srv_rerror_rate</th>\n",
              "      <th>label</th>\n",
              "    </tr>\n",
              "  </thead>\n",
              "  <tbody>\n",
              "    <tr>\n",
              "      <th>0</th>\n",
              "      <td>0</td>\n",
              "      <td>tcp</td>\n",
              "      <td>ftp_data</td>\n",
              "      <td>SF</td>\n",
              "      <td>491</td>\n",
              "      <td>0</td>\n",
              "      <td>0</td>\n",
              "      <td>0</td>\n",
              "      <td>0</td>\n",
              "      <td>0</td>\n",
              "      <td>...</td>\n",
              "      <td>25</td>\n",
              "      <td>0.17</td>\n",
              "      <td>0.03</td>\n",
              "      <td>0.17</td>\n",
              "      <td>0.00</td>\n",
              "      <td>0.00</td>\n",
              "      <td>0.00</td>\n",
              "      <td>0.05</td>\n",
              "      <td>0.00</td>\n",
              "      <td>normal</td>\n",
              "    </tr>\n",
              "    <tr>\n",
              "      <th>1</th>\n",
              "      <td>0</td>\n",
              "      <td>udp</td>\n",
              "      <td>other</td>\n",
              "      <td>SF</td>\n",
              "      <td>146</td>\n",
              "      <td>0</td>\n",
              "      <td>0</td>\n",
              "      <td>0</td>\n",
              "      <td>0</td>\n",
              "      <td>0</td>\n",
              "      <td>...</td>\n",
              "      <td>1</td>\n",
              "      <td>0.00</td>\n",
              "      <td>0.60</td>\n",
              "      <td>0.88</td>\n",
              "      <td>0.00</td>\n",
              "      <td>0.00</td>\n",
              "      <td>0.00</td>\n",
              "      <td>0.00</td>\n",
              "      <td>0.00</td>\n",
              "      <td>normal</td>\n",
              "    </tr>\n",
              "    <tr>\n",
              "      <th>2</th>\n",
              "      <td>0</td>\n",
              "      <td>tcp</td>\n",
              "      <td>private</td>\n",
              "      <td>S0</td>\n",
              "      <td>0</td>\n",
              "      <td>0</td>\n",
              "      <td>0</td>\n",
              "      <td>0</td>\n",
              "      <td>0</td>\n",
              "      <td>0</td>\n",
              "      <td>...</td>\n",
              "      <td>26</td>\n",
              "      <td>0.10</td>\n",
              "      <td>0.05</td>\n",
              "      <td>0.00</td>\n",
              "      <td>0.00</td>\n",
              "      <td>1.00</td>\n",
              "      <td>1.00</td>\n",
              "      <td>0.00</td>\n",
              "      <td>0.00</td>\n",
              "      <td>Dos</td>\n",
              "    </tr>\n",
              "    <tr>\n",
              "      <th>3</th>\n",
              "      <td>0</td>\n",
              "      <td>tcp</td>\n",
              "      <td>http</td>\n",
              "      <td>SF</td>\n",
              "      <td>232</td>\n",
              "      <td>8153</td>\n",
              "      <td>0</td>\n",
              "      <td>0</td>\n",
              "      <td>0</td>\n",
              "      <td>0</td>\n",
              "      <td>...</td>\n",
              "      <td>255</td>\n",
              "      <td>1.00</td>\n",
              "      <td>0.00</td>\n",
              "      <td>0.03</td>\n",
              "      <td>0.04</td>\n",
              "      <td>0.03</td>\n",
              "      <td>0.01</td>\n",
              "      <td>0.00</td>\n",
              "      <td>0.01</td>\n",
              "      <td>normal</td>\n",
              "    </tr>\n",
              "    <tr>\n",
              "      <th>4</th>\n",
              "      <td>0</td>\n",
              "      <td>tcp</td>\n",
              "      <td>http</td>\n",
              "      <td>SF</td>\n",
              "      <td>199</td>\n",
              "      <td>420</td>\n",
              "      <td>0</td>\n",
              "      <td>0</td>\n",
              "      <td>0</td>\n",
              "      <td>0</td>\n",
              "      <td>...</td>\n",
              "      <td>255</td>\n",
              "      <td>1.00</td>\n",
              "      <td>0.00</td>\n",
              "      <td>0.00</td>\n",
              "      <td>0.00</td>\n",
              "      <td>0.00</td>\n",
              "      <td>0.00</td>\n",
              "      <td>0.00</td>\n",
              "      <td>0.00</td>\n",
              "      <td>normal</td>\n",
              "    </tr>\n",
              "  </tbody>\n",
              "</table>\n",
              "<p>5 rows × 42 columns</p>\n",
              "</div>"
            ],
            "text/plain": [
              "   duration protocol_type   service flag  src_bytes  dst_bytes  land  \\\n",
              "0         0           tcp  ftp_data   SF        491          0     0   \n",
              "1         0           udp     other   SF        146          0     0   \n",
              "2         0           tcp   private   S0          0          0     0   \n",
              "3         0           tcp      http   SF        232       8153     0   \n",
              "4         0           tcp      http   SF        199        420     0   \n",
              "\n",
              "   wrong_fragment  urgent  hot  ...  dst_host_srv_count  \\\n",
              "0               0       0    0  ...                  25   \n",
              "1               0       0    0  ...                   1   \n",
              "2               0       0    0  ...                  26   \n",
              "3               0       0    0  ...                 255   \n",
              "4               0       0    0  ...                 255   \n",
              "\n",
              "   dst_host_same_srv_rate  dst_host_diff_srv_rate  \\\n",
              "0                    0.17                    0.03   \n",
              "1                    0.00                    0.60   \n",
              "2                    0.10                    0.05   \n",
              "3                    1.00                    0.00   \n",
              "4                    1.00                    0.00   \n",
              "\n",
              "   dst_host_same_src_port_rate  dst_host_srv_diff_host_rate  \\\n",
              "0                         0.17                         0.00   \n",
              "1                         0.88                         0.00   \n",
              "2                         0.00                         0.00   \n",
              "3                         0.03                         0.04   \n",
              "4                         0.00                         0.00   \n",
              "\n",
              "   dst_host_serror_rate  dst_host_srv_serror_rate  dst_host_rerror_rate  \\\n",
              "0                  0.00                      0.00                  0.05   \n",
              "1                  0.00                      0.00                  0.00   \n",
              "2                  1.00                      1.00                  0.00   \n",
              "3                  0.03                      0.01                  0.00   \n",
              "4                  0.00                      0.00                  0.00   \n",
              "\n",
              "   dst_host_srv_rerror_rate   label  \n",
              "0                      0.00  normal  \n",
              "1                      0.00  normal  \n",
              "2                      0.00     Dos  \n",
              "3                      0.01  normal  \n",
              "4                      0.00  normal  \n",
              "\n",
              "[5 rows x 42 columns]"
            ]
          },
          "execution_count": 15,
          "metadata": {},
          "output_type": "execute_result"
        }
      ],
      "source": [
        "# data before normalization\n",
        "data.head()"
      ]
    },
    {
      "cell_type": "code",
      "execution_count": 16,
      "metadata": {
        "id": "LywggKJbMkJH"
      },
      "outputs": [],
      "source": [
        "# calling the normalization() function\n",
        "data = normalization(data.copy(),numeric_col)"
      ]
    },
    {
      "cell_type": "code",
      "execution_count": 17,
      "metadata": {
        "colab": {
          "base_uri": "https://localhost:8080/",
          "height": 224
        },
        "id": "xciBZA2rPXM7",
        "outputId": "2e7d43c9-4067-4e35-f18b-f4e51ab1b129"
      },
      "outputs": [
        {
          "data": {
            "text/html": [
              "<div>\n",
              "<style scoped>\n",
              "    .dataframe tbody tr th:only-of-type {\n",
              "        vertical-align: middle;\n",
              "    }\n",
              "\n",
              "    .dataframe tbody tr th {\n",
              "        vertical-align: top;\n",
              "    }\n",
              "\n",
              "    .dataframe thead th {\n",
              "        text-align: right;\n",
              "    }\n",
              "</style>\n",
              "<table border=\"1\" class=\"dataframe\">\n",
              "  <thead>\n",
              "    <tr style=\"text-align: right;\">\n",
              "      <th></th>\n",
              "      <th>duration</th>\n",
              "      <th>protocol_type</th>\n",
              "      <th>service</th>\n",
              "      <th>flag</th>\n",
              "      <th>src_bytes</th>\n",
              "      <th>dst_bytes</th>\n",
              "      <th>land</th>\n",
              "      <th>wrong_fragment</th>\n",
              "      <th>urgent</th>\n",
              "      <th>hot</th>\n",
              "      <th>...</th>\n",
              "      <th>dst_host_srv_count</th>\n",
              "      <th>dst_host_same_srv_rate</th>\n",
              "      <th>dst_host_diff_srv_rate</th>\n",
              "      <th>dst_host_same_src_port_rate</th>\n",
              "      <th>dst_host_srv_diff_host_rate</th>\n",
              "      <th>dst_host_serror_rate</th>\n",
              "      <th>dst_host_srv_serror_rate</th>\n",
              "      <th>dst_host_rerror_rate</th>\n",
              "      <th>dst_host_srv_rerror_rate</th>\n",
              "      <th>label</th>\n",
              "    </tr>\n",
              "  </thead>\n",
              "  <tbody>\n",
              "    <tr>\n",
              "      <th>0</th>\n",
              "      <td>-0.110249</td>\n",
              "      <td>tcp</td>\n",
              "      <td>ftp_data</td>\n",
              "      <td>SF</td>\n",
              "      <td>-0.007679</td>\n",
              "      <td>-0.004919</td>\n",
              "      <td>-0.014089</td>\n",
              "      <td>-0.089486</td>\n",
              "      <td>-0.007736</td>\n",
              "      <td>-0.095076</td>\n",
              "      <td>...</td>\n",
              "      <td>-0.818890</td>\n",
              "      <td>-0.782367</td>\n",
              "      <td>-0.280282</td>\n",
              "      <td>0.069972</td>\n",
              "      <td>-0.289103</td>\n",
              "      <td>-0.639532</td>\n",
              "      <td>-0.624871</td>\n",
              "      <td>-0.224532</td>\n",
              "      <td>-0.376387</td>\n",
              "      <td>normal</td>\n",
              "    </tr>\n",
              "    <tr>\n",
              "      <th>1</th>\n",
              "      <td>-0.110249</td>\n",
              "      <td>udp</td>\n",
              "      <td>other</td>\n",
              "      <td>SF</td>\n",
              "      <td>-0.007737</td>\n",
              "      <td>-0.004919</td>\n",
              "      <td>-0.014089</td>\n",
              "      <td>-0.089486</td>\n",
              "      <td>-0.007736</td>\n",
              "      <td>-0.095076</td>\n",
              "      <td>...</td>\n",
              "      <td>-1.035688</td>\n",
              "      <td>-1.161030</td>\n",
              "      <td>2.736852</td>\n",
              "      <td>2.367737</td>\n",
              "      <td>-0.289103</td>\n",
              "      <td>-0.639532</td>\n",
              "      <td>-0.624871</td>\n",
              "      <td>-0.387635</td>\n",
              "      <td>-0.376387</td>\n",
              "      <td>normal</td>\n",
              "    </tr>\n",
              "    <tr>\n",
              "      <th>2</th>\n",
              "      <td>-0.110249</td>\n",
              "      <td>tcp</td>\n",
              "      <td>private</td>\n",
              "      <td>S0</td>\n",
              "      <td>-0.007762</td>\n",
              "      <td>-0.004919</td>\n",
              "      <td>-0.014089</td>\n",
              "      <td>-0.089486</td>\n",
              "      <td>-0.007736</td>\n",
              "      <td>-0.095076</td>\n",
              "      <td>...</td>\n",
              "      <td>-0.809857</td>\n",
              "      <td>-0.938287</td>\n",
              "      <td>-0.174417</td>\n",
              "      <td>-0.480197</td>\n",
              "      <td>-0.289103</td>\n",
              "      <td>1.608759</td>\n",
              "      <td>1.618955</td>\n",
              "      <td>-0.387635</td>\n",
              "      <td>-0.376387</td>\n",
              "      <td>Dos</td>\n",
              "    </tr>\n",
              "    <tr>\n",
              "      <th>3</th>\n",
              "      <td>-0.110249</td>\n",
              "      <td>tcp</td>\n",
              "      <td>http</td>\n",
              "      <td>SF</td>\n",
              "      <td>-0.007723</td>\n",
              "      <td>-0.002891</td>\n",
              "      <td>-0.014089</td>\n",
              "      <td>-0.089486</td>\n",
              "      <td>-0.007736</td>\n",
              "      <td>-0.095076</td>\n",
              "      <td>...</td>\n",
              "      <td>1.258754</td>\n",
              "      <td>1.066401</td>\n",
              "      <td>-0.439078</td>\n",
              "      <td>-0.383108</td>\n",
              "      <td>0.066252</td>\n",
              "      <td>-0.572083</td>\n",
              "      <td>-0.602433</td>\n",
              "      <td>-0.387635</td>\n",
              "      <td>-0.345084</td>\n",
              "      <td>normal</td>\n",
              "    </tr>\n",
              "    <tr>\n",
              "      <th>4</th>\n",
              "      <td>-0.110249</td>\n",
              "      <td>tcp</td>\n",
              "      <td>http</td>\n",
              "      <td>SF</td>\n",
              "      <td>-0.007728</td>\n",
              "      <td>-0.004814</td>\n",
              "      <td>-0.014089</td>\n",
              "      <td>-0.089486</td>\n",
              "      <td>-0.007736</td>\n",
              "      <td>-0.095076</td>\n",
              "      <td>...</td>\n",
              "      <td>1.258754</td>\n",
              "      <td>1.066401</td>\n",
              "      <td>-0.439078</td>\n",
              "      <td>-0.480197</td>\n",
              "      <td>-0.289103</td>\n",
              "      <td>-0.639532</td>\n",
              "      <td>-0.624871</td>\n",
              "      <td>-0.387635</td>\n",
              "      <td>-0.376387</td>\n",
              "      <td>normal</td>\n",
              "    </tr>\n",
              "  </tbody>\n",
              "</table>\n",
              "<p>5 rows × 42 columns</p>\n",
              "</div>"
            ],
            "text/plain": [
              "   duration protocol_type   service flag  src_bytes  dst_bytes      land  \\\n",
              "0 -0.110249           tcp  ftp_data   SF  -0.007679  -0.004919 -0.014089   \n",
              "1 -0.110249           udp     other   SF  -0.007737  -0.004919 -0.014089   \n",
              "2 -0.110249           tcp   private   S0  -0.007762  -0.004919 -0.014089   \n",
              "3 -0.110249           tcp      http   SF  -0.007723  -0.002891 -0.014089   \n",
              "4 -0.110249           tcp      http   SF  -0.007728  -0.004814 -0.014089   \n",
              "\n",
              "   wrong_fragment    urgent       hot  ...  dst_host_srv_count  \\\n",
              "0       -0.089486 -0.007736 -0.095076  ...           -0.818890   \n",
              "1       -0.089486 -0.007736 -0.095076  ...           -1.035688   \n",
              "2       -0.089486 -0.007736 -0.095076  ...           -0.809857   \n",
              "3       -0.089486 -0.007736 -0.095076  ...            1.258754   \n",
              "4       -0.089486 -0.007736 -0.095076  ...            1.258754   \n",
              "\n",
              "   dst_host_same_srv_rate  dst_host_diff_srv_rate  \\\n",
              "0               -0.782367               -0.280282   \n",
              "1               -1.161030                2.736852   \n",
              "2               -0.938287               -0.174417   \n",
              "3                1.066401               -0.439078   \n",
              "4                1.066401               -0.439078   \n",
              "\n",
              "   dst_host_same_src_port_rate  dst_host_srv_diff_host_rate  \\\n",
              "0                     0.069972                    -0.289103   \n",
              "1                     2.367737                    -0.289103   \n",
              "2                    -0.480197                    -0.289103   \n",
              "3                    -0.383108                     0.066252   \n",
              "4                    -0.480197                    -0.289103   \n",
              "\n",
              "   dst_host_serror_rate  dst_host_srv_serror_rate  dst_host_rerror_rate  \\\n",
              "0             -0.639532                 -0.624871             -0.224532   \n",
              "1             -0.639532                 -0.624871             -0.387635   \n",
              "2              1.608759                  1.618955             -0.387635   \n",
              "3             -0.572083                 -0.602433             -0.387635   \n",
              "4             -0.639532                 -0.624871             -0.387635   \n",
              "\n",
              "   dst_host_srv_rerror_rate   label  \n",
              "0                 -0.376387  normal  \n",
              "1                 -0.376387  normal  \n",
              "2                 -0.376387     Dos  \n",
              "3                 -0.345084  normal  \n",
              "4                 -0.376387  normal  \n",
              "\n",
              "[5 rows x 42 columns]"
            ]
          },
          "execution_count": 17,
          "metadata": {},
          "output_type": "execute_result"
        }
      ],
      "source": [
        "# data after normalization\n",
        "data.head()"
      ]
    },
    {
      "cell_type": "markdown",
      "metadata": {
        "id": "lWUd_SycPfpO"
      },
      "source": [
        "# **One-hot-encoding**"
      ]
    },
    {
      "cell_type": "code",
      "execution_count": 18,
      "metadata": {
        "id": "1xGXD9hrPysb"
      },
      "outputs": [],
      "source": [
        "# selecting categorical data attributes\n",
        "cat_col = ['protocol_type','service','flag']"
      ]
    },
    {
      "cell_type": "code",
      "execution_count": 19,
      "metadata": {
        "colab": {
          "base_uri": "https://localhost:8080/",
          "height": 204
        },
        "id": "SrxE4jpxP7Nh",
        "outputId": "f3c0cfaf-82ca-478a-b9af-f534f4976d06"
      },
      "outputs": [
        {
          "data": {
            "text/html": [
              "<div>\n",
              "<style scoped>\n",
              "    .dataframe tbody tr th:only-of-type {\n",
              "        vertical-align: middle;\n",
              "    }\n",
              "\n",
              "    .dataframe tbody tr th {\n",
              "        vertical-align: top;\n",
              "    }\n",
              "\n",
              "    .dataframe thead th {\n",
              "        text-align: right;\n",
              "    }\n",
              "</style>\n",
              "<table border=\"1\" class=\"dataframe\">\n",
              "  <thead>\n",
              "    <tr style=\"text-align: right;\">\n",
              "      <th></th>\n",
              "      <th>protocol_type</th>\n",
              "      <th>service</th>\n",
              "      <th>flag</th>\n",
              "    </tr>\n",
              "  </thead>\n",
              "  <tbody>\n",
              "    <tr>\n",
              "      <th>0</th>\n",
              "      <td>tcp</td>\n",
              "      <td>ftp_data</td>\n",
              "      <td>SF</td>\n",
              "    </tr>\n",
              "    <tr>\n",
              "      <th>1</th>\n",
              "      <td>udp</td>\n",
              "      <td>other</td>\n",
              "      <td>SF</td>\n",
              "    </tr>\n",
              "    <tr>\n",
              "      <th>2</th>\n",
              "      <td>tcp</td>\n",
              "      <td>private</td>\n",
              "      <td>S0</td>\n",
              "    </tr>\n",
              "    <tr>\n",
              "      <th>3</th>\n",
              "      <td>tcp</td>\n",
              "      <td>http</td>\n",
              "      <td>SF</td>\n",
              "    </tr>\n",
              "    <tr>\n",
              "      <th>4</th>\n",
              "      <td>tcp</td>\n",
              "      <td>http</td>\n",
              "      <td>SF</td>\n",
              "    </tr>\n",
              "  </tbody>\n",
              "</table>\n",
              "</div>"
            ],
            "text/plain": [
              "  protocol_type   service flag\n",
              "0           tcp  ftp_data   SF\n",
              "1           udp     other   SF\n",
              "2           tcp   private   S0\n",
              "3           tcp      http   SF\n",
              "4           tcp      http   SF"
            ]
          },
          "execution_count": 19,
          "metadata": {},
          "output_type": "execute_result"
        }
      ],
      "source": [
        "# creating a dataframe with only categorical attributes\n",
        "categorical = data[cat_col]\n",
        "categorical.head()"
      ]
    },
    {
      "cell_type": "code",
      "execution_count": 20,
      "metadata": {
        "colab": {
          "base_uri": "https://localhost:8080/",
          "height": 253
        },
        "id": "woD5fEd4QesY",
        "outputId": "4f6ecdd2-3f57-4324-8691-1d7a79a075d8"
      },
      "outputs": [
        {
          "data": {
            "text/html": [
              "<div>\n",
              "<style scoped>\n",
              "    .dataframe tbody tr th:only-of-type {\n",
              "        vertical-align: middle;\n",
              "    }\n",
              "\n",
              "    .dataframe tbody tr th {\n",
              "        vertical-align: top;\n",
              "    }\n",
              "\n",
              "    .dataframe thead th {\n",
              "        text-align: right;\n",
              "    }\n",
              "</style>\n",
              "<table border=\"1\" class=\"dataframe\">\n",
              "  <thead>\n",
              "    <tr style=\"text-align: right;\">\n",
              "      <th></th>\n",
              "      <th>protocol_type_icmp</th>\n",
              "      <th>protocol_type_tcp</th>\n",
              "      <th>protocol_type_udp</th>\n",
              "      <th>service_IRC</th>\n",
              "      <th>service_X11</th>\n",
              "      <th>service_Z39_50</th>\n",
              "      <th>service_aol</th>\n",
              "      <th>service_auth</th>\n",
              "      <th>service_bgp</th>\n",
              "      <th>service_courier</th>\n",
              "      <th>...</th>\n",
              "      <th>flag_REJ</th>\n",
              "      <th>flag_RSTO</th>\n",
              "      <th>flag_RSTOS0</th>\n",
              "      <th>flag_RSTR</th>\n",
              "      <th>flag_S0</th>\n",
              "      <th>flag_S1</th>\n",
              "      <th>flag_S2</th>\n",
              "      <th>flag_S3</th>\n",
              "      <th>flag_SF</th>\n",
              "      <th>flag_SH</th>\n",
              "    </tr>\n",
              "  </thead>\n",
              "  <tbody>\n",
              "    <tr>\n",
              "      <th>0</th>\n",
              "      <td>False</td>\n",
              "      <td>True</td>\n",
              "      <td>False</td>\n",
              "      <td>False</td>\n",
              "      <td>False</td>\n",
              "      <td>False</td>\n",
              "      <td>False</td>\n",
              "      <td>False</td>\n",
              "      <td>False</td>\n",
              "      <td>False</td>\n",
              "      <td>...</td>\n",
              "      <td>False</td>\n",
              "      <td>False</td>\n",
              "      <td>False</td>\n",
              "      <td>False</td>\n",
              "      <td>False</td>\n",
              "      <td>False</td>\n",
              "      <td>False</td>\n",
              "      <td>False</td>\n",
              "      <td>True</td>\n",
              "      <td>False</td>\n",
              "    </tr>\n",
              "    <tr>\n",
              "      <th>1</th>\n",
              "      <td>False</td>\n",
              "      <td>False</td>\n",
              "      <td>True</td>\n",
              "      <td>False</td>\n",
              "      <td>False</td>\n",
              "      <td>False</td>\n",
              "      <td>False</td>\n",
              "      <td>False</td>\n",
              "      <td>False</td>\n",
              "      <td>False</td>\n",
              "      <td>...</td>\n",
              "      <td>False</td>\n",
              "      <td>False</td>\n",
              "      <td>False</td>\n",
              "      <td>False</td>\n",
              "      <td>False</td>\n",
              "      <td>False</td>\n",
              "      <td>False</td>\n",
              "      <td>False</td>\n",
              "      <td>True</td>\n",
              "      <td>False</td>\n",
              "    </tr>\n",
              "    <tr>\n",
              "      <th>2</th>\n",
              "      <td>False</td>\n",
              "      <td>True</td>\n",
              "      <td>False</td>\n",
              "      <td>False</td>\n",
              "      <td>False</td>\n",
              "      <td>False</td>\n",
              "      <td>False</td>\n",
              "      <td>False</td>\n",
              "      <td>False</td>\n",
              "      <td>False</td>\n",
              "      <td>...</td>\n",
              "      <td>False</td>\n",
              "      <td>False</td>\n",
              "      <td>False</td>\n",
              "      <td>False</td>\n",
              "      <td>True</td>\n",
              "      <td>False</td>\n",
              "      <td>False</td>\n",
              "      <td>False</td>\n",
              "      <td>False</td>\n",
              "      <td>False</td>\n",
              "    </tr>\n",
              "    <tr>\n",
              "      <th>3</th>\n",
              "      <td>False</td>\n",
              "      <td>True</td>\n",
              "      <td>False</td>\n",
              "      <td>False</td>\n",
              "      <td>False</td>\n",
              "      <td>False</td>\n",
              "      <td>False</td>\n",
              "      <td>False</td>\n",
              "      <td>False</td>\n",
              "      <td>False</td>\n",
              "      <td>...</td>\n",
              "      <td>False</td>\n",
              "      <td>False</td>\n",
              "      <td>False</td>\n",
              "      <td>False</td>\n",
              "      <td>False</td>\n",
              "      <td>False</td>\n",
              "      <td>False</td>\n",
              "      <td>False</td>\n",
              "      <td>True</td>\n",
              "      <td>False</td>\n",
              "    </tr>\n",
              "    <tr>\n",
              "      <th>4</th>\n",
              "      <td>False</td>\n",
              "      <td>True</td>\n",
              "      <td>False</td>\n",
              "      <td>False</td>\n",
              "      <td>False</td>\n",
              "      <td>False</td>\n",
              "      <td>False</td>\n",
              "      <td>False</td>\n",
              "      <td>False</td>\n",
              "      <td>False</td>\n",
              "      <td>...</td>\n",
              "      <td>False</td>\n",
              "      <td>False</td>\n",
              "      <td>False</td>\n",
              "      <td>False</td>\n",
              "      <td>False</td>\n",
              "      <td>False</td>\n",
              "      <td>False</td>\n",
              "      <td>False</td>\n",
              "      <td>True</td>\n",
              "      <td>False</td>\n",
              "    </tr>\n",
              "  </tbody>\n",
              "</table>\n",
              "<p>5 rows × 84 columns</p>\n",
              "</div>"
            ],
            "text/plain": [
              "   protocol_type_icmp  protocol_type_tcp  protocol_type_udp  service_IRC  \\\n",
              "0               False               True              False        False   \n",
              "1               False              False               True        False   \n",
              "2               False               True              False        False   \n",
              "3               False               True              False        False   \n",
              "4               False               True              False        False   \n",
              "\n",
              "   service_X11  service_Z39_50  service_aol  service_auth  service_bgp  \\\n",
              "0        False           False        False         False        False   \n",
              "1        False           False        False         False        False   \n",
              "2        False           False        False         False        False   \n",
              "3        False           False        False         False        False   \n",
              "4        False           False        False         False        False   \n",
              "\n",
              "   service_courier  ...  flag_REJ  flag_RSTO  flag_RSTOS0  flag_RSTR  flag_S0  \\\n",
              "0            False  ...     False      False        False      False    False   \n",
              "1            False  ...     False      False        False      False    False   \n",
              "2            False  ...     False      False        False      False     True   \n",
              "3            False  ...     False      False        False      False    False   \n",
              "4            False  ...     False      False        False      False    False   \n",
              "\n",
              "   flag_S1  flag_S2  flag_S3  flag_SF  flag_SH  \n",
              "0    False    False    False     True    False  \n",
              "1    False    False    False     True    False  \n",
              "2    False    False    False    False    False  \n",
              "3    False    False    False     True    False  \n",
              "4    False    False    False     True    False  \n",
              "\n",
              "[5 rows x 84 columns]"
            ]
          },
          "execution_count": 20,
          "metadata": {},
          "output_type": "execute_result"
        }
      ],
      "source": [
        "# one-hot-encoding categorical attributes using pandas.get_dummies() function\n",
        "categorical = pd.get_dummies(categorical,columns=cat_col)\n",
        "categorical.head()"
      ]
    },
    {
      "cell_type": "markdown",
      "metadata": {
        "id": "YOAdZo-SJTXk"
      },
      "source": [
        "# **Binary Classification**"
      ]
    },
    {
      "cell_type": "code",
      "execution_count": 21,
      "metadata": {
        "id": "RcHQ3o4HJ6nl"
      },
      "outputs": [],
      "source": [
        "# changing attack labels into two categories 'normal' and 'abnormal'\n",
        "bin_label = pd.DataFrame(data.label.map(lambda x:'normal' if x=='normal' else 'abnormal'))"
      ]
    },
    {
      "cell_type": "code",
      "execution_count": 22,
      "metadata": {
        "id": "7RfkiSQb26Zg"
      },
      "outputs": [],
      "source": [
        "# creating a dataframe with binary labels (normal,abnormal)\n",
        "bin_data = data.copy()\n",
        "bin_data['label'] = bin_label"
      ]
    },
    {
      "cell_type": "code",
      "execution_count": 23,
      "metadata": {
        "id": "UMIalssAVmQE"
      },
      "outputs": [],
      "source": [
        "# label encoding (0,1) binary labels (abnormal,normal)\n",
        "le1 = preprocessing.LabelEncoder()\n",
        "enc_label = bin_label.apply(le1.fit_transform)\n",
        "bin_data['intrusion'] = enc_label"
      ]
    },
    {
      "cell_type": "code",
      "execution_count": 24,
      "metadata": {
        "id": "dAzEy3iAttHA"
      },
      "outputs": [],
      "source": [
        "np.save(\"labels/le1_classes.npy\",le1.classes_,allow_pickle=True)"
      ]
    },
    {
      "cell_type": "code",
      "execution_count": 25,
      "metadata": {
        "colab": {
          "base_uri": "https://localhost:8080/",
          "height": 224
        },
        "id": "PKNhSRVgaw-z",
        "outputId": "1fdd8b9d-b8f9-4877-bb61-929ce57bc68c"
      },
      "outputs": [
        {
          "data": {
            "text/html": [
              "<div>\n",
              "<style scoped>\n",
              "    .dataframe tbody tr th:only-of-type {\n",
              "        vertical-align: middle;\n",
              "    }\n",
              "\n",
              "    .dataframe tbody tr th {\n",
              "        vertical-align: top;\n",
              "    }\n",
              "\n",
              "    .dataframe thead th {\n",
              "        text-align: right;\n",
              "    }\n",
              "</style>\n",
              "<table border=\"1\" class=\"dataframe\">\n",
              "  <thead>\n",
              "    <tr style=\"text-align: right;\">\n",
              "      <th></th>\n",
              "      <th>duration</th>\n",
              "      <th>protocol_type</th>\n",
              "      <th>service</th>\n",
              "      <th>flag</th>\n",
              "      <th>src_bytes</th>\n",
              "      <th>dst_bytes</th>\n",
              "      <th>land</th>\n",
              "      <th>wrong_fragment</th>\n",
              "      <th>urgent</th>\n",
              "      <th>hot</th>\n",
              "      <th>...</th>\n",
              "      <th>dst_host_same_srv_rate</th>\n",
              "      <th>dst_host_diff_srv_rate</th>\n",
              "      <th>dst_host_same_src_port_rate</th>\n",
              "      <th>dst_host_srv_diff_host_rate</th>\n",
              "      <th>dst_host_serror_rate</th>\n",
              "      <th>dst_host_srv_serror_rate</th>\n",
              "      <th>dst_host_rerror_rate</th>\n",
              "      <th>dst_host_srv_rerror_rate</th>\n",
              "      <th>label</th>\n",
              "      <th>intrusion</th>\n",
              "    </tr>\n",
              "  </thead>\n",
              "  <tbody>\n",
              "    <tr>\n",
              "      <th>0</th>\n",
              "      <td>-0.110249</td>\n",
              "      <td>tcp</td>\n",
              "      <td>ftp_data</td>\n",
              "      <td>SF</td>\n",
              "      <td>-0.007679</td>\n",
              "      <td>-0.004919</td>\n",
              "      <td>-0.014089</td>\n",
              "      <td>-0.089486</td>\n",
              "      <td>-0.007736</td>\n",
              "      <td>-0.095076</td>\n",
              "      <td>...</td>\n",
              "      <td>-0.782367</td>\n",
              "      <td>-0.280282</td>\n",
              "      <td>0.069972</td>\n",
              "      <td>-0.289103</td>\n",
              "      <td>-0.639532</td>\n",
              "      <td>-0.624871</td>\n",
              "      <td>-0.224532</td>\n",
              "      <td>-0.376387</td>\n",
              "      <td>normal</td>\n",
              "      <td>1</td>\n",
              "    </tr>\n",
              "    <tr>\n",
              "      <th>1</th>\n",
              "      <td>-0.110249</td>\n",
              "      <td>udp</td>\n",
              "      <td>other</td>\n",
              "      <td>SF</td>\n",
              "      <td>-0.007737</td>\n",
              "      <td>-0.004919</td>\n",
              "      <td>-0.014089</td>\n",
              "      <td>-0.089486</td>\n",
              "      <td>-0.007736</td>\n",
              "      <td>-0.095076</td>\n",
              "      <td>...</td>\n",
              "      <td>-1.161030</td>\n",
              "      <td>2.736852</td>\n",
              "      <td>2.367737</td>\n",
              "      <td>-0.289103</td>\n",
              "      <td>-0.639532</td>\n",
              "      <td>-0.624871</td>\n",
              "      <td>-0.387635</td>\n",
              "      <td>-0.376387</td>\n",
              "      <td>normal</td>\n",
              "      <td>1</td>\n",
              "    </tr>\n",
              "    <tr>\n",
              "      <th>2</th>\n",
              "      <td>-0.110249</td>\n",
              "      <td>tcp</td>\n",
              "      <td>private</td>\n",
              "      <td>S0</td>\n",
              "      <td>-0.007762</td>\n",
              "      <td>-0.004919</td>\n",
              "      <td>-0.014089</td>\n",
              "      <td>-0.089486</td>\n",
              "      <td>-0.007736</td>\n",
              "      <td>-0.095076</td>\n",
              "      <td>...</td>\n",
              "      <td>-0.938287</td>\n",
              "      <td>-0.174417</td>\n",
              "      <td>-0.480197</td>\n",
              "      <td>-0.289103</td>\n",
              "      <td>1.608759</td>\n",
              "      <td>1.618955</td>\n",
              "      <td>-0.387635</td>\n",
              "      <td>-0.376387</td>\n",
              "      <td>abnormal</td>\n",
              "      <td>0</td>\n",
              "    </tr>\n",
              "    <tr>\n",
              "      <th>3</th>\n",
              "      <td>-0.110249</td>\n",
              "      <td>tcp</td>\n",
              "      <td>http</td>\n",
              "      <td>SF</td>\n",
              "      <td>-0.007723</td>\n",
              "      <td>-0.002891</td>\n",
              "      <td>-0.014089</td>\n",
              "      <td>-0.089486</td>\n",
              "      <td>-0.007736</td>\n",
              "      <td>-0.095076</td>\n",
              "      <td>...</td>\n",
              "      <td>1.066401</td>\n",
              "      <td>-0.439078</td>\n",
              "      <td>-0.383108</td>\n",
              "      <td>0.066252</td>\n",
              "      <td>-0.572083</td>\n",
              "      <td>-0.602433</td>\n",
              "      <td>-0.387635</td>\n",
              "      <td>-0.345084</td>\n",
              "      <td>normal</td>\n",
              "      <td>1</td>\n",
              "    </tr>\n",
              "    <tr>\n",
              "      <th>4</th>\n",
              "      <td>-0.110249</td>\n",
              "      <td>tcp</td>\n",
              "      <td>http</td>\n",
              "      <td>SF</td>\n",
              "      <td>-0.007728</td>\n",
              "      <td>-0.004814</td>\n",
              "      <td>-0.014089</td>\n",
              "      <td>-0.089486</td>\n",
              "      <td>-0.007736</td>\n",
              "      <td>-0.095076</td>\n",
              "      <td>...</td>\n",
              "      <td>1.066401</td>\n",
              "      <td>-0.439078</td>\n",
              "      <td>-0.480197</td>\n",
              "      <td>-0.289103</td>\n",
              "      <td>-0.639532</td>\n",
              "      <td>-0.624871</td>\n",
              "      <td>-0.387635</td>\n",
              "      <td>-0.376387</td>\n",
              "      <td>normal</td>\n",
              "      <td>1</td>\n",
              "    </tr>\n",
              "  </tbody>\n",
              "</table>\n",
              "<p>5 rows × 43 columns</p>\n",
              "</div>"
            ],
            "text/plain": [
              "   duration protocol_type   service flag  src_bytes  dst_bytes      land  \\\n",
              "0 -0.110249           tcp  ftp_data   SF  -0.007679  -0.004919 -0.014089   \n",
              "1 -0.110249           udp     other   SF  -0.007737  -0.004919 -0.014089   \n",
              "2 -0.110249           tcp   private   S0  -0.007762  -0.004919 -0.014089   \n",
              "3 -0.110249           tcp      http   SF  -0.007723  -0.002891 -0.014089   \n",
              "4 -0.110249           tcp      http   SF  -0.007728  -0.004814 -0.014089   \n",
              "\n",
              "   wrong_fragment    urgent       hot  ...  dst_host_same_srv_rate  \\\n",
              "0       -0.089486 -0.007736 -0.095076  ...               -0.782367   \n",
              "1       -0.089486 -0.007736 -0.095076  ...               -1.161030   \n",
              "2       -0.089486 -0.007736 -0.095076  ...               -0.938287   \n",
              "3       -0.089486 -0.007736 -0.095076  ...                1.066401   \n",
              "4       -0.089486 -0.007736 -0.095076  ...                1.066401   \n",
              "\n",
              "   dst_host_diff_srv_rate  dst_host_same_src_port_rate  \\\n",
              "0               -0.280282                     0.069972   \n",
              "1                2.736852                     2.367737   \n",
              "2               -0.174417                    -0.480197   \n",
              "3               -0.439078                    -0.383108   \n",
              "4               -0.439078                    -0.480197   \n",
              "\n",
              "   dst_host_srv_diff_host_rate  dst_host_serror_rate  \\\n",
              "0                    -0.289103             -0.639532   \n",
              "1                    -0.289103             -0.639532   \n",
              "2                    -0.289103              1.608759   \n",
              "3                     0.066252             -0.572083   \n",
              "4                    -0.289103             -0.639532   \n",
              "\n",
              "   dst_host_srv_serror_rate  dst_host_rerror_rate  dst_host_srv_rerror_rate  \\\n",
              "0                 -0.624871             -0.224532                 -0.376387   \n",
              "1                 -0.624871             -0.387635                 -0.376387   \n",
              "2                  1.618955             -0.387635                 -0.376387   \n",
              "3                 -0.602433             -0.387635                 -0.345084   \n",
              "4                 -0.624871             -0.387635                 -0.376387   \n",
              "\n",
              "      label  intrusion  \n",
              "0    normal          1  \n",
              "1    normal          1  \n",
              "2  abnormal          0  \n",
              "3    normal          1  \n",
              "4    normal          1  \n",
              "\n",
              "[5 rows x 43 columns]"
            ]
          },
          "execution_count": 25,
          "metadata": {},
          "output_type": "execute_result"
        }
      ],
      "source": [
        "# dataset with binary labels and label encoded column\n",
        "bin_data.head()"
      ]
    },
    {
      "cell_type": "code",
      "execution_count": 26,
      "metadata": {
        "colab": {
          "base_uri": "https://localhost:8080/",
          "height": 439
        },
        "id": "zjctCZLYVqfD",
        "outputId": "460d3d50-adea-43c4-ce37-485cc0766378"
      },
      "outputs": [
        {
          "data": {
            "text/html": [
              "<div>\n",
              "<style scoped>\n",
              "    .dataframe tbody tr th:only-of-type {\n",
              "        vertical-align: middle;\n",
              "    }\n",
              "\n",
              "    .dataframe tbody tr th {\n",
              "        vertical-align: top;\n",
              "    }\n",
              "\n",
              "    .dataframe thead th {\n",
              "        text-align: right;\n",
              "    }\n",
              "</style>\n",
              "<table border=\"1\" class=\"dataframe\">\n",
              "  <thead>\n",
              "    <tr style=\"text-align: right;\">\n",
              "      <th></th>\n",
              "      <th>duration</th>\n",
              "      <th>protocol_type</th>\n",
              "      <th>service</th>\n",
              "      <th>flag</th>\n",
              "      <th>src_bytes</th>\n",
              "      <th>dst_bytes</th>\n",
              "      <th>land</th>\n",
              "      <th>wrong_fragment</th>\n",
              "      <th>urgent</th>\n",
              "      <th>hot</th>\n",
              "      <th>...</th>\n",
              "      <th>dst_host_same_src_port_rate</th>\n",
              "      <th>dst_host_srv_diff_host_rate</th>\n",
              "      <th>dst_host_serror_rate</th>\n",
              "      <th>dst_host_srv_serror_rate</th>\n",
              "      <th>dst_host_rerror_rate</th>\n",
              "      <th>dst_host_srv_rerror_rate</th>\n",
              "      <th>intrusion</th>\n",
              "      <th>abnormal</th>\n",
              "      <th>normal</th>\n",
              "      <th>label</th>\n",
              "    </tr>\n",
              "  </thead>\n",
              "  <tbody>\n",
              "    <tr>\n",
              "      <th>0</th>\n",
              "      <td>-0.110249</td>\n",
              "      <td>tcp</td>\n",
              "      <td>ftp_data</td>\n",
              "      <td>SF</td>\n",
              "      <td>-0.007679</td>\n",
              "      <td>-0.004919</td>\n",
              "      <td>-0.014089</td>\n",
              "      <td>-0.089486</td>\n",
              "      <td>-0.007736</td>\n",
              "      <td>-0.095076</td>\n",
              "      <td>...</td>\n",
              "      <td>0.069972</td>\n",
              "      <td>-0.289103</td>\n",
              "      <td>-0.639532</td>\n",
              "      <td>-0.624871</td>\n",
              "      <td>-0.224532</td>\n",
              "      <td>-0.376387</td>\n",
              "      <td>1</td>\n",
              "      <td>False</td>\n",
              "      <td>True</td>\n",
              "      <td>normal</td>\n",
              "    </tr>\n",
              "    <tr>\n",
              "      <th>1</th>\n",
              "      <td>-0.110249</td>\n",
              "      <td>udp</td>\n",
              "      <td>other</td>\n",
              "      <td>SF</td>\n",
              "      <td>-0.007737</td>\n",
              "      <td>-0.004919</td>\n",
              "      <td>-0.014089</td>\n",
              "      <td>-0.089486</td>\n",
              "      <td>-0.007736</td>\n",
              "      <td>-0.095076</td>\n",
              "      <td>...</td>\n",
              "      <td>2.367737</td>\n",
              "      <td>-0.289103</td>\n",
              "      <td>-0.639532</td>\n",
              "      <td>-0.624871</td>\n",
              "      <td>-0.387635</td>\n",
              "      <td>-0.376387</td>\n",
              "      <td>1</td>\n",
              "      <td>False</td>\n",
              "      <td>True</td>\n",
              "      <td>normal</td>\n",
              "    </tr>\n",
              "    <tr>\n",
              "      <th>2</th>\n",
              "      <td>-0.110249</td>\n",
              "      <td>tcp</td>\n",
              "      <td>private</td>\n",
              "      <td>S0</td>\n",
              "      <td>-0.007762</td>\n",
              "      <td>-0.004919</td>\n",
              "      <td>-0.014089</td>\n",
              "      <td>-0.089486</td>\n",
              "      <td>-0.007736</td>\n",
              "      <td>-0.095076</td>\n",
              "      <td>...</td>\n",
              "      <td>-0.480197</td>\n",
              "      <td>-0.289103</td>\n",
              "      <td>1.608759</td>\n",
              "      <td>1.618955</td>\n",
              "      <td>-0.387635</td>\n",
              "      <td>-0.376387</td>\n",
              "      <td>0</td>\n",
              "      <td>True</td>\n",
              "      <td>False</td>\n",
              "      <td>abnormal</td>\n",
              "    </tr>\n",
              "    <tr>\n",
              "      <th>3</th>\n",
              "      <td>-0.110249</td>\n",
              "      <td>tcp</td>\n",
              "      <td>http</td>\n",
              "      <td>SF</td>\n",
              "      <td>-0.007723</td>\n",
              "      <td>-0.002891</td>\n",
              "      <td>-0.014089</td>\n",
              "      <td>-0.089486</td>\n",
              "      <td>-0.007736</td>\n",
              "      <td>-0.095076</td>\n",
              "      <td>...</td>\n",
              "      <td>-0.383108</td>\n",
              "      <td>0.066252</td>\n",
              "      <td>-0.572083</td>\n",
              "      <td>-0.602433</td>\n",
              "      <td>-0.387635</td>\n",
              "      <td>-0.345084</td>\n",
              "      <td>1</td>\n",
              "      <td>False</td>\n",
              "      <td>True</td>\n",
              "      <td>normal</td>\n",
              "    </tr>\n",
              "    <tr>\n",
              "      <th>4</th>\n",
              "      <td>-0.110249</td>\n",
              "      <td>tcp</td>\n",
              "      <td>http</td>\n",
              "      <td>SF</td>\n",
              "      <td>-0.007728</td>\n",
              "      <td>-0.004814</td>\n",
              "      <td>-0.014089</td>\n",
              "      <td>-0.089486</td>\n",
              "      <td>-0.007736</td>\n",
              "      <td>-0.095076</td>\n",
              "      <td>...</td>\n",
              "      <td>-0.480197</td>\n",
              "      <td>-0.289103</td>\n",
              "      <td>-0.639532</td>\n",
              "      <td>-0.624871</td>\n",
              "      <td>-0.387635</td>\n",
              "      <td>-0.376387</td>\n",
              "      <td>1</td>\n",
              "      <td>False</td>\n",
              "      <td>True</td>\n",
              "      <td>normal</td>\n",
              "    </tr>\n",
              "    <tr>\n",
              "      <th>...</th>\n",
              "      <td>...</td>\n",
              "      <td>...</td>\n",
              "      <td>...</td>\n",
              "      <td>...</td>\n",
              "      <td>...</td>\n",
              "      <td>...</td>\n",
              "      <td>...</td>\n",
              "      <td>...</td>\n",
              "      <td>...</td>\n",
              "      <td>...</td>\n",
              "      <td>...</td>\n",
              "      <td>...</td>\n",
              "      <td>...</td>\n",
              "      <td>...</td>\n",
              "      <td>...</td>\n",
              "      <td>...</td>\n",
              "      <td>...</td>\n",
              "      <td>...</td>\n",
              "      <td>...</td>\n",
              "      <td>...</td>\n",
              "      <td>...</td>\n",
              "    </tr>\n",
              "    <tr>\n",
              "      <th>125968</th>\n",
              "      <td>-0.110249</td>\n",
              "      <td>tcp</td>\n",
              "      <td>private</td>\n",
              "      <td>S0</td>\n",
              "      <td>-0.007762</td>\n",
              "      <td>-0.004919</td>\n",
              "      <td>-0.014089</td>\n",
              "      <td>-0.089486</td>\n",
              "      <td>-0.007736</td>\n",
              "      <td>-0.095076</td>\n",
              "      <td>...</td>\n",
              "      <td>-0.480197</td>\n",
              "      <td>-0.289103</td>\n",
              "      <td>1.608759</td>\n",
              "      <td>1.618955</td>\n",
              "      <td>-0.387635</td>\n",
              "      <td>-0.376387</td>\n",
              "      <td>0</td>\n",
              "      <td>True</td>\n",
              "      <td>False</td>\n",
              "      <td>abnormal</td>\n",
              "    </tr>\n",
              "    <tr>\n",
              "      <th>125969</th>\n",
              "      <td>-0.107178</td>\n",
              "      <td>udp</td>\n",
              "      <td>private</td>\n",
              "      <td>SF</td>\n",
              "      <td>-0.007744</td>\n",
              "      <td>-0.004883</td>\n",
              "      <td>-0.014089</td>\n",
              "      <td>-0.089486</td>\n",
              "      <td>-0.007736</td>\n",
              "      <td>-0.095076</td>\n",
              "      <td>...</td>\n",
              "      <td>-0.447834</td>\n",
              "      <td>-0.289103</td>\n",
              "      <td>-0.639532</td>\n",
              "      <td>-0.624871</td>\n",
              "      <td>-0.387635</td>\n",
              "      <td>-0.376387</td>\n",
              "      <td>1</td>\n",
              "      <td>False</td>\n",
              "      <td>True</td>\n",
              "      <td>normal</td>\n",
              "    </tr>\n",
              "    <tr>\n",
              "      <th>125970</th>\n",
              "      <td>-0.110249</td>\n",
              "      <td>tcp</td>\n",
              "      <td>smtp</td>\n",
              "      <td>SF</td>\n",
              "      <td>-0.007382</td>\n",
              "      <td>-0.004823</td>\n",
              "      <td>-0.014089</td>\n",
              "      <td>-0.089486</td>\n",
              "      <td>-0.007736</td>\n",
              "      <td>-0.095076</td>\n",
              "      <td>...</td>\n",
              "      <td>-0.480197</td>\n",
              "      <td>-0.289103</td>\n",
              "      <td>0.979238</td>\n",
              "      <td>-0.624871</td>\n",
              "      <td>-0.355014</td>\n",
              "      <td>-0.376387</td>\n",
              "      <td>1</td>\n",
              "      <td>False</td>\n",
              "      <td>True</td>\n",
              "      <td>normal</td>\n",
              "    </tr>\n",
              "    <tr>\n",
              "      <th>125971</th>\n",
              "      <td>-0.110249</td>\n",
              "      <td>tcp</td>\n",
              "      <td>klogin</td>\n",
              "      <td>S0</td>\n",
              "      <td>-0.007762</td>\n",
              "      <td>-0.004919</td>\n",
              "      <td>-0.014089</td>\n",
              "      <td>-0.089486</td>\n",
              "      <td>-0.007736</td>\n",
              "      <td>-0.095076</td>\n",
              "      <td>...</td>\n",
              "      <td>-0.480197</td>\n",
              "      <td>-0.289103</td>\n",
              "      <td>1.608759</td>\n",
              "      <td>1.618955</td>\n",
              "      <td>-0.387635</td>\n",
              "      <td>-0.376387</td>\n",
              "      <td>0</td>\n",
              "      <td>True</td>\n",
              "      <td>False</td>\n",
              "      <td>abnormal</td>\n",
              "    </tr>\n",
              "    <tr>\n",
              "      <th>125972</th>\n",
              "      <td>-0.110249</td>\n",
              "      <td>tcp</td>\n",
              "      <td>ftp_data</td>\n",
              "      <td>SF</td>\n",
              "      <td>-0.007737</td>\n",
              "      <td>-0.004919</td>\n",
              "      <td>-0.014089</td>\n",
              "      <td>-0.089486</td>\n",
              "      <td>-0.007736</td>\n",
              "      <td>-0.095076</td>\n",
              "      <td>...</td>\n",
              "      <td>0.490690</td>\n",
              "      <td>-0.289103</td>\n",
              "      <td>-0.639532</td>\n",
              "      <td>-0.624871</td>\n",
              "      <td>-0.387635</td>\n",
              "      <td>-0.376387</td>\n",
              "      <td>1</td>\n",
              "      <td>False</td>\n",
              "      <td>True</td>\n",
              "      <td>normal</td>\n",
              "    </tr>\n",
              "  </tbody>\n",
              "</table>\n",
              "<p>125973 rows × 45 columns</p>\n",
              "</div>"
            ],
            "text/plain": [
              "        duration protocol_type   service flag  src_bytes  dst_bytes      land  \\\n",
              "0      -0.110249           tcp  ftp_data   SF  -0.007679  -0.004919 -0.014089   \n",
              "1      -0.110249           udp     other   SF  -0.007737  -0.004919 -0.014089   \n",
              "2      -0.110249           tcp   private   S0  -0.007762  -0.004919 -0.014089   \n",
              "3      -0.110249           tcp      http   SF  -0.007723  -0.002891 -0.014089   \n",
              "4      -0.110249           tcp      http   SF  -0.007728  -0.004814 -0.014089   \n",
              "...          ...           ...       ...  ...        ...        ...       ...   \n",
              "125968 -0.110249           tcp   private   S0  -0.007762  -0.004919 -0.014089   \n",
              "125969 -0.107178           udp   private   SF  -0.007744  -0.004883 -0.014089   \n",
              "125970 -0.110249           tcp      smtp   SF  -0.007382  -0.004823 -0.014089   \n",
              "125971 -0.110249           tcp    klogin   S0  -0.007762  -0.004919 -0.014089   \n",
              "125972 -0.110249           tcp  ftp_data   SF  -0.007737  -0.004919 -0.014089   \n",
              "\n",
              "        wrong_fragment    urgent       hot  ...  dst_host_same_src_port_rate  \\\n",
              "0            -0.089486 -0.007736 -0.095076  ...                     0.069972   \n",
              "1            -0.089486 -0.007736 -0.095076  ...                     2.367737   \n",
              "2            -0.089486 -0.007736 -0.095076  ...                    -0.480197   \n",
              "3            -0.089486 -0.007736 -0.095076  ...                    -0.383108   \n",
              "4            -0.089486 -0.007736 -0.095076  ...                    -0.480197   \n",
              "...                ...       ...       ...  ...                          ...   \n",
              "125968       -0.089486 -0.007736 -0.095076  ...                    -0.480197   \n",
              "125969       -0.089486 -0.007736 -0.095076  ...                    -0.447834   \n",
              "125970       -0.089486 -0.007736 -0.095076  ...                    -0.480197   \n",
              "125971       -0.089486 -0.007736 -0.095076  ...                    -0.480197   \n",
              "125972       -0.089486 -0.007736 -0.095076  ...                     0.490690   \n",
              "\n",
              "        dst_host_srv_diff_host_rate  dst_host_serror_rate  \\\n",
              "0                         -0.289103             -0.639532   \n",
              "1                         -0.289103             -0.639532   \n",
              "2                         -0.289103              1.608759   \n",
              "3                          0.066252             -0.572083   \n",
              "4                         -0.289103             -0.639532   \n",
              "...                             ...                   ...   \n",
              "125968                    -0.289103              1.608759   \n",
              "125969                    -0.289103             -0.639532   \n",
              "125970                    -0.289103              0.979238   \n",
              "125971                    -0.289103              1.608759   \n",
              "125972                    -0.289103             -0.639532   \n",
              "\n",
              "        dst_host_srv_serror_rate  dst_host_rerror_rate  \\\n",
              "0                      -0.624871             -0.224532   \n",
              "1                      -0.624871             -0.387635   \n",
              "2                       1.618955             -0.387635   \n",
              "3                      -0.602433             -0.387635   \n",
              "4                      -0.624871             -0.387635   \n",
              "...                          ...                   ...   \n",
              "125968                  1.618955             -0.387635   \n",
              "125969                 -0.624871             -0.387635   \n",
              "125970                 -0.624871             -0.355014   \n",
              "125971                  1.618955             -0.387635   \n",
              "125972                 -0.624871             -0.387635   \n",
              "\n",
              "        dst_host_srv_rerror_rate  intrusion  abnormal  normal     label  \n",
              "0                      -0.376387          1     False    True    normal  \n",
              "1                      -0.376387          1     False    True    normal  \n",
              "2                      -0.376387          0      True   False  abnormal  \n",
              "3                      -0.345084          1     False    True    normal  \n",
              "4                      -0.376387          1     False    True    normal  \n",
              "...                          ...        ...       ...     ...       ...  \n",
              "125968                 -0.376387          0      True   False  abnormal  \n",
              "125969                 -0.376387          1     False    True    normal  \n",
              "125970                 -0.376387          1     False    True    normal  \n",
              "125971                 -0.376387          0      True   False  abnormal  \n",
              "125972                 -0.376387          1     False    True    normal  \n",
              "\n",
              "[125973 rows x 45 columns]"
            ]
          },
          "execution_count": 26,
          "metadata": {},
          "output_type": "execute_result"
        }
      ],
      "source": [
        "# one-hot-encoding attack label\n",
        "bin_data = pd.get_dummies(bin_data,columns=['label'],prefix=\"\",prefix_sep=\"\") \n",
        "bin_data['label'] = bin_label\n",
        "bin_data"
      ]
    },
    {
      "cell_type": "code",
      "execution_count": 27,
      "metadata": {
        "colab": {
          "base_uri": "https://localhost:8080/",
          "height": 482
        },
        "id": "BJQh57yoKjTl",
        "outputId": "b8fb9889-e8d1-4451-f8e8-f64d07853816"
      },
      "outputs": [
        {
          "data": {
            "image/png": "[encoded data removed]",
            "text/plain": [
              "<Figure size 800x800 with 1 Axes>"
            ]
          },
          "metadata": {},
          "output_type": "display_data"
        }
      ],
      "source": [
        "# pie chart distribution of normal and abnormal labels\n",
        "plt.figure(figsize=(8,8))\n",
        "plt.pie(bin_data.label.value_counts(),labels=bin_data.label.unique(),autopct='%0.2f%%')\n",
        "plt.title(\"Pie chart distribution of normal and abnormal labels\")\n",
        "plt.legend()\n",
        "plt.savefig('plots/Pie_chart_binary.png')\n",
        "plt.show()"
      ]
    },
    {
      "cell_type": "markdown",
      "metadata": {
        "id": "nhL91ZiIJY1f"
      },
      "source": [
        "# **Multi-class Classification**"
      ]
    },
    {
      "cell_type": "code",
      "execution_count": 29,
      "metadata": {
        "id": "b2U716KRVxsG"
      },
      "outputs": [],
      "source": [
        "# label encoding (0,1,2,3,4) multi-class labels (Dos,normal,Probe,R2L,U2R)\n",
        "le2 = preprocessing.LabelEncoder()\n",
        "enc_label = multi_label.apply(le2.fit_transform)\n",
        "multi_data['intrusion'] = enc_label"
      ]
    },
    {
      "cell_type": "code",
      "execution_count": 30,
      "metadata": {
        "id": "9rqlHJotuBlF"
      },
      "outputs": [],
      "source": [
        "np.save(\"labels/le2_classes.npy\",le2.classes_,allow_pickle=True)"
      ]
    },
    {
      "cell_type": "code",
      "execution_count": 31,
      "metadata": {
        "colab": {
          "base_uri": "https://localhost:8080/",
          "height": 439
        },
        "id": "MEUCGn2MYCzu",
        "outputId": "c587fa39-8acc-4df5-a15a-13fb365b1617"
      },
      "outputs": [
        {
          "data": {
            "text/html": [
              "<div>\n",
              "<style scoped>\n",
              "    .dataframe tbody tr th:only-of-type {\n",
              "        vertical-align: middle;\n",
              "    }\n",
              "\n",
              "    .dataframe tbody tr th {\n",
              "        vertical-align: top;\n",
              "    }\n",
              "\n",
              "    .dataframe thead th {\n",
              "        text-align: right;\n",
              "    }\n",
              "</style>\n",
              "<table border=\"1\" class=\"dataframe\">\n",
              "  <thead>\n",
              "    <tr style=\"text-align: right;\">\n",
              "      <th></th>\n",
              "      <th>duration</th>\n",
              "      <th>protocol_type</th>\n",
              "      <th>service</th>\n",
              "      <th>flag</th>\n",
              "      <th>src_bytes</th>\n",
              "      <th>dst_bytes</th>\n",
              "      <th>land</th>\n",
              "      <th>wrong_fragment</th>\n",
              "      <th>urgent</th>\n",
              "      <th>hot</th>\n",
              "      <th>...</th>\n",
              "      <th>dst_host_srv_serror_rate</th>\n",
              "      <th>dst_host_rerror_rate</th>\n",
              "      <th>dst_host_srv_rerror_rate</th>\n",
              "      <th>intrusion</th>\n",
              "      <th>Dos</th>\n",
              "      <th>Probe</th>\n",
              "      <th>R2L</th>\n",
              "      <th>U2R</th>\n",
              "      <th>normal</th>\n",
              "      <th>label</th>\n",
              "    </tr>\n",
              "  </thead>\n",
              "  <tbody>\n",
              "    <tr>\n",
              "      <th>0</th>\n",
              "      <td>-0.110249</td>\n",
              "      <td>tcp</td>\n",
              "      <td>ftp_data</td>\n",
              "      <td>SF</td>\n",
              "      <td>-0.007679</td>\n",
              "      <td>-0.004919</td>\n",
              "      <td>-0.014089</td>\n",
              "      <td>-0.089486</td>\n",
              "      <td>-0.007736</td>\n",
              "      <td>-0.095076</td>\n",
              "      <td>...</td>\n",
              "      <td>-0.624871</td>\n",
              "      <td>-0.224532</td>\n",
              "      <td>-0.376387</td>\n",
              "      <td>4</td>\n",
              "      <td>False</td>\n",
              "      <td>False</td>\n",
              "      <td>False</td>\n",
              "      <td>False</td>\n",
              "      <td>True</td>\n",
              "      <td>normal</td>\n",
              "    </tr>\n",
              "    <tr>\n",
              "      <th>1</th>\n",
              "      <td>-0.110249</td>\n",
              "      <td>udp</td>\n",
              "      <td>other</td>\n",
              "      <td>SF</td>\n",
              "      <td>-0.007737</td>\n",
              "      <td>-0.004919</td>\n",
              "      <td>-0.014089</td>\n",
              "      <td>-0.089486</td>\n",
              "      <td>-0.007736</td>\n",
              "      <td>-0.095076</td>\n",
              "      <td>...</td>\n",
              "      <td>-0.624871</td>\n",
              "      <td>-0.387635</td>\n",
              "      <td>-0.376387</td>\n",
              "      <td>4</td>\n",
              "      <td>False</td>\n",
              "      <td>False</td>\n",
              "      <td>False</td>\n",
              "      <td>False</td>\n",
              "      <td>True</td>\n",
              "      <td>normal</td>\n",
              "    </tr>\n",
              "    <tr>\n",
              "      <th>2</th>\n",
              "      <td>-0.110249</td>\n",
              "      <td>tcp</td>\n",
              "      <td>private</td>\n",
              "      <td>S0</td>\n",
              "      <td>-0.007762</td>\n",
              "      <td>-0.004919</td>\n",
              "      <td>-0.014089</td>\n",
              "      <td>-0.089486</td>\n",
              "      <td>-0.007736</td>\n",
              "      <td>-0.095076</td>\n",
              "      <td>...</td>\n",
              "      <td>1.618955</td>\n",
              "      <td>-0.387635</td>\n",
              "      <td>-0.376387</td>\n",
              "      <td>0</td>\n",
              "      <td>True</td>\n",
              "      <td>False</td>\n",
              "      <td>False</td>\n",
              "      <td>False</td>\n",
              "      <td>False</td>\n",
              "      <td>Dos</td>\n",
              "    </tr>\n",
              "    <tr>\n",
              "      <th>3</th>\n",
              "      <td>-0.110249</td>\n",
              "      <td>tcp</td>\n",
              "      <td>http</td>\n",
              "      <td>SF</td>\n",
              "      <td>-0.007723</td>\n",
              "      <td>-0.002891</td>\n",
              "      <td>-0.014089</td>\n",
              "      <td>-0.089486</td>\n",
              "      <td>-0.007736</td>\n",
              "      <td>-0.095076</td>\n",
              "      <td>...</td>\n",
              "      <td>-0.602433</td>\n",
              "      <td>-0.387635</td>\n",
              "      <td>-0.345084</td>\n",
              "      <td>4</td>\n",
              "      <td>False</td>\n",
              "      <td>False</td>\n",
              "      <td>False</td>\n",
              "      <td>False</td>\n",
              "      <td>True</td>\n",
              "      <td>normal</td>\n",
              "    </tr>\n",
              "    <tr>\n",
              "      <th>4</th>\n",
              "      <td>-0.110249</td>\n",
              "      <td>tcp</td>\n",
              "      <td>http</td>\n",
              "      <td>SF</td>\n",
              "      <td>-0.007728</td>\n",
              "      <td>-0.004814</td>\n",
              "      <td>-0.014089</td>\n",
              "      <td>-0.089486</td>\n",
              "      <td>-0.007736</td>\n",
              "      <td>-0.095076</td>\n",
              "      <td>...</td>\n",
              "      <td>-0.624871</td>\n",
              "      <td>-0.387635</td>\n",
              "      <td>-0.376387</td>\n",
              "      <td>4</td>\n",
              "      <td>False</td>\n",
              "      <td>False</td>\n",
              "      <td>False</td>\n",
              "      <td>False</td>\n",
              "      <td>True</td>\n",
              "      <td>normal</td>\n",
              "    </tr>\n",
              "    <tr>\n",
              "      <th>...</th>\n",
              "      <td>...</td>\n",
              "      <td>...</td>\n",
              "      <td>...</td>\n",
              "      <td>...</td>\n",
              "      <td>...</td>\n",
              "      <td>...</td>\n",
              "      <td>...</td>\n",
              "      <td>...</td>\n",
              "      <td>...</td>\n",
              "      <td>...</td>\n",
              "      <td>...</td>\n",
              "      <td>...</td>\n",
              "      <td>...</td>\n",
              "      <td>...</td>\n",
              "      <td>...</td>\n",
              "      <td>...</td>\n",
              "      <td>...</td>\n",
              "      <td>...</td>\n",
              "      <td>...</td>\n",
              "      <td>...</td>\n",
              "      <td>...</td>\n",
              "    </tr>\n",
              "    <tr>\n",
              "      <th>125968</th>\n",
              "      <td>-0.110249</td>\n",
              "      <td>tcp</td>\n",
              "      <td>private</td>\n",
              "      <td>S0</td>\n",
              "      <td>-0.007762</td>\n",
              "      <td>-0.004919</td>\n",
              "      <td>-0.014089</td>\n",
              "      <td>-0.089486</td>\n",
              "      <td>-0.007736</td>\n",
              "      <td>-0.095076</td>\n",
              "      <td>...</td>\n",
              "      <td>1.618955</td>\n",
              "      <td>-0.387635</td>\n",
              "      <td>-0.376387</td>\n",
              "      <td>0</td>\n",
              "      <td>True</td>\n",
              "      <td>False</td>\n",
              "      <td>False</td>\n",
              "      <td>False</td>\n",
              "      <td>False</td>\n",
              "      <td>Dos</td>\n",
              "    </tr>\n",
              "    <tr>\n",
              "      <th>125969</th>\n",
              "      <td>-0.107178</td>\n",
              "      <td>udp</td>\n",
              "      <td>private</td>\n",
              "      <td>SF</td>\n",
              "      <td>-0.007744</td>\n",
              "      <td>-0.004883</td>\n",
              "      <td>-0.014089</td>\n",
              "      <td>-0.089486</td>\n",
              "      <td>-0.007736</td>\n",
              "      <td>-0.095076</td>\n",
              "      <td>...</td>\n",
              "      <td>-0.624871</td>\n",
              "      <td>-0.387635</td>\n",
              "      <td>-0.376387</td>\n",
              "      <td>4</td>\n",
              "      <td>False</td>\n",
              "      <td>False</td>\n",
              "      <td>False</td>\n",
              "      <td>False</td>\n",
              "      <td>True</td>\n",
              "      <td>normal</td>\n",
              "    </tr>\n",
              "    <tr>\n",
              "      <th>125970</th>\n",
              "      <td>-0.110249</td>\n",
              "      <td>tcp</td>\n",
              "      <td>smtp</td>\n",
              "      <td>SF</td>\n",
              "      <td>-0.007382</td>\n",
              "      <td>-0.004823</td>\n",
              "      <td>-0.014089</td>\n",
              "      <td>-0.089486</td>\n",
              "      <td>-0.007736</td>\n",
              "      <td>-0.095076</td>\n",
              "      <td>...</td>\n",
              "      <td>-0.624871</td>\n",
              "      <td>-0.355014</td>\n",
              "      <td>-0.376387</td>\n",
              "      <td>4</td>\n",
              "      <td>False</td>\n",
              "      <td>False</td>\n",
              "      <td>False</td>\n",
              "      <td>False</td>\n",
              "      <td>True</td>\n",
              "      <td>normal</td>\n",
              "    </tr>\n",
              "    <tr>\n",
              "      <th>125971</th>\n",
              "      <td>-0.110249</td>\n",
              "      <td>tcp</td>\n",
              "      <td>klogin</td>\n",
              "      <td>S0</td>\n",
              "      <td>-0.007762</td>\n",
              "      <td>-0.004919</td>\n",
              "      <td>-0.014089</td>\n",
              "      <td>-0.089486</td>\n",
              "      <td>-0.007736</td>\n",
              "      <td>-0.095076</td>\n",
              "      <td>...</td>\n",
              "      <td>1.618955</td>\n",
              "      <td>-0.387635</td>\n",
              "      <td>-0.376387</td>\n",
              "      <td>0</td>\n",
              "      <td>True</td>\n",
              "      <td>False</td>\n",
              "      <td>False</td>\n",
              "      <td>False</td>\n",
              "      <td>False</td>\n",
              "      <td>Dos</td>\n",
              "    </tr>\n",
              "    <tr>\n",
              "      <th>125972</th>\n",
              "      <td>-0.110249</td>\n",
              "      <td>tcp</td>\n",
              "      <td>ftp_data</td>\n",
              "      <td>SF</td>\n",
              "      <td>-0.007737</td>\n",
              "      <td>-0.004919</td>\n",
              "      <td>-0.014089</td>\n",
              "      <td>-0.089486</td>\n",
              "      <td>-0.007736</td>\n",
              "      <td>-0.095076</td>\n",
              "      <td>...</td>\n",
              "      <td>-0.624871</td>\n",
              "      <td>-0.387635</td>\n",
              "      <td>-0.376387</td>\n",
              "      <td>4</td>\n",
              "      <td>False</td>\n",
              "      <td>False</td>\n",
              "      <td>False</td>\n",
              "      <td>False</td>\n",
              "      <td>True</td>\n",
              "      <td>normal</td>\n",
              "    </tr>\n",
              "  </tbody>\n",
              "</table>\n",
              "<p>125973 rows × 48 columns</p>\n",
              "</div>"
            ],
            "text/plain": [
              "        duration protocol_type   service flag  src_bytes  dst_bytes      land  \\\n",
              "0      -0.110249           tcp  ftp_data   SF  -0.007679  -0.004919 -0.014089   \n",
              "1      -0.110249           udp     other   SF  -0.007737  -0.004919 -0.014089   \n",
              "2      -0.110249           tcp   private   S0  -0.007762  -0.004919 -0.014089   \n",
              "3      -0.110249           tcp      http   SF  -0.007723  -0.002891 -0.014089   \n",
              "4      -0.110249           tcp      http   SF  -0.007728  -0.004814 -0.014089   \n",
              "...          ...           ...       ...  ...        ...        ...       ...   \n",
              "125968 -0.110249           tcp   private   S0  -0.007762  -0.004919 -0.014089   \n",
              "125969 -0.107178           udp   private   SF  -0.007744  -0.004883 -0.014089   \n",
              "125970 -0.110249           tcp      smtp   SF  -0.007382  -0.004823 -0.014089   \n",
              "125971 -0.110249           tcp    klogin   S0  -0.007762  -0.004919 -0.014089   \n",
              "125972 -0.110249           tcp  ftp_data   SF  -0.007737  -0.004919 -0.014089   \n",
              "\n",
              "        wrong_fragment    urgent       hot  ...  dst_host_srv_serror_rate  \\\n",
              "0            -0.089486 -0.007736 -0.095076  ...                 -0.624871   \n",
              "1            -0.089486 -0.007736 -0.095076  ...                 -0.624871   \n",
              "2            -0.089486 -0.007736 -0.095076  ...                  1.618955   \n",
              "3            -0.089486 -0.007736 -0.095076  ...                 -0.602433   \n",
              "4            -0.089486 -0.007736 -0.095076  ...                 -0.624871   \n",
              "...                ...       ...       ...  ...                       ...   \n",
              "125968       -0.089486 -0.007736 -0.095076  ...                  1.618955   \n",
              "125969       -0.089486 -0.007736 -0.095076  ...                 -0.624871   \n",
              "125970       -0.089486 -0.007736 -0.095076  ...                 -0.624871   \n",
              "125971       -0.089486 -0.007736 -0.095076  ...                  1.618955   \n",
              "125972       -0.089486 -0.007736 -0.095076  ...                 -0.624871   \n",
              "\n",
              "        dst_host_rerror_rate  dst_host_srv_rerror_rate  intrusion    Dos  \\\n",
              "0                  -0.224532                 -0.376387          4  False   \n",
              "1                  -0.387635                 -0.376387          4  False   \n",
              "2                  -0.387635                 -0.376387          0   True   \n",
              "3                  -0.387635                 -0.345084          4  False   \n",
              "4                  -0.387635                 -0.376387          4  False   \n",
              "...                      ...                       ...        ...    ...   \n",
              "125968             -0.387635                 -0.376387          0   True   \n",
              "125969             -0.387635                 -0.376387          4  False   \n",
              "125970             -0.355014                 -0.376387          4  False   \n",
              "125971             -0.387635                 -0.376387          0   True   \n",
              "125972             -0.387635                 -0.376387          4  False   \n",
              "\n",
              "        Probe    R2L    U2R  normal   label  \n",
              "0       False  False  False    True  normal  \n",
              "1       False  False  False    True  normal  \n",
              "2       False  False  False   False     Dos  \n",
              "3       False  False  False    True  normal  \n",
              "4       False  False  False    True  normal  \n",
              "...       ...    ...    ...     ...     ...  \n",
              "125968  False  False  False   False     Dos  \n",
              "125969  False  False  False    True  normal  \n",
              "125970  False  False  False    True  normal  \n",
              "125971  False  False  False   False     Dos  \n",
              "125972  False  False  False    True  normal  \n",
              "\n",
              "[125973 rows x 48 columns]"
            ]
          },
          "execution_count": 31,
          "metadata": {},
          "output_type": "execute_result"
        }
      ],
      "source": [
        "# one-hot-encoding attack label\n",
        "multi_data = pd.get_dummies(multi_data,columns=['label'],prefix=\"\",prefix_sep=\"\") \n",
        "multi_data['label'] = multi_label\n",
        "multi_data"
      ]
    },
    {
      "cell_type": "code",
      "execution_count": 32,
      "metadata": {
        "colab": {
          "base_uri": "https://localhost:8080/",
          "height": 482
        },
        "id": "sruxvtHZK4hl",
        "outputId": "b3d05b6b-32d6-4ada-a3b2-1048a916ac88"
      },
      "outputs": [
        {
          "data": {
            "image/png": "[encoded data removed]",
            "text/plain": [
              "<Figure size 800x800 with 1 Axes>"
            ]
          },
          "metadata": {},
          "output_type": "display_data"
        }
      ],
      "source": [
        "# pie chart distribution of multi-class labels\n",
        "plt.figure(figsize=(8,8))\n",
        "plt.pie(multi_data.label.value_counts(),labels=multi_data.label.unique(),autopct='%0.2f%%')\n",
        "plt.title('Pie chart distribution of multi-class labels')\n",
        "plt.legend()\n",
        "plt.savefig('plots/Pie_chart_multi.png')\n",
        "plt.show()"
      ]
    },
    {
      "cell_type": "markdown",
      "metadata": {
        "id": "X49iCcf6VF3Q"
      },
      "source": [
        "# **Feature Extraction**"
      ]
    },
    {
      "cell_type": "code",
      "execution_count": 33,
      "metadata": {
        "colab": {
          "base_uri": "https://localhost:8080/"
        },
        "id": "n2JG6xCUXhLW",
        "outputId": "baf8de0e-c070-41c5-c038-28392a643346"
      },
      "outputs": [
        {
          "name": "stderr",
          "output_type": "stream",
          "text": [
            "/var/folders/nq/vgkkt08s1379njzw09rpv6gc0000gn/T/ipykernel_4555/1004089906.py:3: SettingWithCopyWarning: \n",
            "A value is trying to be set on a copy of a slice from a DataFrame.\n",
            "Try using .loc[row_indexer,col_indexer] = value instead\n",
            "\n",
            "See the caveats in the documentation: https://pandas.pydata.org/pandas-docs/stable/user_guide/indexing.html#returning-a-view-versus-a-copy\n",
            "  numeric_bin['intrusion'] = bin_data['intrusion']\n"
          ]
        }
      ],
      "source": [
        "# creating a dataframe with only numeric attributes of binary class dataset and encoded label attribute \n",
        "numeric_bin = bin_data[numeric_col]\n",
        "numeric_bin['intrusion'] = bin_data['intrusion']"
      ]
    },
    {
      "cell_type": "code",
      "execution_count": 34,
      "metadata": {
        "colab": {
          "base_uri": "https://localhost:8080/"
        },
        "id": "xuHb3yvBVUEI",
        "outputId": "a2f69422-6c7f-4435-fef6-813b1205c01a"
      },
      "outputs": [
        {
          "data": {
            "text/plain": [
              "count                       0.576444\n",
              "srv_serror_rate             0.648289\n",
              "serror_rate                 0.650652\n",
              "dst_host_serror_rate        0.651842\n",
              "dst_host_srv_serror_rate    0.654985\n",
              "logged_in                   0.690171\n",
              "dst_host_same_srv_rate      0.693803\n",
              "dst_host_srv_count          0.722535\n",
              "same_srv_rate               0.751913\n",
              "intrusion                   1.000000\n",
              "Name: intrusion, dtype: float64"
            ]
          },
          "execution_count": 34,
          "metadata": {},
          "output_type": "execute_result"
        }
      ],
      "source": [
        "# finding the attributes which have more than 0.5 correlation with encoded attack label attribute \n",
        "corr= numeric_bin.corr()\n",
        "corr_y = abs(corr['intrusion'])\n",
        "highest_corr = corr_y[corr_y >0.5]\n",
        "highest_corr.sort_values(ascending=True)"
      ]
    },
    {
      "cell_type": "code",
      "execution_count": 35,
      "metadata": {
        "id": "bXonAoiRXWxV"
      },
      "outputs": [],
      "source": [
        "# selecting attributes found by using pearson correlation coefficient\n",
        "numeric_bin = bin_data[['count','srv_serror_rate','serror_rate','dst_host_serror_rate','dst_host_srv_serror_rate',\n",
        "                         'logged_in','dst_host_same_srv_rate','dst_host_srv_count','same_srv_rate']]"
      ]
    },
    {
      "cell_type": "code",
      "execution_count": 36,
      "metadata": {
        "id": "36eUXW9bYc1t"
      },
      "outputs": [],
      "source": [
        "# joining the selected attribute with the one-hot-encoded categorical dataframe\n",
        "numeric_bin = numeric_bin.join(categorical)\n",
        "# then joining encoded, one-hot-encoded, and original attack label attribute\n",
        "bin_data = numeric_bin.join(bin_data[['intrusion','abnormal','normal','label']])"
      ]
    },
    {
      "cell_type": "code",
      "execution_count": 37,
      "metadata": {
        "colab": {
          "base_uri": "https://localhost:8080/",
          "height": 439
        },
        "id": "ONMo-gJod4RJ",
        "outputId": "ac45e4f0-23a3-44a2-c443-eeb48ee2dd90"
      },
      "outputs": [
        {
          "data": {
            "text/html": [
              "<div>\n",
              "<style scoped>\n",
              "    .dataframe tbody tr th:only-of-type {\n",
              "        vertical-align: middle;\n",
              "    }\n",
              "\n",
              "    .dataframe tbody tr th {\n",
              "        vertical-align: top;\n",
              "    }\n",
              "\n",
              "    .dataframe thead th {\n",
              "        text-align: right;\n",
              "    }\n",
              "</style>\n",
              "<table border=\"1\" class=\"dataframe\">\n",
              "  <thead>\n",
              "    <tr style=\"text-align: right;\">\n",
              "      <th></th>\n",
              "      <th>count</th>\n",
              "      <th>srv_serror_rate</th>\n",
              "      <th>serror_rate</th>\n",
              "      <th>dst_host_serror_rate</th>\n",
              "      <th>dst_host_srv_serror_rate</th>\n",
              "      <th>logged_in</th>\n",
              "      <th>dst_host_same_srv_rate</th>\n",
              "      <th>dst_host_srv_count</th>\n",
              "      <th>same_srv_rate</th>\n",
              "      <th>protocol_type_icmp</th>\n",
              "      <th>...</th>\n",
              "      <th>flag_S0</th>\n",
              "      <th>flag_S1</th>\n",
              "      <th>flag_S2</th>\n",
              "      <th>flag_S3</th>\n",
              "      <th>flag_SF</th>\n",
              "      <th>flag_SH</th>\n",
              "      <th>intrusion</th>\n",
              "      <th>abnormal</th>\n",
              "      <th>normal</th>\n",
              "      <th>label</th>\n",
              "    </tr>\n",
              "  </thead>\n",
              "  <tbody>\n",
              "    <tr>\n",
              "      <th>0</th>\n",
              "      <td>-0.717045</td>\n",
              "      <td>-0.631929</td>\n",
              "      <td>-0.637209</td>\n",
              "      <td>-0.639532</td>\n",
              "      <td>-0.624871</td>\n",
              "      <td>-0.809262</td>\n",
              "      <td>-0.782367</td>\n",
              "      <td>-0.818890</td>\n",
              "      <td>0.771283</td>\n",
              "      <td>False</td>\n",
              "      <td>...</td>\n",
              "      <td>False</td>\n",
              "      <td>False</td>\n",
              "      <td>False</td>\n",
              "      <td>False</td>\n",
              "      <td>True</td>\n",
              "      <td>False</td>\n",
              "      <td>1</td>\n",
              "      <td>False</td>\n",
              "      <td>True</td>\n",
              "      <td>normal</td>\n",
              "    </tr>\n",
              "    <tr>\n",
              "      <th>1</th>\n",
              "      <td>-0.620982</td>\n",
              "      <td>-0.631929</td>\n",
              "      <td>-0.637209</td>\n",
              "      <td>-0.639532</td>\n",
              "      <td>-0.624871</td>\n",
              "      <td>-0.809262</td>\n",
              "      <td>-1.161030</td>\n",
              "      <td>-1.035688</td>\n",
              "      <td>-1.321428</td>\n",
              "      <td>False</td>\n",
              "      <td>...</td>\n",
              "      <td>False</td>\n",
              "      <td>False</td>\n",
              "      <td>False</td>\n",
              "      <td>False</td>\n",
              "      <td>True</td>\n",
              "      <td>False</td>\n",
              "      <td>1</td>\n",
              "      <td>False</td>\n",
              "      <td>True</td>\n",
              "      <td>normal</td>\n",
              "    </tr>\n",
              "    <tr>\n",
              "      <th>2</th>\n",
              "      <td>0.339648</td>\n",
              "      <td>1.605104</td>\n",
              "      <td>1.602664</td>\n",
              "      <td>1.608759</td>\n",
              "      <td>1.618955</td>\n",
              "      <td>-0.809262</td>\n",
              "      <td>-0.938287</td>\n",
              "      <td>-0.809857</td>\n",
              "      <td>-1.389669</td>\n",
              "      <td>False</td>\n",
              "      <td>...</td>\n",
              "      <td>True</td>\n",
              "      <td>False</td>\n",
              "      <td>False</td>\n",
              "      <td>False</td>\n",
              "      <td>False</td>\n",
              "      <td>False</td>\n",
              "      <td>0</td>\n",
              "      <td>True</td>\n",
              "      <td>False</td>\n",
              "      <td>abnormal</td>\n",
              "    </tr>\n",
              "    <tr>\n",
              "      <th>3</th>\n",
              "      <td>-0.690846</td>\n",
              "      <td>-0.184522</td>\n",
              "      <td>-0.189235</td>\n",
              "      <td>-0.572083</td>\n",
              "      <td>-0.602433</td>\n",
              "      <td>1.235694</td>\n",
              "      <td>1.066401</td>\n",
              "      <td>1.258754</td>\n",
              "      <td>0.771283</td>\n",
              "      <td>False</td>\n",
              "      <td>...</td>\n",
              "      <td>False</td>\n",
              "      <td>False</td>\n",
              "      <td>False</td>\n",
              "      <td>False</td>\n",
              "      <td>True</td>\n",
              "      <td>False</td>\n",
              "      <td>1</td>\n",
              "      <td>False</td>\n",
              "      <td>True</td>\n",
              "      <td>normal</td>\n",
              "    </tr>\n",
              "    <tr>\n",
              "      <th>4</th>\n",
              "      <td>-0.472521</td>\n",
              "      <td>-0.631929</td>\n",
              "      <td>-0.637209</td>\n",
              "      <td>-0.639532</td>\n",
              "      <td>-0.624871</td>\n",
              "      <td>1.235694</td>\n",
              "      <td>1.066401</td>\n",
              "      <td>1.258754</td>\n",
              "      <td>0.771283</td>\n",
              "      <td>False</td>\n",
              "      <td>...</td>\n",
              "      <td>False</td>\n",
              "      <td>False</td>\n",
              "      <td>False</td>\n",
              "      <td>False</td>\n",
              "      <td>True</td>\n",
              "      <td>False</td>\n",
              "      <td>1</td>\n",
              "      <td>False</td>\n",
              "      <td>True</td>\n",
              "      <td>normal</td>\n",
              "    </tr>\n",
              "    <tr>\n",
              "      <th>...</th>\n",
              "      <td>...</td>\n",
              "      <td>...</td>\n",
              "      <td>...</td>\n",
              "      <td>...</td>\n",
              "      <td>...</td>\n",
              "      <td>...</td>\n",
              "      <td>...</td>\n",
              "      <td>...</td>\n",
              "      <td>...</td>\n",
              "      <td>...</td>\n",
              "      <td>...</td>\n",
              "      <td>...</td>\n",
              "      <td>...</td>\n",
              "      <td>...</td>\n",
              "      <td>...</td>\n",
              "      <td>...</td>\n",
              "      <td>...</td>\n",
              "      <td>...</td>\n",
              "      <td>...</td>\n",
              "      <td>...</td>\n",
              "      <td>...</td>\n",
              "    </tr>\n",
              "    <tr>\n",
              "      <th>125968</th>\n",
              "      <td>0.872361</td>\n",
              "      <td>1.605104</td>\n",
              "      <td>1.602664</td>\n",
              "      <td>1.608759</td>\n",
              "      <td>1.618955</td>\n",
              "      <td>-0.809262</td>\n",
              "      <td>-0.938287</td>\n",
              "      <td>-0.818890</td>\n",
              "      <td>-1.184947</td>\n",
              "      <td>False</td>\n",
              "      <td>...</td>\n",
              "      <td>True</td>\n",
              "      <td>False</td>\n",
              "      <td>False</td>\n",
              "      <td>False</td>\n",
              "      <td>False</td>\n",
              "      <td>False</td>\n",
              "      <td>0</td>\n",
              "      <td>True</td>\n",
              "      <td>False</td>\n",
              "      <td>abnormal</td>\n",
              "    </tr>\n",
              "    <tr>\n",
              "      <th>125969</th>\n",
              "      <td>-0.717045</td>\n",
              "      <td>-0.631929</td>\n",
              "      <td>-0.637209</td>\n",
              "      <td>-0.639532</td>\n",
              "      <td>-0.624871</td>\n",
              "      <td>-0.809262</td>\n",
              "      <td>0.977304</td>\n",
              "      <td>1.159389</td>\n",
              "      <td>0.771283</td>\n",
              "      <td>False</td>\n",
              "      <td>...</td>\n",
              "      <td>False</td>\n",
              "      <td>False</td>\n",
              "      <td>False</td>\n",
              "      <td>False</td>\n",
              "      <td>True</td>\n",
              "      <td>False</td>\n",
              "      <td>1</td>\n",
              "      <td>False</td>\n",
              "      <td>True</td>\n",
              "      <td>normal</td>\n",
              "    </tr>\n",
              "    <tr>\n",
              "      <th>125970</th>\n",
              "      <td>-0.725778</td>\n",
              "      <td>-0.631929</td>\n",
              "      <td>-0.637209</td>\n",
              "      <td>0.979238</td>\n",
              "      <td>-0.624871</td>\n",
              "      <td>1.235694</td>\n",
              "      <td>-0.893738</td>\n",
              "      <td>-0.773724</td>\n",
              "      <td>0.771283</td>\n",
              "      <td>False</td>\n",
              "      <td>...</td>\n",
              "      <td>False</td>\n",
              "      <td>False</td>\n",
              "      <td>False</td>\n",
              "      <td>False</td>\n",
              "      <td>True</td>\n",
              "      <td>False</td>\n",
              "      <td>1</td>\n",
              "      <td>False</td>\n",
              "      <td>True</td>\n",
              "      <td>normal</td>\n",
              "    </tr>\n",
              "    <tr>\n",
              "      <th>125971</th>\n",
              "      <td>0.523041</td>\n",
              "      <td>1.605104</td>\n",
              "      <td>1.602664</td>\n",
              "      <td>1.608759</td>\n",
              "      <td>1.618955</td>\n",
              "      <td>-0.809262</td>\n",
              "      <td>-1.094207</td>\n",
              "      <td>-0.972455</td>\n",
              "      <td>-1.366922</td>\n",
              "      <td>False</td>\n",
              "      <td>...</td>\n",
              "      <td>True</td>\n",
              "      <td>False</td>\n",
              "      <td>False</td>\n",
              "      <td>False</td>\n",
              "      <td>False</td>\n",
              "      <td>False</td>\n",
              "      <td>0</td>\n",
              "      <td>True</td>\n",
              "      <td>False</td>\n",
              "      <td>abnormal</td>\n",
              "    </tr>\n",
              "    <tr>\n",
              "      <th>125972</th>\n",
              "      <td>-0.725778</td>\n",
              "      <td>-0.631929</td>\n",
              "      <td>-0.637209</td>\n",
              "      <td>-0.639532</td>\n",
              "      <td>-0.624871</td>\n",
              "      <td>1.235694</td>\n",
              "      <td>-0.492801</td>\n",
              "      <td>-0.349162</td>\n",
              "      <td>0.771283</td>\n",
              "      <td>False</td>\n",
              "      <td>...</td>\n",
              "      <td>False</td>\n",
              "      <td>False</td>\n",
              "      <td>False</td>\n",
              "      <td>False</td>\n",
              "      <td>True</td>\n",
              "      <td>False</td>\n",
              "      <td>1</td>\n",
              "      <td>False</td>\n",
              "      <td>True</td>\n",
              "      <td>normal</td>\n",
              "    </tr>\n",
              "  </tbody>\n",
              "</table>\n",
              "<p>125973 rows × 97 columns</p>\n",
              "</div>"
            ],
            "text/plain": [
              "           count  srv_serror_rate  serror_rate  dst_host_serror_rate  \\\n",
              "0      -0.717045        -0.631929    -0.637209             -0.639532   \n",
              "1      -0.620982        -0.631929    -0.637209             -0.639532   \n",
              "2       0.339648         1.605104     1.602664              1.608759   \n",
              "3      -0.690846        -0.184522    -0.189235             -0.572083   \n",
              "4      -0.472521        -0.631929    -0.637209             -0.639532   \n",
              "...          ...              ...          ...                   ...   \n",
              "125968  0.872361         1.605104     1.602664              1.608759   \n",
              "125969 -0.717045        -0.631929    -0.637209             -0.639532   \n",
              "125970 -0.725778        -0.631929    -0.637209              0.979238   \n",
              "125971  0.523041         1.605104     1.602664              1.608759   \n",
              "125972 -0.725778        -0.631929    -0.637209             -0.639532   \n",
              "\n",
              "        dst_host_srv_serror_rate  logged_in  dst_host_same_srv_rate  \\\n",
              "0                      -0.624871  -0.809262               -0.782367   \n",
              "1                      -0.624871  -0.809262               -1.161030   \n",
              "2                       1.618955  -0.809262               -0.938287   \n",
              "3                      -0.602433   1.235694                1.066401   \n",
              "4                      -0.624871   1.235694                1.066401   \n",
              "...                          ...        ...                     ...   \n",
              "125968                  1.618955  -0.809262               -0.938287   \n",
              "125969                 -0.624871  -0.809262                0.977304   \n",
              "125970                 -0.624871   1.235694               -0.893738   \n",
              "125971                  1.618955  -0.809262               -1.094207   \n",
              "125972                 -0.624871   1.235694               -0.492801   \n",
              "\n",
              "        dst_host_srv_count  same_srv_rate  protocol_type_icmp  ...  flag_S0  \\\n",
              "0                -0.818890       0.771283               False  ...    False   \n",
              "1                -1.035688      -1.321428               False  ...    False   \n",
              "2                -0.809857      -1.389669               False  ...     True   \n",
              "3                 1.258754       0.771283               False  ...    False   \n",
              "4                 1.258754       0.771283               False  ...    False   \n",
              "...                    ...            ...                 ...  ...      ...   \n",
              "125968           -0.818890      -1.184947               False  ...     True   \n",
              "125969            1.159389       0.771283               False  ...    False   \n",
              "125970           -0.773724       0.771283               False  ...    False   \n",
              "125971           -0.972455      -1.366922               False  ...     True   \n",
              "125972           -0.349162       0.771283               False  ...    False   \n",
              "\n",
              "        flag_S1  flag_S2  flag_S3  flag_SF  flag_SH  intrusion  abnormal  \\\n",
              "0         False    False    False     True    False          1     False   \n",
              "1         False    False    False     True    False          1     False   \n",
              "2         False    False    False    False    False          0      True   \n",
              "3         False    False    False     True    False          1     False   \n",
              "4         False    False    False     True    False          1     False   \n",
              "...         ...      ...      ...      ...      ...        ...       ...   \n",
              "125968    False    False    False    False    False          0      True   \n",
              "125969    False    False    False     True    False          1     False   \n",
              "125970    False    False    False     True    False          1     False   \n",
              "125971    False    False    False    False    False          0      True   \n",
              "125972    False    False    False     True    False          1     False   \n",
              "\n",
              "        normal     label  \n",
              "0         True    normal  \n",
              "1         True    normal  \n",
              "2        False  abnormal  \n",
              "3         True    normal  \n",
              "4         True    normal  \n",
              "...        ...       ...  \n",
              "125968   False  abnormal  \n",
              "125969    True    normal  \n",
              "125970    True    normal  \n",
              "125971   False  abnormal  \n",
              "125972    True    normal  \n",
              "\n",
              "[125973 rows x 97 columns]"
            ]
          },
          "execution_count": 37,
          "metadata": {},
          "output_type": "execute_result"
        }
      ],
      "source": [
        "# saving final dataset to disk\n",
        "bin_data.to_csv(\"./datasets/bin_data.csv\")\n",
        "# final dataset for binary classification\n",
        "bin_data"
      ]
    },
    {
      "cell_type": "code",
      "execution_count": 38,
      "metadata": {
        "colab": {
          "base_uri": "https://localhost:8080/"
        },
        "id": "Wzyc6HZIwE9N",
        "outputId": "ad471ada-b609-4ca9-fa46-2dc1f38dc1b2"
      },
      "outputs": [
        {
          "name": "stderr",
          "output_type": "stream",
          "text": [
            "/var/folders/nq/vgkkt08s1379njzw09rpv6gc0000gn/T/ipykernel_4555/2873760033.py:3: SettingWithCopyWarning: \n",
            "A value is trying to be set on a copy of a slice from a DataFrame.\n",
            "Try using .loc[row_indexer,col_indexer] = value instead\n",
            "\n",
            "See the caveats in the documentation: https://pandas.pydata.org/pandas-docs/stable/user_guide/indexing.html#returning-a-view-versus-a-copy\n",
            "  numeric_multi['intrusion'] = multi_data['intrusion']\n"
          ]
        }
      ],
      "source": [
        "# creating a dataframe with only numeric attributes of multi-class dataset and encoded label attribute \n",
        "numeric_multi = multi_data[numeric_col]\n",
        "numeric_multi['intrusion'] = multi_data['intrusion']"
      ]
    },
    {
      "cell_type": "code",
      "execution_count": 39,
      "metadata": {
        "colab": {
          "base_uri": "https://localhost:8080/"
        },
        "id": "34ZtfWEFwLvV",
        "outputId": "00b0d5e5-a118-45d4-aea5-74ad74417923"
      },
      "outputs": [
        {
          "data": {
            "text/plain": [
              "count                       0.613251\n",
              "logged_in                   0.693770\n",
              "srv_serror_rate             0.710852\n",
              "serror_rate                 0.712861\n",
              "dst_host_serror_rate        0.714247\n",
              "dst_host_same_srv_rate      0.716820\n",
              "dst_host_srv_serror_rate    0.717387\n",
              "dst_host_srv_count          0.718579\n",
              "same_srv_rate               0.798358\n",
              "intrusion                   1.000000\n",
              "Name: intrusion, dtype: float64"
            ]
          },
          "execution_count": 39,
          "metadata": {},
          "output_type": "execute_result"
        }
      ],
      "source": [
        "# finding the attributes which have more than 0.5 correlation with encoded attack label attribute \n",
        "corr = numeric_multi.corr()\n",
        "corr_y = abs(corr['intrusion'])\n",
        "highest_corr = corr_y[corr_y >0.5]\n",
        "highest_corr.sort_values(ascending=True)"
      ]
    },
    {
      "cell_type": "code",
      "execution_count": 40,
      "metadata": {
        "id": "txhVQhdcxQ78"
      },
      "outputs": [],
      "source": [
        "# selecting attributes found by using pearson correlation coefficient\n",
        "numeric_multi = multi_data[['count','logged_in','srv_serror_rate','serror_rate','dst_host_serror_rate',\n",
        "                        'dst_host_same_srv_rate','dst_host_srv_serror_rate','dst_host_srv_count','same_srv_rate']]"
      ]
    },
    {
      "cell_type": "code",
      "execution_count": 41,
      "metadata": {
        "id": "-I4QDhYJYAqO"
      },
      "outputs": [],
      "source": [
        "# joining the selected attribute with the one-hot-encoded categorical dataframe\n",
        "numeric_multi = numeric_multi.join(categorical)\n",
        "# then joining encoded, one-hot-encoded, and original attack label attribute\n",
        "multi_data = numeric_multi.join(multi_data[['intrusion','Dos','Probe','R2L','U2R','normal','label']])"
      ]
    },
    {
      "cell_type": "code",
      "execution_count": 42,
      "metadata": {
        "colab": {
          "base_uri": "https://localhost:8080/",
          "height": 439
        },
        "id": "zjcUTAvbfksJ",
        "outputId": "0a0e4622-9de0-4704-dc60-ef11b2857258"
      },
      "outputs": [
        {
          "data": {
            "text/html": [
              "<div>\n",
              "<style scoped>\n",
              "    .dataframe tbody tr th:only-of-type {\n",
              "        vertical-align: middle;\n",
              "    }\n",
              "\n",
              "    .dataframe tbody tr th {\n",
              "        vertical-align: top;\n",
              "    }\n",
              "\n",
              "    .dataframe thead th {\n",
              "        text-align: right;\n",
              "    }\n",
              "</style>\n",
              "<table border=\"1\" class=\"dataframe\">\n",
              "  <thead>\n",
              "    <tr style=\"text-align: right;\">\n",
              "      <th></th>\n",
              "      <th>count</th>\n",
              "      <th>logged_in</th>\n",
              "      <th>srv_serror_rate</th>\n",
              "      <th>serror_rate</th>\n",
              "      <th>dst_host_serror_rate</th>\n",
              "      <th>dst_host_same_srv_rate</th>\n",
              "      <th>dst_host_srv_serror_rate</th>\n",
              "      <th>dst_host_srv_count</th>\n",
              "      <th>same_srv_rate</th>\n",
              "      <th>protocol_type_icmp</th>\n",
              "      <th>...</th>\n",
              "      <th>flag_S3</th>\n",
              "      <th>flag_SF</th>\n",
              "      <th>flag_SH</th>\n",
              "      <th>intrusion</th>\n",
              "      <th>Dos</th>\n",
              "      <th>Probe</th>\n",
              "      <th>R2L</th>\n",
              "      <th>U2R</th>\n",
              "      <th>normal</th>\n",
              "      <th>label</th>\n",
              "    </tr>\n",
              "  </thead>\n",
              "  <tbody>\n",
              "    <tr>\n",
              "      <th>0</th>\n",
              "      <td>-0.717045</td>\n",
              "      <td>-0.809262</td>\n",
              "      <td>-0.631929</td>\n",
              "      <td>-0.637209</td>\n",
              "      <td>-0.639532</td>\n",
              "      <td>-0.782367</td>\n",
              "      <td>-0.624871</td>\n",
              "      <td>-0.818890</td>\n",
              "      <td>0.771283</td>\n",
              "      <td>False</td>\n",
              "      <td>...</td>\n",
              "      <td>False</td>\n",
              "      <td>True</td>\n",
              "      <td>False</td>\n",
              "      <td>4</td>\n",
              "      <td>False</td>\n",
              "      <td>False</td>\n",
              "      <td>False</td>\n",
              "      <td>False</td>\n",
              "      <td>True</td>\n",
              "      <td>normal</td>\n",
              "    </tr>\n",
              "    <tr>\n",
              "      <th>1</th>\n",
              "      <td>-0.620982</td>\n",
              "      <td>-0.809262</td>\n",
              "      <td>-0.631929</td>\n",
              "      <td>-0.637209</td>\n",
              "      <td>-0.639532</td>\n",
              "      <td>-1.161030</td>\n",
              "      <td>-0.624871</td>\n",
              "      <td>-1.035688</td>\n",
              "      <td>-1.321428</td>\n",
              "      <td>False</td>\n",
              "      <td>...</td>\n",
              "      <td>False</td>\n",
              "      <td>True</td>\n",
              "      <td>False</td>\n",
              "      <td>4</td>\n",
              "      <td>False</td>\n",
              "      <td>False</td>\n",
              "      <td>False</td>\n",
              "      <td>False</td>\n",
              "      <td>True</td>\n",
              "      <td>normal</td>\n",
              "    </tr>\n",
              "    <tr>\n",
              "      <th>2</th>\n",
              "      <td>0.339648</td>\n",
              "      <td>-0.809262</td>\n",
              "      <td>1.605104</td>\n",
              "      <td>1.602664</td>\n",
              "      <td>1.608759</td>\n",
              "      <td>-0.938287</td>\n",
              "      <td>1.618955</td>\n",
              "      <td>-0.809857</td>\n",
              "      <td>-1.389669</td>\n",
              "      <td>False</td>\n",
              "      <td>...</td>\n",
              "      <td>False</td>\n",
              "      <td>False</td>\n",
              "      <td>False</td>\n",
              "      <td>0</td>\n",
              "      <td>True</td>\n",
              "      <td>False</td>\n",
              "      <td>False</td>\n",
              "      <td>False</td>\n",
              "      <td>False</td>\n",
              "      <td>Dos</td>\n",
              "    </tr>\n",
              "    <tr>\n",
              "      <th>3</th>\n",
              "      <td>-0.690846</td>\n",
              "      <td>1.235694</td>\n",
              "      <td>-0.184522</td>\n",
              "      <td>-0.189235</td>\n",
              "      <td>-0.572083</td>\n",
              "      <td>1.066401</td>\n",
              "      <td>-0.602433</td>\n",
              "      <td>1.258754</td>\n",
              "      <td>0.771283</td>\n",
              "      <td>False</td>\n",
              "      <td>...</td>\n",
              "      <td>False</td>\n",
              "      <td>True</td>\n",
              "      <td>False</td>\n",
              "      <td>4</td>\n",
              "      <td>False</td>\n",
              "      <td>False</td>\n",
              "      <td>False</td>\n",
              "      <td>False</td>\n",
              "      <td>True</td>\n",
              "      <td>normal</td>\n",
              "    </tr>\n",
              "    <tr>\n",
              "      <th>4</th>\n",
              "      <td>-0.472521</td>\n",
              "      <td>1.235694</td>\n",
              "      <td>-0.631929</td>\n",
              "      <td>-0.637209</td>\n",
              "      <td>-0.639532</td>\n",
              "      <td>1.066401</td>\n",
              "      <td>-0.624871</td>\n",
              "      <td>1.258754</td>\n",
              "      <td>0.771283</td>\n",
              "      <td>False</td>\n",
              "      <td>...</td>\n",
              "      <td>False</td>\n",
              "      <td>True</td>\n",
              "      <td>False</td>\n",
              "      <td>4</td>\n",
              "      <td>False</td>\n",
              "      <td>False</td>\n",
              "      <td>False</td>\n",
              "      <td>False</td>\n",
              "      <td>True</td>\n",
              "      <td>normal</td>\n",
              "    </tr>\n",
              "    <tr>\n",
              "      <th>...</th>\n",
              "      <td>...</td>\n",
              "      <td>...</td>\n",
              "      <td>...</td>\n",
              "      <td>...</td>\n",
              "      <td>...</td>\n",
              "      <td>...</td>\n",
              "      <td>...</td>\n",
              "      <td>...</td>\n",
              "      <td>...</td>\n",
              "      <td>...</td>\n",
              "      <td>...</td>\n",
              "      <td>...</td>\n",
              "      <td>...</td>\n",
              "      <td>...</td>\n",
              "      <td>...</td>\n",
              "      <td>...</td>\n",
              "      <td>...</td>\n",
              "      <td>...</td>\n",
              "      <td>...</td>\n",
              "      <td>...</td>\n",
              "      <td>...</td>\n",
              "    </tr>\n",
              "    <tr>\n",
              "      <th>125968</th>\n",
              "      <td>0.872361</td>\n",
              "      <td>-0.809262</td>\n",
              "      <td>1.605104</td>\n",
              "      <td>1.602664</td>\n",
              "      <td>1.608759</td>\n",
              "      <td>-0.938287</td>\n",
              "      <td>1.618955</td>\n",
              "      <td>-0.818890</td>\n",
              "      <td>-1.184947</td>\n",
              "      <td>False</td>\n",
              "      <td>...</td>\n",
              "      <td>False</td>\n",
              "      <td>False</td>\n",
              "      <td>False</td>\n",
              "      <td>0</td>\n",
              "      <td>True</td>\n",
              "      <td>False</td>\n",
              "      <td>False</td>\n",
              "      <td>False</td>\n",
              "      <td>False</td>\n",
              "      <td>Dos</td>\n",
              "    </tr>\n",
              "    <tr>\n",
              "      <th>125969</th>\n",
              "      <td>-0.717045</td>\n",
              "      <td>-0.809262</td>\n",
              "      <td>-0.631929</td>\n",
              "      <td>-0.637209</td>\n",
              "      <td>-0.639532</td>\n",
              "      <td>0.977304</td>\n",
              "      <td>-0.624871</td>\n",
              "      <td>1.159389</td>\n",
              "      <td>0.771283</td>\n",
              "      <td>False</td>\n",
              "      <td>...</td>\n",
              "      <td>False</td>\n",
              "      <td>True</td>\n",
              "      <td>False</td>\n",
              "      <td>4</td>\n",
              "      <td>False</td>\n",
              "      <td>False</td>\n",
              "      <td>False</td>\n",
              "      <td>False</td>\n",
              "      <td>True</td>\n",
              "      <td>normal</td>\n",
              "    </tr>\n",
              "    <tr>\n",
              "      <th>125970</th>\n",
              "      <td>-0.725778</td>\n",
              "      <td>1.235694</td>\n",
              "      <td>-0.631929</td>\n",
              "      <td>-0.637209</td>\n",
              "      <td>0.979238</td>\n",
              "      <td>-0.893738</td>\n",
              "      <td>-0.624871</td>\n",
              "      <td>-0.773724</td>\n",
              "      <td>0.771283</td>\n",
              "      <td>False</td>\n",
              "      <td>...</td>\n",
              "      <td>False</td>\n",
              "      <td>True</td>\n",
              "      <td>False</td>\n",
              "      <td>4</td>\n",
              "      <td>False</td>\n",
              "      <td>False</td>\n",
              "      <td>False</td>\n",
              "      <td>False</td>\n",
              "      <td>True</td>\n",
              "      <td>normal</td>\n",
              "    </tr>\n",
              "    <tr>\n",
              "      <th>125971</th>\n",
              "      <td>0.523041</td>\n",
              "      <td>-0.809262</td>\n",
              "      <td>1.605104</td>\n",
              "      <td>1.602664</td>\n",
              "      <td>1.608759</td>\n",
              "      <td>-1.094207</td>\n",
              "      <td>1.618955</td>\n",
              "      <td>-0.972455</td>\n",
              "      <td>-1.366922</td>\n",
              "      <td>False</td>\n",
              "      <td>...</td>\n",
              "      <td>False</td>\n",
              "      <td>False</td>\n",
              "      <td>False</td>\n",
              "      <td>0</td>\n",
              "      <td>True</td>\n",
              "      <td>False</td>\n",
              "      <td>False</td>\n",
              "      <td>False</td>\n",
              "      <td>False</td>\n",
              "      <td>Dos</td>\n",
              "    </tr>\n",
              "    <tr>\n",
              "      <th>125972</th>\n",
              "      <td>-0.725778</td>\n",
              "      <td>1.235694</td>\n",
              "      <td>-0.631929</td>\n",
              "      <td>-0.637209</td>\n",
              "      <td>-0.639532</td>\n",
              "      <td>-0.492801</td>\n",
              "      <td>-0.624871</td>\n",
              "      <td>-0.349162</td>\n",
              "      <td>0.771283</td>\n",
              "      <td>False</td>\n",
              "      <td>...</td>\n",
              "      <td>False</td>\n",
              "      <td>True</td>\n",
              "      <td>False</td>\n",
              "      <td>4</td>\n",
              "      <td>False</td>\n",
              "      <td>False</td>\n",
              "      <td>False</td>\n",
              "      <td>False</td>\n",
              "      <td>True</td>\n",
              "      <td>normal</td>\n",
              "    </tr>\n",
              "  </tbody>\n",
              "</table>\n",
              "<p>125973 rows × 100 columns</p>\n",
              "</div>"
            ],
            "text/plain": [
              "           count  logged_in  srv_serror_rate  serror_rate  \\\n",
              "0      -0.717045  -0.809262        -0.631929    -0.637209   \n",
              "1      -0.620982  -0.809262        -0.631929    -0.637209   \n",
              "2       0.339648  -0.809262         1.605104     1.602664   \n",
              "3      -0.690846   1.235694        -0.184522    -0.189235   \n",
              "4      -0.472521   1.235694        -0.631929    -0.637209   \n",
              "...          ...        ...              ...          ...   \n",
              "125968  0.872361  -0.809262         1.605104     1.602664   \n",
              "125969 -0.717045  -0.809262        -0.631929    -0.637209   \n",
              "125970 -0.725778   1.235694        -0.631929    -0.637209   \n",
              "125971  0.523041  -0.809262         1.605104     1.602664   \n",
              "125972 -0.725778   1.235694        -0.631929    -0.637209   \n",
              "\n",
              "        dst_host_serror_rate  dst_host_same_srv_rate  \\\n",
              "0                  -0.639532               -0.782367   \n",
              "1                  -0.639532               -1.161030   \n",
              "2                   1.608759               -0.938287   \n",
              "3                  -0.572083                1.066401   \n",
              "4                  -0.639532                1.066401   \n",
              "...                      ...                     ...   \n",
              "125968              1.608759               -0.938287   \n",
              "125969             -0.639532                0.977304   \n",
              "125970              0.979238               -0.893738   \n",
              "125971              1.608759               -1.094207   \n",
              "125972             -0.639532               -0.492801   \n",
              "\n",
              "        dst_host_srv_serror_rate  dst_host_srv_count  same_srv_rate  \\\n",
              "0                      -0.624871           -0.818890       0.771283   \n",
              "1                      -0.624871           -1.035688      -1.321428   \n",
              "2                       1.618955           -0.809857      -1.389669   \n",
              "3                      -0.602433            1.258754       0.771283   \n",
              "4                      -0.624871            1.258754       0.771283   \n",
              "...                          ...                 ...            ...   \n",
              "125968                  1.618955           -0.818890      -1.184947   \n",
              "125969                 -0.624871            1.159389       0.771283   \n",
              "125970                 -0.624871           -0.773724       0.771283   \n",
              "125971                  1.618955           -0.972455      -1.366922   \n",
              "125972                 -0.624871           -0.349162       0.771283   \n",
              "\n",
              "        protocol_type_icmp  ...  flag_S3  flag_SF  flag_SH  intrusion    Dos  \\\n",
              "0                    False  ...    False     True    False          4  False   \n",
              "1                    False  ...    False     True    False          4  False   \n",
              "2                    False  ...    False    False    False          0   True   \n",
              "3                    False  ...    False     True    False          4  False   \n",
              "4                    False  ...    False     True    False          4  False   \n",
              "...                    ...  ...      ...      ...      ...        ...    ...   \n",
              "125968               False  ...    False    False    False          0   True   \n",
              "125969               False  ...    False     True    False          4  False   \n",
              "125970               False  ...    False     True    False          4  False   \n",
              "125971               False  ...    False    False    False          0   True   \n",
              "125972               False  ...    False     True    False          4  False   \n",
              "\n",
              "        Probe    R2L    U2R  normal   label  \n",
              "0       False  False  False    True  normal  \n",
              "1       False  False  False    True  normal  \n",
              "2       False  False  False   False     Dos  \n",
              "3       False  False  False    True  normal  \n",
              "4       False  False  False    True  normal  \n",
              "...       ...    ...    ...     ...     ...  \n",
              "125968  False  False  False   False     Dos  \n",
              "125969  False  False  False    True  normal  \n",
              "125970  False  False  False    True  normal  \n",
              "125971  False  False  False   False     Dos  \n",
              "125972  False  False  False    True  normal  \n",
              "\n",
              "[125973 rows x 100 columns]"
            ]
          },
          "execution_count": 42,
          "metadata": {},
          "output_type": "execute_result"
        }
      ],
      "source": [
        "# saving final dataset to disk\n",
        "multi_data.to_csv('./datasets/multi_data.csv')\n",
        "\n",
        "# final dataset for multi-class classification\n",
        "multi_data"
      ]
    },
    {
      "cell_type": "markdown",
      "metadata": {
        "id": "X6gO0-O_ev95"
      },
      "source": [
        "# **Linear Support Vector Machine Classifier (Binary Classification)**"
      ]
    },
    {
      "cell_type": "code",
      "execution_count": null,
      "metadata": {
        "id": "G73DgDbpfHdP"
      },
      "outputs": [],
      "source": [
        "X = bin_data.iloc[:,0:93].to_numpy() # dataset excluding target attribute (encoded, one-hot-encoded,original)\n",
        "Y = bin_data['intrusion'] # target attribute"
      ]
    },
    {
      "cell_type": "code",
      "execution_count": null,
      "metadata": {
        "id": "-8CHud3rbmEB"
      },
      "outputs": [],
      "source": [
        "# splitting the dataset 75% for training and 25% testing\n",
        "X_train, X_test, y_train, y_test = train_test_split(X,Y, test_size=0.25, random_state=42) "
      ]
    },
    {
      "cell_type": "code",
      "execution_count": null,
      "metadata": {
        "colab": {
          "base_uri": "https://localhost:8080/"
        },
        "id": "OOg12Nn7e8do",
        "outputId": "f7204f5b-bf26-4d04-f276-64519d441a47"
      },
      "outputs": [
        {
          "data": {
            "text/plain": [
              "SVC(C=1.0, break_ties=False, cache_size=200, class_weight=None, coef0=0.0,\n",
              "    decision_function_shape='ovr', degree=3, gamma='auto', kernel='linear',\n",
              "    max_iter=-1, probability=False, random_state=None, shrinking=True,\n",
              "    tol=0.001, verbose=False)"
            ]
          },
          "execution_count": 46,
          "metadata": {},
          "output_type": "execute_result"
        }
      ],
      "source": [
        "# using kernel as linear \n",
        "lsvm = SVC(kernel='linear',gamma='auto') \n",
        "lsvm.fit(X_train,y_train) # training model on training dataset"
      ]
    },
    {
      "cell_type": "code",
      "execution_count": null,
      "metadata": {
        "colab": {
          "base_uri": "https://localhost:8080/"
        },
        "id": "40emxT1YEW1B",
        "outputId": "cf2ece7f-c5e5-4262-efe3-27e55536c96e"
      },
      "outputs": [
        {
          "name": "stdout",
          "output_type": "stream",
          "text": [
            "Saved model to disk\n",
            "Loaded model from disk\n"
          ]
        }
      ],
      "source": [
        "pkl_filename = \"./models/lsvm_binary.pkl\"\n",
        "if (not path.isfile(pkl_filename)):\n",
        "  # saving the trained model to disk\n",
        "  with open(pkl_filename, 'wb') as file:\n",
        "    pickle.dump(lsvm, file)\n",
        "  print(\"Saved model to disk\")\n",
        "  # loading the trained model from disk\n",
        "  with open(pkl_filename, 'rb') as file:\n",
        "    lsvm = pickle.load(file)\n",
        "  print(\"Loaded model from disk\") "
      ]
    },
    {
      "cell_type": "code",
      "execution_count": null,
      "metadata": {
        "colab": {
          "base_uri": "https://localhost:8080/"
        },
        "id": "NmtWOt9ZipS2",
        "outputId": "1a928be9-6bab-4638-e286-fda9751278ec"
      },
      "outputs": [
        {
          "name": "stdout",
          "output_type": "stream",
          "text": [
            "LSVM-Classifier Binary Set-Accuracy is  96.69778370483266\n"
          ]
        }
      ],
      "source": [
        "y_pred = lsvm.predict(X_test) # predicting target attribute on testing dataset\n",
        "ac = accuracy_score(y_test, y_pred)*100 # calculating accuracy of predicted data\n",
        "print(\"LSVM-Classifier Binary Set-Accuracy is \", ac)"
      ]
    },
    {
      "cell_type": "code",
      "execution_count": null,
      "metadata": {
        "colab": {
          "base_uri": "https://localhost:8080/"
        },
        "id": "T_-KRKlrg8gS",
        "outputId": "ce96fd11-6c5f-43a4-9f13-623fa0d907d9"
      },
      "outputs": [
        {
          "name": "stdout",
          "output_type": "stream",
          "text": [
            "              precision    recall  f1-score   support\n",
            "\n",
            "    abnormal       0.97      0.96      0.96     14720\n",
            "      normal       0.96      0.97      0.97     16774\n",
            "\n",
            "    accuracy                           0.97     31494\n",
            "   macro avg       0.97      0.97      0.97     31494\n",
            "weighted avg       0.97      0.97      0.97     31494\n",
            "\n"
          ]
        }
      ],
      "source": [
        "# classification report\n",
        "print(classification_report(y_test, y_pred,target_names=le1.classes_))"
      ]
    },
    {
      "cell_type": "code",
      "execution_count": null,
      "metadata": {
        "colab": {
          "base_uri": "https://localhost:8080/"
        },
        "id": "ahjq-d2uUBa_",
        "outputId": "2e7084f2-56b3-4999-e314-6f87d27f258a"
      },
      "outputs": [
        {
          "name": "stdout",
          "output_type": "stream",
          "text": [
            "Mean Absolute Error -  0.03302216295167333\n",
            "Mean Squared Error -  0.03302216295167333\n",
            "Root Mean Squared Error -  0.1817200125238641\n",
            "R2 Score -  86.74560396265441\n",
            "Accuracy -  96.69778370483266\n"
          ]
        }
      ],
      "source": [
        "print(\"Mean Absolute Error - \" , metrics.mean_absolute_error(y_test, y_pred))\n",
        "print(\"Mean Squared Error - \" , metrics.mean_squared_error(y_test, y_pred))\n",
        "print(\"Root Mean Squared Error - \" , np.sqrt(metrics.mean_squared_error(y_test, y_pred)))\n",
        "print(\"R2 Score - \" , metrics.explained_variance_score(y_test, y_pred)*100)\n",
        "print(\"Accuracy - \",accuracy_score(y_test,y_pred)*100)"
      ]
    },
    {
      "cell_type": "code",
      "execution_count": null,
      "metadata": {
        "colab": {
          "base_uri": "https://localhost:8080/",
          "height": 388
        },
        "id": "d0bL3Qs35BSQ",
        "outputId": "5b2c454d-8b6f-4f28-e868-785484bbd9b4"
      },
      "outputs": [
        {
          "data": {
            "image/png": "[encoded data removed]",
            "text/plain": [
              "<Figure size 1440x576 with 1 Axes>"
            ]
          },
          "metadata": {
            "needs_background": "light"
          },
          "output_type": "display_data"
        }
      ],
      "source": [
        "plt.figure(figsize=(20,8))\n",
        "plt.plot(y_pred[300:500], label=\"prediction\", linewidth=2.0,color='blue')\n",
        "plt.plot(y_test[300:500].values, label=\"real_values\", linewidth=2.0,color='lightcoral')\n",
        "plt.legend(loc=\"best\")\n",
        "plt.ylim((-1,2))\n",
        "plt.title(\"Linear SVM Binary Classification\")\n",
        "plt.savefig('plots/lsvm_real_pred_bin.png')\n",
        "plt.show()"
      ]
    },
    {
      "cell_type": "markdown",
      "metadata": {
        "id": "FD827OpHPVkl"
      },
      "source": [
        "# **Quadratic Support Vector Machine Classifier (Binary Classification)**"
      ]
    },
    {
      "cell_type": "code",
      "execution_count": null,
      "metadata": {
        "colab": {
          "base_uri": "https://localhost:8080/"
        },
        "id": "jvIqsl-8PSBw",
        "outputId": "8241cee2-27d9-459c-f108-070184e706c8"
      },
      "outputs": [
        {
          "data": {
            "text/plain": [
              "SVC(C=1.0, break_ties=False, cache_size=200, class_weight=None, coef0=0.0,\n",
              "    decision_function_shape='ovr', degree=3, gamma='auto', kernel='poly',\n",
              "    max_iter=-1, probability=False, random_state=None, shrinking=True,\n",
              "    tol=0.001, verbose=False)"
            ]
          },
          "execution_count": 54,
          "metadata": {},
          "output_type": "execute_result"
        }
      ],
      "source": [
        "qsvm=SVC(kernel='poly',gamma='auto') # using kernal as polynomial for quadratic svm\n",
        "qsvm.fit(X_train,y_train) # training model on training dataset"
      ]
    },
    {
      "cell_type": "code",
      "execution_count": null,
      "metadata": {
        "colab": {
          "base_uri": "https://localhost:8080/"
        },
        "id": "fx6kRBvlE-RI",
        "outputId": "d74e88be-aadc-472e-cf66-e784bea1db8b"
      },
      "outputs": [
        {
          "name": "stdout",
          "output_type": "stream",
          "text": [
            "Saved model to disk\n",
            "Loaded model from disk\n"
          ]
        }
      ],
      "source": [
        "pkl_filename = \"./models/qsvm_binary.pkl\"\n",
        "if (not path.isfile(pkl_filename)):\n",
        "  # saving the trained model to disk \n",
        "  with open(pkl_filename, 'wb') as file:\n",
        "    pickle.dump(qsvm, file)\n",
        "  print(\"Saved model to disk\")\n",
        "  # loading the trained model from disk\n",
        "  with open(pkl_filename, 'rb') as file:\n",
        "    qsvm = pickle.load(file)\n",
        "  print(\"Loaded model from disk\")"
      ]
    },
    {
      "cell_type": "code",
      "execution_count": null,
      "metadata": {
        "colab": {
          "base_uri": "https://localhost:8080/"
        },
        "id": "i8uUCqtAPAKw",
        "outputId": "c4803002-df6d-4c6c-bf65-b7adc7adc453"
      },
      "outputs": [
        {
          "name": "stdout",
          "output_type": "stream",
          "text": [
            "QSVM-Classifier Binary Set-Accuracy is  95.71029402425859\n"
          ]
        }
      ],
      "source": [
        "y_pred=qsvm.predict(X_test) # predicting target attribute on testing dataset\n",
        "ac=accuracy_score(y_test, y_pred)*100 # calculating accuracy of predicted data\n",
        "print(\"QSVM-Classifier Binary Set-Accuracy is \", ac)"
      ]
    },
    {
      "cell_type": "code",
      "execution_count": null,
      "metadata": {
        "colab": {
          "base_uri": "https://localhost:8080/"
        },
        "id": "zfDbF9XNg6Bp",
        "outputId": "fe34fa21-b837-4490-bb27-064842926b07"
      },
      "outputs": [
        {
          "name": "stdout",
          "output_type": "stream",
          "text": [
            "              precision    recall  f1-score   support\n",
            "\n",
            "    abnormal       0.99      0.92      0.95     14720\n",
            "      normal       0.93      0.99      0.96     16774\n",
            "\n",
            "    accuracy                           0.96     31494\n",
            "   macro avg       0.96      0.95      0.96     31494\n",
            "weighted avg       0.96      0.96      0.96     31494\n",
            "\n"
          ]
        }
      ],
      "source": [
        "# classification report\n",
        "print(classification_report(y_test, y_pred,target_names=le1.classes_))"
      ]
    },
    {
      "cell_type": "code",
      "execution_count": null,
      "metadata": {
        "colab": {
          "base_uri": "https://localhost:8080/"
        },
        "id": "2_kGU-ZWXIVj",
        "outputId": "efd545df-4be9-4935-d515-ae07d7ee410a"
      },
      "outputs": [
        {
          "name": "stdout",
          "output_type": "stream",
          "text": [
            "Mean Absolute Error -  0.04289705975741411\n",
            "Mean Squared Error -  0.04289705975741411\n",
            "Root Mean Squared Error -  0.20711605383797296\n",
            "R2 Score -  83.24290009836652\n",
            "Accuracy -  95.71029402425859\n"
          ]
        }
      ],
      "source": [
        "print(\"Mean Absolute Error - \" , metrics.mean_absolute_error(y_test, y_pred))\n",
        "print(\"Mean Squared Error - \" , metrics.mean_squared_error(y_test, y_pred))\n",
        "print(\"Root Mean Squared Error - \" , np.sqrt(metrics.mean_squared_error(y_test, y_pred)))\n",
        "print(\"R2 Score - \" , metrics.explained_variance_score(y_test, y_pred)*100)\n",
        "print(\"Accuracy - \",accuracy_score(y_test,y_pred)*100)"
      ]
    },
    {
      "cell_type": "code",
      "execution_count": null,
      "metadata": {
        "colab": {
          "base_uri": "https://localhost:8080/",
          "height": 388
        },
        "id": "NIpD3rmA6VEv",
        "outputId": "8794f5f8-0a39-4735-f819-5a9d89bd2de9"
      },
      "outputs": [
        {
          "data": {
            "image/png": "[encoded data removed]",
            "text/plain": [
              "<Figure size 1440x576 with 1 Axes>"
            ]
          },
          "metadata": {
            "needs_background": "light"
          },
          "output_type": "display_data"
        }
      ],
      "source": [
        "plt.figure(figsize=(20,8))\n",
        "plt.plot(y_pred[400:600], label=\"prediction\", linewidth=2.0,color='blue')\n",
        "plt.plot(y_test[400:600].values, label=\"real_values\", linewidth=2.0,color='lightcoral')\n",
        "plt.legend(loc=\"best\")\n",
        "plt.ylim((-1,2))\n",
        "plt.title(\"Quadratic SVM Binary Classification\")\n",
        "plt.savefig('plots/qsvm_real_pred_bin.png')\n",
        "plt.show()"
      ]
    },
    {
      "cell_type": "markdown",
      "metadata": {
        "id": "7bnFgn5XB_mD"
      },
      "source": [
        "# **K-nearest-neighbor Classifier (Binary Classification)**"
      ]
    },
    {
      "cell_type": "code",
      "execution_count": null,
      "metadata": {
        "colab": {
          "base_uri": "https://localhost:8080/"
        },
        "id": "AlJRTC_MCjoZ",
        "outputId": "2ddbd0b7-1ea1-41d7-b7b9-709011039ab3"
      },
      "outputs": [
        {
          "data": {
            "text/plain": [
              "KNeighborsClassifier(algorithm='auto', leaf_size=30, metric='minkowski',\n",
              "                     metric_params=None, n_jobs=None, n_neighbors=5, p=2,\n",
              "                     weights='uniform')"
            ]
          },
          "execution_count": 60,
          "metadata": {},
          "output_type": "execute_result"
        }
      ],
      "source": [
        "knn=KNeighborsClassifier(n_neighbors=5) # creating model for 5 neighbors\n",
        "knn.fit(X_train,y_train) # training model on training dataset"
      ]
    },
    {
      "cell_type": "code",
      "execution_count": null,
      "metadata": {
        "colab": {
          "base_uri": "https://localhost:8080/"
        },
        "id": "b7sDNWHBFG49",
        "outputId": "f002d72d-c8ed-4858-eda7-2aa70f7882b9"
      },
      "outputs": [
        {
          "name": "stdout",
          "output_type": "stream",
          "text": [
            "Saved model to disk\n",
            "Loaded model from disk\n"
          ]
        }
      ],
      "source": [
        "pkl_filename = \"./models/knn_binary.pkl\"\n",
        "if (not path.isfile(pkl_filename)):\n",
        "  # saving the trained model to disk\n",
        "  with open(pkl_filename, 'wb') as file:\n",
        "    pickle.dump(knn, file)\n",
        "  print(\"Saved model to disk\")\n",
        "  # loading the trained model from disk\n",
        "  with open(pkl_filename, 'rb') as file:\n",
        "    knn = pickle.load(file)\n",
        "  print(\"Loaded model from disk\")"
      ]
    },
    {
      "cell_type": "code",
      "execution_count": null,
      "metadata": {
        "colab": {
          "base_uri": "https://localhost:8080/"
        },
        "id": "VhDTePIsBm-t",
        "outputId": "fe482039-606f-4c6f-f1b5-f59ac69eb41b"
      },
      "outputs": [
        {
          "name": "stdout",
          "output_type": "stream",
          "text": [
            "KNN-Classifier Binary Set-Accuracy is  98.55210516288817\n"
          ]
        }
      ],
      "source": [
        "y_pred=knn.predict(X_test) # predicting target attribute on testing dataset\n",
        "ac=accuracy_score(y_test, y_pred)*100 # calculating accuracy of predicted data\n",
        "print(\"KNN-Classifier Binary Set-Accuracy is \", ac)"
      ]
    },
    {
      "cell_type": "code",
      "execution_count": null,
      "metadata": {
        "colab": {
          "base_uri": "https://localhost:8080/"
        },
        "id": "cSzvTXikg2pA",
        "outputId": "47366dc4-8f69-4d7b-b38e-e2438b0ad86f"
      },
      "outputs": [
        {
          "name": "stdout",
          "output_type": "stream",
          "text": [
            "              precision    recall  f1-score   support\n",
            "\n",
            "    abnormal       0.99      0.98      0.98     14720\n",
            "      normal       0.99      0.99      0.99     16774\n",
            "\n",
            "    accuracy                           0.99     31494\n",
            "   macro avg       0.99      0.99      0.99     31494\n",
            "weighted avg       0.99      0.99      0.99     31494\n",
            "\n"
          ]
        }
      ],
      "source": [
        "# classification report\n",
        "print(classification_report(y_test, y_pred,target_names=le1.classes_))"
      ]
    },
    {
      "cell_type": "code",
      "execution_count": null,
      "metadata": {
        "colab": {
          "base_uri": "https://localhost:8080/"
        },
        "id": "7wO6QziFXMYs",
        "outputId": "8959f377-a9ff-434c-e448-8d6883c4e101"
      },
      "outputs": [
        {
          "name": "stdout",
          "output_type": "stream",
          "text": [
            "Mean Absolute Error -  0.014478948371118308\n",
            "Mean Squared Error -  0.014478948371118308\n",
            "Root Mean Squared Error -  0.1203285019067316\n",
            "R2 Score -  94.18391428763977\n",
            "Accuracy -  98.55210516288817\n"
          ]
        }
      ],
      "source": [
        "print(\"Mean Absolute Error - \" , metrics.mean_absolute_error(y_test, y_pred))\n",
        "print(\"Mean Squared Error - \" , metrics.mean_squared_error(y_test, y_pred))\n",
        "print(\"Root Mean Squared Error - \" , np.sqrt(metrics.mean_squared_error(y_test, y_pred)))\n",
        "print(\"R2 Score - \" , metrics.explained_variance_score(y_test, y_pred)*100)\n",
        "print(\"Accuracy - \",accuracy_score(y_test,y_pred)*100)"
      ]
    },
    {
      "cell_type": "code",
      "execution_count": null,
      "metadata": {
        "colab": {
          "base_uri": "https://localhost:8080/",
          "height": 388
        },
        "id": "cSOzJd_L9QgT",
        "outputId": "599c6fa3-2bce-4417-b8f6-cdac8dffd1b2"
      },
      "outputs": [
        {
          "data": {
            "image/png": "[encoded data removed]",
            "text/plain": [
              "<Figure size 1440x576 with 1 Axes>"
            ]
          },
          "metadata": {
            "needs_background": "light"
          },
          "output_type": "display_data"
        }
      ],
      "source": [
        "plt.figure(figsize=(20,8))\n",
        "plt.plot(y_pred[500:600], label=\"prediction\", linewidth=2.0,color='blue')\n",
        "plt.plot(y_test[500:600].values, label=\"real_values\", linewidth=2.0,color='lightcoral')\n",
        "plt.legend(loc=\"best\")\n",
        "plt.ylim((-1,2))\n",
        "plt.title(\"KNN Binary Classification\")\n",
        "plt.savefig('plots/knn_real_pred_bin.png')\n",
        "plt.show()"
      ]
    },
    {
      "cell_type": "markdown",
      "metadata": {
        "id": "0mfnQh0jtn8a"
      },
      "source": [
        "# **Linear Discriminant Analysis Classifier (Binary Classification)**"
      ]
    },
    {
      "cell_type": "code",
      "execution_count": null,
      "metadata": {
        "colab": {
          "base_uri": "https://localhost:8080/"
        },
        "id": "11-UNM_atzpz",
        "outputId": "82a92d50-a36f-448f-fc32-fa1c002626af"
      },
      "outputs": [
        {
          "data": {
            "text/plain": [
              "LinearDiscriminantAnalysis(n_components=None, priors=None, shrinkage=None,\n",
              "                           solver='svd', store_covariance=False, tol=0.0001)"
            ]
          },
          "execution_count": 66,
          "metadata": {},
          "output_type": "execute_result"
        }
      ],
      "source": [
        "lda = LinearDiscriminantAnalysis() \n",
        "lda.fit(X_train, y_train)  # training model on training dataset"
      ]
    },
    {
      "cell_type": "code",
      "execution_count": null,
      "metadata": {
        "colab": {
          "base_uri": "https://localhost:8080/"
        },
        "id": "dRY09jVFEJRy",
        "outputId": "df046061-2dec-48a9-f371-b6ec0053732f"
      },
      "outputs": [
        {
          "name": "stdout",
          "output_type": "stream",
          "text": [
            "Saved model to disk\n",
            "Loaded model from disk\n"
          ]
        }
      ],
      "source": [
        "pkl_filename = \"./models/lda_binary.pkl\"\n",
        "if (not path.isfile(pkl_filename)):\n",
        "  # saving trained model to disk\n",
        "  with open(pkl_filename, 'wb') as file:\n",
        "    pickle.dump(lda, file)\n",
        "  print(\"Saved model to disk\")\n",
        "  # loading trained model from disk\n",
        "  with open(pkl_filename, 'rb') as file:\n",
        "    lda = pickle.load(file)\n",
        "  print(\"Loaded model from disk\")"
      ]
    },
    {
      "cell_type": "code",
      "execution_count": null,
      "metadata": {
        "colab": {
          "base_uri": "https://localhost:8080/"
        },
        "id": "hP0SNgdytqCA",
        "outputId": "8609c846-7ef2-45af-da43-6206af4b8c09"
      },
      "outputs": [
        {
          "name": "stdout",
          "output_type": "stream",
          "text": [
            "LDA-Classifier Set-Accuracy is  96.70730932876104\n"
          ]
        }
      ],
      "source": [
        "y_pred = lda.predict(X_test) # predicting target attribute on testing dataset\n",
        "ac=accuracy_score(y_test, y_pred)*100 # calculating accuracy of predicted data\n",
        "print(\"LDA-Classifier Set-Accuracy is \", ac)"
      ]
    },
    {
      "cell_type": "code",
      "execution_count": null,
      "metadata": {
        "colab": {
          "base_uri": "https://localhost:8080/"
        },
        "id": "mYnAzR9xuJ7Q",
        "outputId": "e7b6fa9a-dec8-4119-e421-f0571b5a93e8"
      },
      "outputs": [
        {
          "name": "stdout",
          "output_type": "stream",
          "text": [
            "              precision    recall  f1-score   support\n",
            "\n",
            "    abnormal       0.97      0.96      0.96     14720\n",
            "      normal       0.96      0.98      0.97     16774\n",
            "\n",
            "    accuracy                           0.97     31494\n",
            "   macro avg       0.97      0.97      0.97     31494\n",
            "weighted avg       0.97      0.97      0.97     31494\n",
            "\n"
          ]
        }
      ],
      "source": [
        "# classification report\n",
        "print(classification_report(y_test, y_pred,target_names=le1.classes_))"
      ]
    },
    {
      "cell_type": "code",
      "execution_count": null,
      "metadata": {
        "colab": {
          "base_uri": "https://localhost:8080/"
        },
        "id": "P0pjTwuhXPQ9",
        "outputId": "c72cb9c3-1077-4d6a-9598-5494d2b6e88d"
      },
      "outputs": [
        {
          "name": "stdout",
          "output_type": "stream",
          "text": [
            "Mean Absolute Error -  0.03292690671238966\n",
            "Mean Squared Error -  0.03292690671238966\n",
            "Root Mean Squared Error -  0.1814577270671868\n",
            "R2 Score -  86.8001441639753\n",
            "Accuracy -  96.70730932876104\n"
          ]
        }
      ],
      "source": [
        "print(\"Mean Absolute Error - \" , metrics.mean_absolute_error(y_test, y_pred))\n",
        "print(\"Mean Squared Error - \" , metrics.mean_squared_error(y_test, y_pred))\n",
        "print(\"Root Mean Squared Error - \" , np.sqrt(metrics.mean_squared_error(y_test, y_pred)))\n",
        "print(\"R2 Score - \" , metrics.explained_variance_score(y_test, y_pred)*100)\n",
        "print(\"Accuracy - \",accuracy_score(y_test,y_pred)*100)"
      ]
    },
    {
      "cell_type": "code",
      "execution_count": null,
      "metadata": {
        "colab": {
          "base_uri": "https://localhost:8080/",
          "height": 388
        },
        "id": "OZDu7yqMGvh9",
        "outputId": "4c3cc925-06a6-4897-a703-c803db91d78f"
      },
      "outputs": [
        {
          "data": {
            "image/png": "[encoded data removed]",
            "text/plain": [
              "<Figure size 1440x576 with 1 Axes>"
            ]
          },
          "metadata": {
            "needs_background": "light"
          },
          "output_type": "display_data"
        }
      ],
      "source": [
        "plt.figure(figsize=(20,8))\n",
        "plt.plot(y_pred[300:400], label=\"prediction\", linewidth=2.0,color='blue')\n",
        "plt.plot(y_test[300:400].values, label=\"real_values\", linewidth=2.0,color='lightcoral')\n",
        "plt.legend(loc=\"best\")\n",
        "plt.ylim((-1,2))\n",
        "plt.title(\"Linear Discriminant Analysis Binary Classification\")\n",
        "plt.savefig('plots/lda_real_pred_bin.png')\n",
        "plt.show()"
      ]
    },
    {
      "cell_type": "markdown",
      "metadata": {
        "id": "fOETMr33uwN0"
      },
      "source": [
        "# **Quadratic Discriminant Analysis Classifier (Binary Classification)**"
      ]
    },
    {
      "cell_type": "code",
      "execution_count": null,
      "metadata": {
        "colab": {
          "base_uri": "https://localhost:8080/"
        },
        "id": "ALsaiYPYu9uV",
        "outputId": "426d5e40-02d5-42f0-cf60-b6e2bdac1eb0"
      },
      "outputs": [
        {
          "name": "stderr",
          "output_type": "stream",
          "text": [
            "/usr/local/lib/python3.7/dist-packages/sklearn/discriminant_analysis.py:691: UserWarning: Variables are collinear\n",
            "  warnings.warn(\"Variables are collinear\")\n"
          ]
        },
        {
          "data": {
            "text/plain": [
              "QuadraticDiscriminantAnalysis(priors=None, reg_param=0.0,\n",
              "                              store_covariance=False, tol=0.0001)"
            ]
          },
          "execution_count": 72,
          "metadata": {},
          "output_type": "execute_result"
        }
      ],
      "source": [
        "qda = QuadraticDiscriminantAnalysis()\n",
        "qda.fit(X_train, y_train) # training model on training dataset"
      ]
    },
    {
      "cell_type": "code",
      "execution_count": null,
      "metadata": {
        "colab": {
          "base_uri": "https://localhost:8080/"
        },
        "id": "qeJNXcxjFrjS",
        "outputId": "9f2961dc-0035-40e5-ae3c-9aabf86b5ad3"
      },
      "outputs": [
        {
          "name": "stdout",
          "output_type": "stream",
          "text": [
            "Saved model to disk\n",
            "Loaded model from disk\n"
          ]
        }
      ],
      "source": [
        "pkl_filename = \"./models/qda_binary.pkl\"\n",
        "if (not path.isfile(pkl_filename)):\n",
        "  # saving trained model to disk\n",
        "  with open(pkl_filename, 'wb') as file:\n",
        "    pickle.dump(qda, file)\n",
        "  print(\"Saved model to disk\")\n",
        "  # loading trained model from disk\n",
        "  with open(pkl_filename, 'rb') as file:\n",
        "    qda = pickle.load(file)\n",
        "  print(\"Loaded model from disk\")"
      ]
    },
    {
      "cell_type": "code",
      "execution_count": null,
      "metadata": {
        "colab": {
          "base_uri": "https://localhost:8080/"
        },
        "id": "NJ2ja7JpvFUg",
        "outputId": "7e6b254b-5f50-425f-a731-111e3c0bc121"
      },
      "outputs": [
        {
          "name": "stdout",
          "output_type": "stream",
          "text": [
            "QDA-Classifier Set-Accuracy is  68.53051374865053\n"
          ]
        }
      ],
      "source": [
        "y_pred = qda.predict(X_test) # predicting target attribute on testing dataset\n",
        "ac=accuracy_score(y_test, y_pred)*100  # calculating accuracy of predicted data\n",
        "print(\"QDA-Classifier Set-Accuracy is \", ac)"
      ]
    },
    {
      "cell_type": "code",
      "execution_count": null,
      "metadata": {
        "colab": {
          "base_uri": "https://localhost:8080/"
        },
        "id": "0XYW6VI-vIQn",
        "outputId": "c4f3c774-f985-46d4-884d-37d29da58f79"
      },
      "outputs": [
        {
          "name": "stdout",
          "output_type": "stream",
          "text": [
            "              precision    recall  f1-score   support\n",
            "\n",
            "    abnormal       1.00      0.33      0.49     14720\n",
            "      normal       0.63      1.00      0.77     16774\n",
            "\n",
            "    accuracy                           0.69     31494\n",
            "   macro avg       0.81      0.66      0.63     31494\n",
            "weighted avg       0.80      0.69      0.64     31494\n",
            "\n"
          ]
        }
      ],
      "source": [
        "# classification report\n",
        "print(classification_report(y_test, y_pred,target_names=le1.classes_))"
      ]
    },
    {
      "cell_type": "code",
      "execution_count": null,
      "metadata": {
        "colab": {
          "base_uri": "https://localhost:8080/"
        },
        "id": "bizz_SlVXUuq",
        "outputId": "25f262a6-2362-46f8-d6ca-3e9257640f1b"
      },
      "outputs": [
        {
          "name": "stdout",
          "output_type": "stream",
          "text": [
            "Mean Absolute Error -  0.31469486251349466\n",
            "Mean Squared Error -  0.31469486251349466\n",
            "Root Mean Squared Error -  0.5609767040737919\n",
            "R2 Score -  13.222332553356363\n",
            "Accuracy -  68.53051374865053\n"
          ]
        }
      ],
      "source": [
        "print(\"Mean Absolute Error - \" , metrics.mean_absolute_error(y_test, y_pred))\n",
        "print(\"Mean Squared Error - \" , metrics.mean_squared_error(y_test, y_pred))\n",
        "print(\"Root Mean Squared Error - \" , np.sqrt(metrics.mean_squared_error(y_test, y_pred)))\n",
        "print(\"R2 Score - \" , metrics.explained_variance_score(y_test, y_pred)*100)\n",
        "print(\"Accuracy - \",accuracy_score(y_test,y_pred)*100)"
      ]
    },
    {
      "cell_type": "code",
      "execution_count": null,
      "metadata": {
        "colab": {
          "base_uri": "https://localhost:8080/",
          "height": 388
        },
        "id": "VA2vUcZXG7Ze",
        "outputId": "897d8842-5803-48f0-c10f-029eb247a901"
      },
      "outputs": [
        {
          "data": {
            "image/png": "[encoded data removed]",
            "text/plain": [
              "<Figure size 1440x576 with 1 Axes>"
            ]
          },
          "metadata": {
            "needs_background": "light"
          },
          "output_type": "display_data"
        }
      ],
      "source": [
        "plt.figure(figsize=(20,8))\n",
        "plt.plot(y_pred[500:600], label=\"prediction\", linewidth=2.0,color='blue')\n",
        "plt.plot(y_test[500:600].values, label=\"real_values\", linewidth=2.0,color='lightcoral')\n",
        "plt.legend(loc=\"best\")\n",
        "plt.ylim((-1,2))\n",
        "plt.title(\"Quadratic Discriminant Analysis Binary Classification\")\n",
        "plt.savefig('plots/qda_real_pred_bin.png')\n",
        "plt.show()"
      ]
    },
    {
      "cell_type": "markdown",
      "metadata": {
        "id": "UcAd_oyaD4C6"
      },
      "source": [
        "# **Multi Layer Perceptron Classifier (Binary Classification)**"
      ]
    },
    {
      "cell_type": "code",
      "execution_count": null,
      "metadata": {
        "id": "Imkkjtu_Fnzr"
      },
      "outputs": [],
      "source": [
        "X = bin_data.iloc[:,0:93].values # dataset excluding target attribute (encoded, one-hot-encoded,original)\n",
        "Y = bin_data[['intrusion']].values # target attribute"
      ]
    },
    {
      "cell_type": "code",
      "execution_count": null,
      "metadata": {
        "id": "gNx0tOV7FwfO"
      },
      "outputs": [],
      "source": [
        "# splitting the dataset 75% for training and 25% testing\n",
        "X_train, X_test, y_train, y_test = train_test_split(X,Y, test_size=0.25, random_state=42)"
      ]
    },
    {
      "cell_type": "code",
      "execution_count": null,
      "metadata": {
        "id": "9-5ChLnLEVqn"
      },
      "outputs": [],
      "source": [
        "mlp = Sequential() # creating model\n",
        "\n",
        "# adding input layer and first layer with 50 neurons\n",
        "mlp.add(Dense(units=50, input_dim=X_train.shape[1], activation='relu'))\n",
        "# output layer with sigmoid activation\n",
        "mlp.add(Dense(units=1,activation='sigmoid'))"
      ]
    },
    {
      "cell_type": "code",
      "execution_count": null,
      "metadata": {
        "id": "9ttL9NnuEsvL"
      },
      "outputs": [],
      "source": [
        "# defining loss function, optimizer, metrics and then compiling model\n",
        "mlp.compile(loss='binary_crossentropy', optimizer='adam', metrics=['accuracy'])"
      ]
    },
    {
      "cell_type": "code",
      "execution_count": null,
      "metadata": {
        "colab": {
          "base_uri": "https://localhost:8080/"
        },
        "id": "GBlm3w0EzM24",
        "outputId": "9f492ae8-f7b5-4e1f-c809-01fd010a0d48"
      },
      "outputs": [
        {
          "name": "stdout",
          "output_type": "stream",
          "text": [
            "Model: \"sequential\"\n",
            "_________________________________________________________________\n",
            "Layer (type)                 Output Shape              Param #   \n",
            "=================================================================\n",
            "dense (Dense)                (None, 50)                4700      \n",
            "_________________________________________________________________\n",
            "dense_1 (Dense)              (None, 1)                 51        \n",
            "=================================================================\n",
            "Total params: 4,751\n",
            "Trainable params: 4,751\n",
            "Non-trainable params: 0\n",
            "_________________________________________________________________\n"
          ]
        }
      ],
      "source": [
        "# summary of model layers\n",
        "mlp.summary()"
      ]
    },
    {
      "cell_type": "code",
      "execution_count": null,
      "metadata": {
        "colab": {
          "base_uri": "https://localhost:8080/"
        },
        "id": "TeIHduwLEzec",
        "outputId": "c642152b-8887-4d69-e67d-95edcff06c6a"
      },
      "outputs": [
        {
          "name": "stdout",
          "output_type": "stream",
          "text": [
            "Epoch 1/100\n",
            "16/16 [==============================] - 1s 19ms/step - loss: 0.6861 - accuracy: 0.5246 - val_loss: 0.5238 - val_accuracy: 0.9263\n",
            "Epoch 2/100\n",
            "16/16 [==============================] - 0s 9ms/step - loss: 0.4390 - accuracy: 0.9315 - val_loss: 0.3521 - val_accuracy: 0.9439\n",
            "Epoch 3/100\n",
            "16/16 [==============================] - 0s 10ms/step - loss: 0.3068 - accuracy: 0.9379 - val_loss: 0.2597 - val_accuracy: 0.9319\n",
            "Epoch 4/100\n",
            "16/16 [==============================] - 0s 10ms/step - loss: 0.2351 - accuracy: 0.9391 - val_loss: 0.2105 - val_accuracy: 0.9480\n",
            "Epoch 5/100\n",
            "16/16 [==============================] - 0s 10ms/step - loss: 0.1954 - accuracy: 0.9504 - val_loss: 0.1809 - val_accuracy: 0.9547\n",
            "Epoch 6/100\n",
            "16/16 [==============================] - 0s 9ms/step - loss: 0.1703 - accuracy: 0.9562 - val_loss: 0.1620 - val_accuracy: 0.9572\n",
            "Epoch 7/100\n",
            "16/16 [==============================] - 0s 9ms/step - loss: 0.1538 - accuracy: 0.9585 - val_loss: 0.1492 - val_accuracy: 0.9606\n",
            "Epoch 8/100\n",
            "16/16 [==============================] - 0s 9ms/step - loss: 0.1424 - accuracy: 0.9631 - val_loss: 0.1398 - val_accuracy: 0.9649\n",
            "Epoch 9/100\n",
            "16/16 [==============================] - 0s 9ms/step - loss: 0.1339 - accuracy: 0.9657 - val_loss: 0.1326 - val_accuracy: 0.9661\n",
            "Epoch 10/100\n",
            "16/16 [==============================] - 0s 11ms/step - loss: 0.1273 - accuracy: 0.9675 - val_loss: 0.1268 - val_accuracy: 0.9676\n",
            "Epoch 11/100\n",
            "16/16 [==============================] - 0s 10ms/step - loss: 0.1219 - accuracy: 0.9690 - val_loss: 0.1220 - val_accuracy: 0.9692\n",
            "Epoch 12/100\n",
            "16/16 [==============================] - 0s 10ms/step - loss: 0.1174 - accuracy: 0.9698 - val_loss: 0.1178 - val_accuracy: 0.9688\n",
            "Epoch 13/100\n",
            "16/16 [==============================] - 0s 9ms/step - loss: 0.1135 - accuracy: 0.9697 - val_loss: 0.1142 - val_accuracy: 0.9693\n",
            "Epoch 14/100\n",
            "16/16 [==============================] - 0s 10ms/step - loss: 0.1101 - accuracy: 0.9699 - val_loss: 0.1109 - val_accuracy: 0.9697\n",
            "Epoch 15/100\n",
            "16/16 [==============================] - 0s 9ms/step - loss: 0.1070 - accuracy: 0.9703 - val_loss: 0.1080 - val_accuracy: 0.9699\n",
            "Epoch 16/100\n",
            "16/16 [==============================] - 0s 10ms/step - loss: 0.1043 - accuracy: 0.9706 - val_loss: 0.1054 - val_accuracy: 0.9702\n",
            "Epoch 17/100\n",
            "16/16 [==============================] - 0s 11ms/step - loss: 0.1018 - accuracy: 0.9709 - val_loss: 0.1030 - val_accuracy: 0.9704\n",
            "Epoch 18/100\n",
            "16/16 [==============================] - 0s 10ms/step - loss: 0.0996 - accuracy: 0.9709 - val_loss: 0.1008 - val_accuracy: 0.9703\n",
            "Epoch 19/100\n",
            "16/16 [==============================] - 0s 8ms/step - loss: 0.0976 - accuracy: 0.9711 - val_loss: 0.0989 - val_accuracy: 0.9703\n",
            "Epoch 20/100\n",
            "16/16 [==============================] - 0s 9ms/step - loss: 0.0958 - accuracy: 0.9712 - val_loss: 0.0972 - val_accuracy: 0.9706\n",
            "Epoch 21/100\n",
            "16/16 [==============================] - 0s 10ms/step - loss: 0.0941 - accuracy: 0.9713 - val_loss: 0.0955 - val_accuracy: 0.9707\n",
            "Epoch 22/100\n",
            "16/16 [==============================] - 0s 11ms/step - loss: 0.0926 - accuracy: 0.9714 - val_loss: 0.0940 - val_accuracy: 0.9708\n",
            "Epoch 23/100\n",
            "16/16 [==============================] - 0s 10ms/step - loss: 0.0912 - accuracy: 0.9716 - val_loss: 0.0927 - val_accuracy: 0.9707\n",
            "Epoch 24/100\n",
            "16/16 [==============================] - 0s 9ms/step - loss: 0.0899 - accuracy: 0.9716 - val_loss: 0.0915 - val_accuracy: 0.9710\n",
            "Epoch 25/100\n",
            "16/16 [==============================] - 0s 9ms/step - loss: 0.0888 - accuracy: 0.9719 - val_loss: 0.0903 - val_accuracy: 0.9711\n",
            "Epoch 26/100\n",
            "16/16 [==============================] - 0s 9ms/step - loss: 0.0877 - accuracy: 0.9719 - val_loss: 0.0892 - val_accuracy: 0.9711\n",
            "Epoch 27/100\n",
            "16/16 [==============================] - 0s 10ms/step - loss: 0.0866 - accuracy: 0.9721 - val_loss: 0.0882 - val_accuracy: 0.9711\n",
            "Epoch 28/100\n",
            "16/16 [==============================] - 0s 9ms/step - loss: 0.0857 - accuracy: 0.9721 - val_loss: 0.0873 - val_accuracy: 0.9711\n",
            "Epoch 29/100\n",
            "16/16 [==============================] - 0s 9ms/step - loss: 0.0847 - accuracy: 0.9722 - val_loss: 0.0863 - val_accuracy: 0.9706\n",
            "Epoch 30/100\n",
            "16/16 [==============================] - 0s 10ms/step - loss: 0.0838 - accuracy: 0.9721 - val_loss: 0.0855 - val_accuracy: 0.9706\n",
            "Epoch 31/100\n",
            "16/16 [==============================] - 0s 10ms/step - loss: 0.0830 - accuracy: 0.9721 - val_loss: 0.0847 - val_accuracy: 0.9706\n",
            "Epoch 32/100\n",
            "16/16 [==============================] - 0s 10ms/step - loss: 0.0823 - accuracy: 0.9723 - val_loss: 0.0840 - val_accuracy: 0.9709\n",
            "Epoch 33/100\n",
            "16/16 [==============================] - 0s 10ms/step - loss: 0.0815 - accuracy: 0.9725 - val_loss: 0.0832 - val_accuracy: 0.9708\n",
            "Epoch 34/100\n",
            "16/16 [==============================] - 0s 10ms/step - loss: 0.0808 - accuracy: 0.9726 - val_loss: 0.0826 - val_accuracy: 0.9709\n",
            "Epoch 35/100\n",
            "16/16 [==============================] - 0s 10ms/step - loss: 0.0802 - accuracy: 0.9726 - val_loss: 0.0820 - val_accuracy: 0.9709\n",
            "Epoch 36/100\n",
            "16/16 [==============================] - 0s 10ms/step - loss: 0.0796 - accuracy: 0.9727 - val_loss: 0.0814 - val_accuracy: 0.9710\n",
            "Epoch 37/100\n",
            "16/16 [==============================] - 0s 10ms/step - loss: 0.0790 - accuracy: 0.9727 - val_loss: 0.0809 - val_accuracy: 0.9710\n",
            "Epoch 38/100\n",
            "16/16 [==============================] - 0s 10ms/step - loss: 0.0785 - accuracy: 0.9727 - val_loss: 0.0804 - val_accuracy: 0.9710\n",
            "Epoch 39/100\n",
            "16/16 [==============================] - 0s 9ms/step - loss: 0.0779 - accuracy: 0.9728 - val_loss: 0.0799 - val_accuracy: 0.9710\n",
            "Epoch 40/100\n",
            "16/16 [==============================] - 0s 9ms/step - loss: 0.0774 - accuracy: 0.9728 - val_loss: 0.0794 - val_accuracy: 0.9711\n",
            "Epoch 41/100\n",
            "16/16 [==============================] - 0s 9ms/step - loss: 0.0770 - accuracy: 0.9728 - val_loss: 0.0789 - val_accuracy: 0.9710\n",
            "Epoch 42/100\n",
            "16/16 [==============================] - 0s 10ms/step - loss: 0.0765 - accuracy: 0.9728 - val_loss: 0.0785 - val_accuracy: 0.9711\n",
            "Epoch 43/100\n",
            "16/16 [==============================] - 0s 8ms/step - loss: 0.0761 - accuracy: 0.9729 - val_loss: 0.0781 - val_accuracy: 0.9712\n",
            "Epoch 44/100\n",
            "16/16 [==============================] - 0s 10ms/step - loss: 0.0757 - accuracy: 0.9728 - val_loss: 0.0777 - val_accuracy: 0.9711\n",
            "Epoch 45/100\n",
            "16/16 [==============================] - 0s 10ms/step - loss: 0.0752 - accuracy: 0.9729 - val_loss: 0.0773 - val_accuracy: 0.9711\n",
            "Epoch 46/100\n",
            "16/16 [==============================] - 0s 10ms/step - loss: 0.0749 - accuracy: 0.9728 - val_loss: 0.0770 - val_accuracy: 0.9712\n",
            "Epoch 47/100\n",
            "16/16 [==============================] - 0s 10ms/step - loss: 0.0745 - accuracy: 0.9729 - val_loss: 0.0766 - val_accuracy: 0.9713\n",
            "Epoch 48/100\n",
            "16/16 [==============================] - 0s 10ms/step - loss: 0.0741 - accuracy: 0.9728 - val_loss: 0.0763 - val_accuracy: 0.9712\n",
            "Epoch 49/100\n",
            "16/16 [==============================] - 0s 9ms/step - loss: 0.0738 - accuracy: 0.9729 - val_loss: 0.0760 - val_accuracy: 0.9712\n",
            "Epoch 50/100\n",
            "16/16 [==============================] - 0s 10ms/step - loss: 0.0735 - accuracy: 0.9731 - val_loss: 0.0757 - val_accuracy: 0.9715\n",
            "Epoch 51/100\n",
            "16/16 [==============================] - 0s 10ms/step - loss: 0.0732 - accuracy: 0.9736 - val_loss: 0.0754 - val_accuracy: 0.9722\n",
            "Epoch 52/100\n",
            "16/16 [==============================] - 0s 10ms/step - loss: 0.0728 - accuracy: 0.9740 - val_loss: 0.0751 - val_accuracy: 0.9726\n",
            "Epoch 53/100\n",
            "16/16 [==============================] - 0s 10ms/step - loss: 0.0725 - accuracy: 0.9742 - val_loss: 0.0748 - val_accuracy: 0.9729\n",
            "Epoch 54/100\n",
            "16/16 [==============================] - 0s 10ms/step - loss: 0.0723 - accuracy: 0.9745 - val_loss: 0.0745 - val_accuracy: 0.9730\n",
            "Epoch 55/100\n",
            "16/16 [==============================] - 0s 10ms/step - loss: 0.0720 - accuracy: 0.9746 - val_loss: 0.0743 - val_accuracy: 0.9730\n",
            "Epoch 56/100\n",
            "16/16 [==============================] - 0s 9ms/step - loss: 0.0717 - accuracy: 0.9747 - val_loss: 0.0740 - val_accuracy: 0.9732\n",
            "Epoch 57/100\n",
            "16/16 [==============================] - 0s 10ms/step - loss: 0.0714 - accuracy: 0.9750 - val_loss: 0.0738 - val_accuracy: 0.9736\n",
            "Epoch 58/100\n",
            "16/16 [==============================] - 0s 10ms/step - loss: 0.0712 - accuracy: 0.9754 - val_loss: 0.0735 - val_accuracy: 0.9740\n",
            "Epoch 59/100\n",
            "16/16 [==============================] - 0s 10ms/step - loss: 0.0709 - accuracy: 0.9755 - val_loss: 0.0733 - val_accuracy: 0.9743\n",
            "Epoch 60/100\n",
            "16/16 [==============================] - 0s 10ms/step - loss: 0.0706 - accuracy: 0.9756 - val_loss: 0.0731 - val_accuracy: 0.9743\n",
            "Epoch 61/100\n",
            "16/16 [==============================] - 0s 11ms/step - loss: 0.0704 - accuracy: 0.9757 - val_loss: 0.0729 - val_accuracy: 0.9744\n",
            "Epoch 62/100\n",
            "16/16 [==============================] - 0s 10ms/step - loss: 0.0702 - accuracy: 0.9757 - val_loss: 0.0728 - val_accuracy: 0.9743\n",
            "Epoch 63/100\n",
            "16/16 [==============================] - 0s 10ms/step - loss: 0.0700 - accuracy: 0.9757 - val_loss: 0.0725 - val_accuracy: 0.9745\n",
            "Epoch 64/100\n",
            "16/16 [==============================] - 0s 10ms/step - loss: 0.0697 - accuracy: 0.9759 - val_loss: 0.0723 - val_accuracy: 0.9747\n",
            "Epoch 65/100\n",
            "16/16 [==============================] - 0s 10ms/step - loss: 0.0695 - accuracy: 0.9759 - val_loss: 0.0721 - val_accuracy: 0.9747\n",
            "Epoch 66/100\n",
            "16/16 [==============================] - 0s 10ms/step - loss: 0.0694 - accuracy: 0.9765 - val_loss: 0.0720 - val_accuracy: 0.9747\n",
            "Epoch 67/100\n",
            "16/16 [==============================] - 0s 10ms/step - loss: 0.0691 - accuracy: 0.9764 - val_loss: 0.0718 - val_accuracy: 0.9748\n",
            "Epoch 68/100\n",
            "16/16 [==============================] - 0s 10ms/step - loss: 0.0690 - accuracy: 0.9760 - val_loss: 0.0716 - val_accuracy: 0.9747\n",
            "Epoch 69/100\n",
            "16/16 [==============================] - 0s 10ms/step - loss: 0.0688 - accuracy: 0.9764 - val_loss: 0.0715 - val_accuracy: 0.9748\n",
            "Epoch 70/100\n",
            "16/16 [==============================] - 0s 11ms/step - loss: 0.0686 - accuracy: 0.9766 - val_loss: 0.0713 - val_accuracy: 0.9752\n",
            "Epoch 71/100\n",
            "16/16 [==============================] - 0s 10ms/step - loss: 0.0684 - accuracy: 0.9767 - val_loss: 0.0712 - val_accuracy: 0.9752\n",
            "Epoch 72/100\n",
            "16/16 [==============================] - 0s 10ms/step - loss: 0.0683 - accuracy: 0.9770 - val_loss: 0.0711 - val_accuracy: 0.9751\n",
            "Epoch 73/100\n",
            "16/16 [==============================] - 0s 10ms/step - loss: 0.0681 - accuracy: 0.9771 - val_loss: 0.0709 - val_accuracy: 0.9753\n",
            "Epoch 74/100\n",
            "16/16 [==============================] - 0s 9ms/step - loss: 0.0679 - accuracy: 0.9769 - val_loss: 0.0706 - val_accuracy: 0.9754\n",
            "Epoch 75/100\n",
            "16/16 [==============================] - 0s 11ms/step - loss: 0.0677 - accuracy: 0.9769 - val_loss: 0.0705 - val_accuracy: 0.9756\n",
            "Epoch 76/100\n",
            "16/16 [==============================] - 0s 10ms/step - loss: 0.0676 - accuracy: 0.9771 - val_loss: 0.0703 - val_accuracy: 0.9754\n",
            "Epoch 77/100\n",
            "16/16 [==============================] - 0s 10ms/step - loss: 0.0674 - accuracy: 0.9769 - val_loss: 0.0702 - val_accuracy: 0.9754\n",
            "Epoch 78/100\n",
            "16/16 [==============================] - 0s 10ms/step - loss: 0.0672 - accuracy: 0.9771 - val_loss: 0.0701 - val_accuracy: 0.9754\n",
            "Epoch 79/100\n",
            "16/16 [==============================] - 0s 11ms/step - loss: 0.0671 - accuracy: 0.9773 - val_loss: 0.0700 - val_accuracy: 0.9756\n",
            "Epoch 80/100\n",
            "16/16 [==============================] - 0s 10ms/step - loss: 0.0669 - accuracy: 0.9773 - val_loss: 0.0699 - val_accuracy: 0.9756\n",
            "Epoch 81/100\n",
            "16/16 [==============================] - 0s 10ms/step - loss: 0.0668 - accuracy: 0.9774 - val_loss: 0.0697 - val_accuracy: 0.9760\n",
            "Epoch 82/100\n",
            "16/16 [==============================] - 0s 10ms/step - loss: 0.0666 - accuracy: 0.9774 - val_loss: 0.0696 - val_accuracy: 0.9761\n",
            "Epoch 83/100\n",
            "16/16 [==============================] - 0s 10ms/step - loss: 0.0665 - accuracy: 0.9777 - val_loss: 0.0695 - val_accuracy: 0.9760\n",
            "Epoch 84/100\n",
            "16/16 [==============================] - 0s 11ms/step - loss: 0.0664 - accuracy: 0.9775 - val_loss: 0.0694 - val_accuracy: 0.9760\n",
            "Epoch 85/100\n",
            "16/16 [==============================] - 0s 11ms/step - loss: 0.0663 - accuracy: 0.9778 - val_loss: 0.0693 - val_accuracy: 0.9761\n",
            "Epoch 86/100\n",
            "16/16 [==============================] - 0s 10ms/step - loss: 0.0661 - accuracy: 0.9778 - val_loss: 0.0691 - val_accuracy: 0.9760\n",
            "Epoch 87/100\n",
            "16/16 [==============================] - 0s 9ms/step - loss: 0.0660 - accuracy: 0.9778 - val_loss: 0.0690 - val_accuracy: 0.9760\n",
            "Epoch 88/100\n",
            "16/16 [==============================] - 0s 10ms/step - loss: 0.0659 - accuracy: 0.9778 - val_loss: 0.0689 - val_accuracy: 0.9760\n",
            "Epoch 89/100\n",
            "16/16 [==============================] - 0s 10ms/step - loss: 0.0657 - accuracy: 0.9780 - val_loss: 0.0688 - val_accuracy: 0.9761\n",
            "Epoch 90/100\n",
            "16/16 [==============================] - 0s 10ms/step - loss: 0.0656 - accuracy: 0.9780 - val_loss: 0.0688 - val_accuracy: 0.9761\n",
            "Epoch 91/100\n",
            "16/16 [==============================] - 0s 10ms/step - loss: 0.0655 - accuracy: 0.9780 - val_loss: 0.0686 - val_accuracy: 0.9763\n",
            "Epoch 92/100\n",
            "16/16 [==============================] - 0s 10ms/step - loss: 0.0654 - accuracy: 0.9781 - val_loss: 0.0685 - val_accuracy: 0.9761\n",
            "Epoch 93/100\n",
            "16/16 [==============================] - 0s 12ms/step - loss: 0.0653 - accuracy: 0.9781 - val_loss: 0.0684 - val_accuracy: 0.9763\n",
            "Epoch 94/100\n",
            "16/16 [==============================] - 0s 11ms/step - loss: 0.0652 - accuracy: 0.9782 - val_loss: 0.0683 - val_accuracy: 0.9763\n",
            "Epoch 95/100\n",
            "16/16 [==============================] - 0s 10ms/step - loss: 0.0651 - accuracy: 0.9782 - val_loss: 0.0682 - val_accuracy: 0.9763\n",
            "Epoch 96/100\n",
            "16/16 [==============================] - 0s 10ms/step - loss: 0.0650 - accuracy: 0.9782 - val_loss: 0.0681 - val_accuracy: 0.9766\n",
            "Epoch 97/100\n",
            "16/16 [==============================] - 0s 10ms/step - loss: 0.0649 - accuracy: 0.9782 - val_loss: 0.0680 - val_accuracy: 0.9763\n",
            "Epoch 98/100\n",
            "16/16 [==============================] - 0s 10ms/step - loss: 0.0648 - accuracy: 0.9782 - val_loss: 0.0679 - val_accuracy: 0.9765\n",
            "Epoch 99/100\n",
            "16/16 [==============================] - 0s 11ms/step - loss: 0.0647 - accuracy: 0.9782 - val_loss: 0.0679 - val_accuracy: 0.9766\n",
            "Epoch 100/100\n",
            "16/16 [==============================] - 0s 10ms/step - loss: 0.0646 - accuracy: 0.9781 - val_loss: 0.0677 - val_accuracy: 0.9762\n"
          ]
        }
      ],
      "source": [
        "# training the model on training dataset\n",
        "history = mlp.fit(X_train, y_train, epochs=100, batch_size=5000,validation_split=0.2)"
      ]
    },
    {
      "cell_type": "code",
      "execution_count": null,
      "metadata": {
        "colab": {
          "base_uri": "https://localhost:8080/"
        },
        "id": "Nn4cYSDKx1-o",
        "outputId": "20259da5-7798-4419-da41-7a7f3e1f8dd8"
      },
      "outputs": [
        {
          "name": "stdout",
          "output_type": "stream",
          "text": [
            "Saved model to disk\n",
            "Loaded model from disk\n"
          ]
        }
      ],
      "source": [
        "filepath = './models/mlp_binary.json'\n",
        "weightspath = './weights/mlp_binary.h5'\n",
        "if (not path.isfile(filepath)):\n",
        "  # serialize model to JSON\n",
        "  mlp_json = mlp.to_json()\n",
        "  with open(filepath, \"w\") as json_file:\n",
        "    json_file.write(mlp_json)\n",
        "\n",
        "  # serialize weights to HDF5\n",
        "  mlp.save_weights(weightspath)\n",
        "  print(\"Saved model to disk\")\n",
        "\n",
        "  # load json and create model\n",
        "  json_file = open(filepath, 'r')\n",
        "  loaded_model_json = json_file.read()\n",
        "  json_file.close()\n",
        "  mlp = model_from_json(loaded_model_json)\n",
        "\n",
        "  # load weights into new model\n",
        "  mlp.load_weights(weightspath)\n",
        "  print(\"Loaded model from disk\")"
      ]
    },
    {
      "cell_type": "code",
      "execution_count": null,
      "metadata": {
        "id": "HRCboXxT04NZ"
      },
      "outputs": [],
      "source": [
        "# defining loss function, optimizer, metrics and then compiling model\n",
        "mlp.compile(loss='binary_crossentropy', optimizer='adam', metrics=['accuracy'])"
      ]
    },
    {
      "cell_type": "code",
      "execution_count": null,
      "metadata": {
        "colab": {
          "base_uri": "https://localhost:8080/"
        },
        "id": "XYkgc0V6E2Cy",
        "outputId": "3dce1cc8-d58a-4ff9-96cc-d8476b3ee7f6"
      },
      "outputs": [
        {
          "name": "stdout",
          "output_type": "stream",
          "text": [
            "985/985 [==============================] - 1s 1ms/step - loss: 0.0659 - accuracy: 0.9778\n",
            "Test results - Loss: 0.0659344419836998 - Accuracy: 97.78053164482117\n"
          ]
        }
      ],
      "source": [
        "# predicting target attribute on testing dataset\n",
        "test_results = mlp.evaluate(X_test, y_test, verbose=1)\n",
        "print(f'Test results - Loss: {test_results[0]} - Accuracy: {test_results[1]*100}')"
      ]
    },
    {
      "cell_type": "code",
      "execution_count": null,
      "metadata": {
        "colab": {
          "base_uri": "https://localhost:8080/",
          "height": 295
        },
        "id": "8t6-ytIJE7th",
        "outputId": "d5e0cde8-fcc8-4e35-9524-da557d2a6c48"
      },
      "outputs": [
        {
          "data": {
            "image/png": "[encoded data removed]",
            "text/plain": [
              "<Figure size 432x288 with 1 Axes>"
            ]
          },
          "metadata": {
            "needs_background": "light"
          },
          "output_type": "display_data"
        }
      ],
      "source": [
        "# Plot of accuracy vs epoch of train and test dataset\n",
        "plt.plot(history.history['accuracy'])\n",
        "plt.plot(history.history['val_accuracy'])\n",
        "plt.title(\"Plot of accuracy vs epoch for train and test dataset\")\n",
        "plt.ylabel('accuracy')\n",
        "plt.xlabel('epoch')\n",
        "plt.legend(['train', 'test'], loc='best')\n",
        "plt.savefig('plots/mlp_binary_accuracy.png')\n",
        "plt.show()"
      ]
    },
    {
      "cell_type": "code",
      "execution_count": null,
      "metadata": {
        "colab": {
          "base_uri": "https://localhost:8080/",
          "height": 295
        },
        "id": "hun0u-pxE_q1",
        "outputId": "004ecf17-616d-459e-a7ea-7fa2c2bc9827"
      },
      "outputs": [
        {
          "data": {
            "image/png": "[encoded data removed]",
            "text/plain": [
              "<Figure size 432x288 with 1 Axes>"
            ]
          },
          "metadata": {
            "needs_background": "light"
          },
          "output_type": "display_data"
        }
      ],
      "source": [
        "# Plot of loss vs epoch of train and test dataset\n",
        "plt.plot(history.history['loss'])\n",
        "plt.plot(history.history['val_loss'])\n",
        "plt.title('Plot of loss vs epoch for train and test dataset')\n",
        "plt.ylabel('loss')\n",
        "plt.xlabel('epoch')\n",
        "plt.legend(['train', 'test'], loc='best')\n",
        "plt.savefig('plots/mlp_binary_loss.png')\n",
        "plt.show()"
      ]
    },
    {
      "cell_type": "code",
      "execution_count": null,
      "metadata": {
        "colab": {
          "base_uri": "https://localhost:8080/",
          "height": 312
        },
        "id": "BFiX0p1dy4BB",
        "outputId": "14a323a3-5a0a-407c-9f8a-059b5cafe2b7"
      },
      "outputs": [
        {
          "data": {
            "image/png": "[encoded data removed]",
            "text/plain": [
              "<IPython.core.display.Image object>"
            ]
          },
          "execution_count": 89,
          "metadata": {},
          "output_type": "execute_result"
        }
      ],
      "source": [
        "plot_model(mlp, to_file='plots/mlp_binary.png', show_shapes=True,)"
      ]
    },
    {
      "cell_type": "code",
      "execution_count": null,
      "metadata": {
        "id": "xHZeOdcODuXC"
      },
      "outputs": [],
      "source": [
        "y_pred = mlp.predict(X_test).ravel()\n",
        "fpr, tpr, thresholds = roc_curve(y_test, y_pred)\n",
        "auc = auc(fpr, tpr)"
      ]
    },
    {
      "cell_type": "code",
      "execution_count": null,
      "metadata": {
        "colab": {
          "base_uri": "https://localhost:8080/",
          "height": 295
        },
        "id": "687RA0SiEc4L",
        "outputId": "a97f1655-e5b2-48fa-ea57-957c270b6a1e"
      },
      "outputs": [
        {
          "data": {
            "image/png": "[encoded data removed]",
            "text/plain": [
              "<Figure size 432x288 with 1 Axes>"
            ]
          },
          "metadata": {
            "needs_background": "light"
          },
          "output_type": "display_data"
        }
      ],
      "source": [
        "plt.plot([0, 1], [0, 1], 'k--')\n",
        "plt.plot(fpr, tpr, label='Keras (area = {:.3f})'.format(auc))\n",
        "plt.xlabel('False positive rate')\n",
        "plt.ylabel('True positive rate')\n",
        "plt.title('ROC curve')\n",
        "plt.legend(loc='best')\n",
        "plt.savefig('plots/mlp_binary_roc.png')\n",
        "plt.show()"
      ]
    },
    {
      "cell_type": "code",
      "execution_count": null,
      "metadata": {
        "id": "LOKvkSlNs4GN"
      },
      "outputs": [],
      "source": [
        "pred = mlp.predict(X_test)\n",
        "y_classes = (mlp.predict(X_test)>0.5).astype('int32')"
      ]
    },
    {
      "cell_type": "code",
      "execution_count": null,
      "metadata": {
        "colab": {
          "base_uri": "https://localhost:8080/"
        },
        "id": "EJ5Wgy5HskV5",
        "outputId": "4eb01f3b-814b-47ef-d01d-de6c88737dd7"
      },
      "outputs": [
        {
          "name": "stdout",
          "output_type": "stream",
          "text": [
            "Recall Score -  0.98634791939907\n",
            "F1 Score -  0.9793127941045903\n",
            "Precision Score -  0.9723773141345872\n"
          ]
        }
      ],
      "source": [
        "print(\"Recall Score - \",recall_score(y_test,y_classes))\n",
        "print(\"F1 Score - \",f1_score(y_test,y_classes))\n",
        "print(\"Precision Score - \",precision_score(y_test,y_classes))"
      ]
    },
    {
      "cell_type": "markdown",
      "metadata": {
        "id": "ZOUNj1J8Hhzo"
      },
      "source": [
        "# **Long Short-Term Memory Classifier (Binary Classification)**"
      ]
    },
    {
      "cell_type": "code",
      "execution_count": 157,
      "metadata": {
        "id": "0NuShoBumsdn"
      },
      "outputs": [],
      "source": [
        "X = bin_data.iloc[:,0:93] # dataset excluding target attribute (encoded, one-hot-encoded,original)\n",
        "Y = bin_data[['intrusion']] # target attribute"
      ]
    },
    {
      "cell_type": "code",
      "execution_count": 158,
      "metadata": {
        "id": "rlH9mkLimrYW"
      },
      "outputs": [],
      "source": [
        "# splitting the dataset 75% for training and 25% testing\n",
        "X_train, X_test, y_train, y_test = train_test_split(X,Y, test_size=0.25, random_state=42)"
      ]
    },
    {
      "cell_type": "code",
      "execution_count": 159,
      "metadata": {
        "id": "15q5ptxAIWGt"
      },
      "outputs": [],
      "source": [
        "X_train = X_train.values"
      ]
    },
    {
      "cell_type": "code",
      "execution_count": 160,
      "metadata": {
        "id": "2iBNADhqiipq"
      },
      "outputs": [],
      "source": [
        "y_train = np.array(y_train)"
      ]
    },
    {
      "cell_type": "code",
      "execution_count": 161,
      "metadata": {
        "id": "nJA6scawIW6U"
      },
      "outputs": [],
      "source": [
        "x_train = np.reshape(X_train, (X_train.shape[0],1,X_train.shape[1]))"
      ]
    },
    {
      "cell_type": "code",
      "execution_count": 162,
      "metadata": {
        "colab": {
          "base_uri": "https://localhost:8080/"
        },
        "id": "CafY_Uf-spxg",
        "outputId": "23e333fc-9e77-4fac-85b0-a6ce758d9e83"
      },
      "outputs": [
        {
          "data": {
            "text/plain": [
              "(94479, 1, 93)"
            ]
          },
          "execution_count": 162,
          "metadata": {},
          "output_type": "execute_result"
        }
      ],
      "source": [
        "x_train.shape"
      ]
    },
    {
      "cell_type": "code",
      "execution_count": 164,
      "metadata": {
        "id": "lCJJijSrx7Gv"
      },
      "outputs": [],
      "source": [
        "lst = Sequential()\n",
        "# input layer and LSTM layer with 50 neurons\n",
        "lst.add(LSTM(50,input_dim=93))\n",
        "\n",
        "# outpute layer with sigmoid activation\n",
        "lst.add(Dense(1,activation='sigmoid'))"
      ]
    },
    {
      "cell_type": "code",
      "execution_count": 165,
      "metadata": {
        "id": "6ekKF6NFH_Iw"
      },
      "outputs": [],
      "source": [
        "# defining loss function, optimizer, metrics and then compiling model\n",
        "lst.compile(loss='binary_crossentropy',optimizer='adam',metrics=['accuracy'])"
      ]
    },
    {
      "cell_type": "code",
      "execution_count": 166,
      "metadata": {
        "colab": {
          "base_uri": "https://localhost:8080/"
        },
        "id": "nXF6pt7JlKxO",
        "outputId": "95b7269e-970c-4e3f-cb4c-e673c436b9aa"
      },
      "outputs": [
        {
          "name": "stdout",
          "output_type": "stream",
          "text": [
            "Model: \"sequential_16\"\n",
            "_________________________________________________________________\n",
            "Layer (type)                 Output Shape              Param #   \n",
            "=================================================================\n",
            "lstm_15 (LSTM)               (None, 50)                28800     \n",
            "_________________________________________________________________\n",
            "dense_14 (Dense)             (None, 1)                 51        \n",
            "=================================================================\n",
            "Total params: 28,851\n",
            "Trainable params: 28,851\n",
            "Non-trainable params: 0\n",
            "_________________________________________________________________\n"
          ]
        }
      ],
      "source": [
        "# summary of model layers\n",
        "lst.summary()"
      ]
    },
    {
      "cell_type": "code",
      "execution_count": 167,
      "metadata": {
        "colab": {
          "base_uri": "https://localhost:8080/"
        },
        "id": "peataArRecpK",
        "outputId": "dfea8c1c-4b6a-4bb4-d5ea-0412c1f305d7"
      },
      "outputs": [
        {
          "name": "stdout",
          "output_type": "stream",
          "text": [
            "Epoch 1/100\n",
            "16/16 [==============================] - 3s 77ms/step - loss: 0.5921 - accuracy: 0.8900 - val_loss: 0.5214 - val_accuracy: 0.9159\n",
            "Epoch 2/100\n",
            "16/16 [==============================] - 1s 41ms/step - loss: 0.4737 - accuracy: 0.9145 - val_loss: 0.4179 - val_accuracy: 0.9174\n",
            "Epoch 3/100\n",
            "16/16 [==============================] - 1s 41ms/step - loss: 0.3811 - accuracy: 0.9150 - val_loss: 0.3385 - val_accuracy: 0.9192\n",
            "Epoch 4/100\n",
            "16/16 [==============================] - 1s 41ms/step - loss: 0.3116 - accuracy: 0.9164 - val_loss: 0.2812 - val_accuracy: 0.9199\n",
            "Epoch 5/100\n",
            "16/16 [==============================] - 1s 43ms/step - loss: 0.2624 - accuracy: 0.9173 - val_loss: 0.2412 - val_accuracy: 0.9205\n",
            "Epoch 6/100\n",
            "16/16 [==============================] - 1s 42ms/step - loss: 0.2275 - accuracy: 0.9186 - val_loss: 0.2126 - val_accuracy: 0.9240\n",
            "Epoch 7/100\n",
            "16/16 [==============================] - 1s 37ms/step - loss: 0.2020 - accuracy: 0.9310 - val_loss: 0.1913 - val_accuracy: 0.9416\n",
            "Epoch 8/100\n",
            "16/16 [==============================] - 1s 36ms/step - loss: 0.1826 - accuracy: 0.9453 - val_loss: 0.1747 - val_accuracy: 0.9510\n",
            "Epoch 9/100\n",
            "16/16 [==============================] - 1s 36ms/step - loss: 0.1671 - accuracy: 0.9535 - val_loss: 0.1613 - val_accuracy: 0.9576\n",
            "Epoch 10/100\n",
            "16/16 [==============================] - 1s 35ms/step - loss: 0.1546 - accuracy: 0.9587 - val_loss: 0.1505 - val_accuracy: 0.9605\n",
            "Epoch 11/100\n",
            "16/16 [==============================] - 1s 36ms/step - loss: 0.1445 - accuracy: 0.9619 - val_loss: 0.1418 - val_accuracy: 0.9634\n",
            "Epoch 12/100\n",
            "16/16 [==============================] - 1s 41ms/step - loss: 0.1363 - accuracy: 0.9652 - val_loss: 0.1347 - val_accuracy: 0.9658\n",
            "Epoch 13/100\n",
            "16/16 [==============================] - 1s 41ms/step - loss: 0.1297 - accuracy: 0.9662 - val_loss: 0.1289 - val_accuracy: 0.9661\n",
            "Epoch 14/100\n",
            "16/16 [==============================] - 1s 35ms/step - loss: 0.1243 - accuracy: 0.9668 - val_loss: 0.1241 - val_accuracy: 0.9666\n",
            "Epoch 15/100\n",
            "16/16 [==============================] - 1s 38ms/step - loss: 0.1197 - accuracy: 0.9677 - val_loss: 0.1200 - val_accuracy: 0.9677\n",
            "Epoch 16/100\n",
            "16/16 [==============================] - 1s 43ms/step - loss: 0.1159 - accuracy: 0.9684 - val_loss: 0.1165 - val_accuracy: 0.9689\n",
            "Epoch 17/100\n",
            "16/16 [==============================] - 1s 41ms/step - loss: 0.1125 - accuracy: 0.9693 - val_loss: 0.1133 - val_accuracy: 0.9694\n",
            "Epoch 18/100\n",
            "16/16 [==============================] - 1s 44ms/step - loss: 0.1096 - accuracy: 0.9696 - val_loss: 0.1105 - val_accuracy: 0.9696\n",
            "Epoch 19/100\n",
            "16/16 [==============================] - 1s 41ms/step - loss: 0.1069 - accuracy: 0.9699 - val_loss: 0.1080 - val_accuracy: 0.9698\n",
            "Epoch 20/100\n",
            "16/16 [==============================] - 1s 42ms/step - loss: 0.1045 - accuracy: 0.9700 - val_loss: 0.1056 - val_accuracy: 0.9699\n",
            "Epoch 21/100\n",
            "16/16 [==============================] - 1s 40ms/step - loss: 0.1023 - accuracy: 0.9702 - val_loss: 0.1035 - val_accuracy: 0.9698\n",
            "Epoch 22/100\n",
            "16/16 [==============================] - 1s 37ms/step - loss: 0.1003 - accuracy: 0.9703 - val_loss: 0.1015 - val_accuracy: 0.9704\n",
            "Epoch 23/100\n",
            "16/16 [==============================] - 1s 35ms/step - loss: 0.0984 - accuracy: 0.9706 - val_loss: 0.0997 - val_accuracy: 0.9704\n",
            "Epoch 24/100\n",
            "16/16 [==============================] - 1s 37ms/step - loss: 0.0967 - accuracy: 0.9709 - val_loss: 0.0980 - val_accuracy: 0.9705\n",
            "Epoch 25/100\n",
            "16/16 [==============================] - 1s 36ms/step - loss: 0.0951 - accuracy: 0.9710 - val_loss: 0.0964 - val_accuracy: 0.9707\n",
            "Epoch 26/100\n",
            "16/16 [==============================] - 1s 36ms/step - loss: 0.0935 - accuracy: 0.9711 - val_loss: 0.0949 - val_accuracy: 0.9710\n",
            "Epoch 27/100\n",
            "16/16 [==============================] - 1s 41ms/step - loss: 0.0921 - accuracy: 0.9712 - val_loss: 0.0935 - val_accuracy: 0.9711\n",
            "Epoch 28/100\n",
            "16/16 [==============================] - 1s 40ms/step - loss: 0.0908 - accuracy: 0.9714 - val_loss: 0.0922 - val_accuracy: 0.9709\n",
            "Epoch 29/100\n",
            "16/16 [==============================] - 1s 41ms/step - loss: 0.0895 - accuracy: 0.9715 - val_loss: 0.0909 - val_accuracy: 0.9708\n",
            "Epoch 30/100\n",
            "16/16 [==============================] - 1s 36ms/step - loss: 0.0883 - accuracy: 0.9715 - val_loss: 0.0897 - val_accuracy: 0.9709\n",
            "Epoch 31/100\n",
            "16/16 [==============================] - 1s 39ms/step - loss: 0.0872 - accuracy: 0.9716 - val_loss: 0.0884 - val_accuracy: 0.9709\n",
            "Epoch 32/100\n",
            "16/16 [==============================] - 1s 41ms/step - loss: 0.0861 - accuracy: 0.9717 - val_loss: 0.0874 - val_accuracy: 0.9710\n",
            "Epoch 33/100\n",
            "16/16 [==============================] - 1s 42ms/step - loss: 0.0850 - accuracy: 0.9718 - val_loss: 0.0863 - val_accuracy: 0.9709\n",
            "Epoch 34/100\n",
            "16/16 [==============================] - 1s 41ms/step - loss: 0.0840 - accuracy: 0.9717 - val_loss: 0.0853 - val_accuracy: 0.9704\n",
            "Epoch 35/100\n",
            "16/16 [==============================] - 1s 35ms/step - loss: 0.0831 - accuracy: 0.9718 - val_loss: 0.0844 - val_accuracy: 0.9704\n",
            "Epoch 36/100\n",
            "16/16 [==============================] - 1s 36ms/step - loss: 0.0821 - accuracy: 0.9719 - val_loss: 0.0835 - val_accuracy: 0.9705\n",
            "Epoch 37/100\n",
            "16/16 [==============================] - 1s 36ms/step - loss: 0.0813 - accuracy: 0.9719 - val_loss: 0.0826 - val_accuracy: 0.9705\n",
            "Epoch 38/100\n",
            "16/16 [==============================] - 1s 36ms/step - loss: 0.0804 - accuracy: 0.9720 - val_loss: 0.0818 - val_accuracy: 0.9705\n",
            "Epoch 39/100\n",
            "16/16 [==============================] - 1s 37ms/step - loss: 0.0797 - accuracy: 0.9720 - val_loss: 0.0810 - val_accuracy: 0.9705\n",
            "Epoch 40/100\n",
            "16/16 [==============================] - 1s 36ms/step - loss: 0.0789 - accuracy: 0.9720 - val_loss: 0.0802 - val_accuracy: 0.9705\n",
            "Epoch 41/100\n",
            "16/16 [==============================] - 1s 37ms/step - loss: 0.0782 - accuracy: 0.9720 - val_loss: 0.0795 - val_accuracy: 0.9706\n",
            "Epoch 42/100\n",
            "16/16 [==============================] - 1s 36ms/step - loss: 0.0775 - accuracy: 0.9721 - val_loss: 0.0788 - val_accuracy: 0.9707\n",
            "Epoch 43/100\n",
            "16/16 [==============================] - 1s 37ms/step - loss: 0.0768 - accuracy: 0.9722 - val_loss: 0.0782 - val_accuracy: 0.9707\n",
            "Epoch 44/100\n",
            "16/16 [==============================] - 1s 44ms/step - loss: 0.0762 - accuracy: 0.9722 - val_loss: 0.0776 - val_accuracy: 0.9707\n",
            "Epoch 45/100\n",
            "16/16 [==============================] - 1s 36ms/step - loss: 0.0757 - accuracy: 0.9722 - val_loss: 0.0770 - val_accuracy: 0.9708\n",
            "Epoch 46/100\n",
            "16/16 [==============================] - 1s 36ms/step - loss: 0.0751 - accuracy: 0.9721 - val_loss: 0.0765 - val_accuracy: 0.9708\n",
            "Epoch 47/100\n",
            "16/16 [==============================] - 1s 36ms/step - loss: 0.0746 - accuracy: 0.9721 - val_loss: 0.0760 - val_accuracy: 0.9711\n",
            "Epoch 48/100\n",
            "16/16 [==============================] - 1s 37ms/step - loss: 0.0741 - accuracy: 0.9729 - val_loss: 0.0755 - val_accuracy: 0.9714\n",
            "Epoch 49/100\n",
            "16/16 [==============================] - 1s 36ms/step - loss: 0.0736 - accuracy: 0.9725 - val_loss: 0.0751 - val_accuracy: 0.9714\n",
            "Epoch 50/100\n",
            "16/16 [==============================] - 1s 35ms/step - loss: 0.0731 - accuracy: 0.9727 - val_loss: 0.0746 - val_accuracy: 0.9717\n",
            "Epoch 51/100\n",
            "16/16 [==============================] - 1s 37ms/step - loss: 0.0727 - accuracy: 0.9731 - val_loss: 0.0742 - val_accuracy: 0.9718\n",
            "Epoch 52/100\n",
            "16/16 [==============================] - 1s 35ms/step - loss: 0.0723 - accuracy: 0.9739 - val_loss: 0.0738 - val_accuracy: 0.9735\n",
            "Epoch 53/100\n",
            "16/16 [==============================] - 1s 37ms/step - loss: 0.0719 - accuracy: 0.9748 - val_loss: 0.0735 - val_accuracy: 0.9738\n",
            "Epoch 54/100\n",
            "16/16 [==============================] - 1s 42ms/step - loss: 0.0715 - accuracy: 0.9747 - val_loss: 0.0732 - val_accuracy: 0.9737\n",
            "Epoch 55/100\n",
            "16/16 [==============================] - 1s 38ms/step - loss: 0.0711 - accuracy: 0.9755 - val_loss: 0.0728 - val_accuracy: 0.9747\n",
            "Epoch 56/100\n",
            "16/16 [==============================] - 1s 37ms/step - loss: 0.0708 - accuracy: 0.9762 - val_loss: 0.0725 - val_accuracy: 0.9751\n",
            "Epoch 57/100\n",
            "16/16 [==============================] - 1s 36ms/step - loss: 0.0705 - accuracy: 0.9763 - val_loss: 0.0722 - val_accuracy: 0.9751\n",
            "Epoch 58/100\n",
            "16/16 [==============================] - 1s 36ms/step - loss: 0.0702 - accuracy: 0.9763 - val_loss: 0.0720 - val_accuracy: 0.9750\n",
            "Epoch 59/100\n",
            "16/16 [==============================] - 1s 36ms/step - loss: 0.0699 - accuracy: 0.9762 - val_loss: 0.0717 - val_accuracy: 0.9751\n",
            "Epoch 60/100\n",
            "16/16 [==============================] - 1s 36ms/step - loss: 0.0697 - accuracy: 0.9770 - val_loss: 0.0715 - val_accuracy: 0.9754\n",
            "Epoch 61/100\n",
            "16/16 [==============================] - 1s 37ms/step - loss: 0.0694 - accuracy: 0.9770 - val_loss: 0.0713 - val_accuracy: 0.9755\n",
            "Epoch 62/100\n",
            "16/16 [==============================] - 1s 37ms/step - loss: 0.0691 - accuracy: 0.9773 - val_loss: 0.0710 - val_accuracy: 0.9758\n",
            "Epoch 63/100\n",
            "16/16 [==============================] - 1s 37ms/step - loss: 0.0689 - accuracy: 0.9774 - val_loss: 0.0707 - val_accuracy: 0.9758\n",
            "Epoch 64/100\n",
            "16/16 [==============================] - 1s 42ms/step - loss: 0.0686 - accuracy: 0.9774 - val_loss: 0.0706 - val_accuracy: 0.9758\n",
            "Epoch 65/100\n",
            "16/16 [==============================] - 1s 43ms/step - loss: 0.0684 - accuracy: 0.9773 - val_loss: 0.0704 - val_accuracy: 0.9760\n",
            "Epoch 66/100\n",
            "16/16 [==============================] - 1s 45ms/step - loss: 0.0682 - accuracy: 0.9774 - val_loss: 0.0702 - val_accuracy: 0.9758\n",
            "Epoch 67/100\n",
            "16/16 [==============================] - 1s 36ms/step - loss: 0.0680 - accuracy: 0.9774 - val_loss: 0.0700 - val_accuracy: 0.9759\n",
            "Epoch 68/100\n",
            "16/16 [==============================] - 1s 37ms/step - loss: 0.0678 - accuracy: 0.9774 - val_loss: 0.0699 - val_accuracy: 0.9759\n",
            "Epoch 69/100\n",
            "16/16 [==============================] - 1s 43ms/step - loss: 0.0676 - accuracy: 0.9774 - val_loss: 0.0697 - val_accuracy: 0.9759\n",
            "Epoch 70/100\n",
            "16/16 [==============================] - 1s 41ms/step - loss: 0.0674 - accuracy: 0.9774 - val_loss: 0.0695 - val_accuracy: 0.9760\n",
            "Epoch 71/100\n",
            "16/16 [==============================] - 1s 40ms/step - loss: 0.0673 - accuracy: 0.9777 - val_loss: 0.0694 - val_accuracy: 0.9759\n",
            "Epoch 72/100\n",
            "16/16 [==============================] - 1s 36ms/step - loss: 0.0671 - accuracy: 0.9775 - val_loss: 0.0691 - val_accuracy: 0.9759\n",
            "Epoch 73/100\n",
            "16/16 [==============================] - 1s 40ms/step - loss: 0.0669 - accuracy: 0.9778 - val_loss: 0.0691 - val_accuracy: 0.9760\n",
            "Epoch 74/100\n",
            "16/16 [==============================] - 1s 42ms/step - loss: 0.0667 - accuracy: 0.9777 - val_loss: 0.0689 - val_accuracy: 0.9759\n",
            "Epoch 75/100\n",
            "16/16 [==============================] - 1s 41ms/step - loss: 0.0666 - accuracy: 0.9777 - val_loss: 0.0688 - val_accuracy: 0.9760\n",
            "Epoch 76/100\n",
            "16/16 [==============================] - 1s 40ms/step - loss: 0.0663 - accuracy: 0.9777 - val_loss: 0.0686 - val_accuracy: 0.9759\n",
            "Epoch 77/100\n",
            "16/16 [==============================] - 1s 37ms/step - loss: 0.0662 - accuracy: 0.9778 - val_loss: 0.0685 - val_accuracy: 0.9759\n",
            "Epoch 78/100\n",
            "16/16 [==============================] - 1s 37ms/step - loss: 0.0661 - accuracy: 0.9777 - val_loss: 0.0683 - val_accuracy: 0.9759\n",
            "Epoch 79/100\n",
            "16/16 [==============================] - 1s 37ms/step - loss: 0.0659 - accuracy: 0.9778 - val_loss: 0.0682 - val_accuracy: 0.9760\n",
            "Epoch 80/100\n",
            "16/16 [==============================] - 1s 36ms/step - loss: 0.0657 - accuracy: 0.9780 - val_loss: 0.0681 - val_accuracy: 0.9760\n",
            "Epoch 81/100\n",
            "16/16 [==============================] - 1s 37ms/step - loss: 0.0656 - accuracy: 0.9780 - val_loss: 0.0680 - val_accuracy: 0.9763\n",
            "Epoch 82/100\n",
            "16/16 [==============================] - 1s 36ms/step - loss: 0.0655 - accuracy: 0.9781 - val_loss: 0.0678 - val_accuracy: 0.9763\n",
            "Epoch 83/100\n",
            "16/16 [==============================] - 1s 39ms/step - loss: 0.0654 - accuracy: 0.9784 - val_loss: 0.0679 - val_accuracy: 0.9762\n",
            "Epoch 84/100\n",
            "16/16 [==============================] - 1s 42ms/step - loss: 0.0652 - accuracy: 0.9783 - val_loss: 0.0676 - val_accuracy: 0.9763\n",
            "Epoch 85/100\n",
            "16/16 [==============================] - 1s 42ms/step - loss: 0.0651 - accuracy: 0.9782 - val_loss: 0.0676 - val_accuracy: 0.9764\n",
            "Epoch 86/100\n",
            "16/16 [==============================] - 1s 41ms/step - loss: 0.0649 - accuracy: 0.9784 - val_loss: 0.0674 - val_accuracy: 0.9763\n",
            "Epoch 87/100\n",
            "16/16 [==============================] - 1s 44ms/step - loss: 0.0648 - accuracy: 0.9782 - val_loss: 0.0673 - val_accuracy: 0.9765\n",
            "Epoch 88/100\n",
            "16/16 [==============================] - 1s 40ms/step - loss: 0.0647 - accuracy: 0.9784 - val_loss: 0.0672 - val_accuracy: 0.9764\n",
            "Epoch 89/100\n",
            "16/16 [==============================] - 1s 40ms/step - loss: 0.0646 - accuracy: 0.9784 - val_loss: 0.0671 - val_accuracy: 0.9765\n",
            "Epoch 90/100\n",
            "16/16 [==============================] - 1s 38ms/step - loss: 0.0645 - accuracy: 0.9784 - val_loss: 0.0669 - val_accuracy: 0.9763\n",
            "Epoch 91/100\n",
            "16/16 [==============================] - 1s 36ms/step - loss: 0.0643 - accuracy: 0.9785 - val_loss: 0.0669 - val_accuracy: 0.9764\n",
            "Epoch 92/100\n",
            "16/16 [==============================] - 1s 36ms/step - loss: 0.0641 - accuracy: 0.9785 - val_loss: 0.0668 - val_accuracy: 0.9764\n",
            "Epoch 93/100\n",
            "16/16 [==============================] - 1s 38ms/step - loss: 0.0640 - accuracy: 0.9785 - val_loss: 0.0668 - val_accuracy: 0.9765\n",
            "Epoch 94/100\n",
            "16/16 [==============================] - 1s 35ms/step - loss: 0.0639 - accuracy: 0.9786 - val_loss: 0.0666 - val_accuracy: 0.9764\n",
            "Epoch 95/100\n",
            "16/16 [==============================] - 1s 37ms/step - loss: 0.0638 - accuracy: 0.9785 - val_loss: 0.0665 - val_accuracy: 0.9763\n",
            "Epoch 96/100\n",
            "16/16 [==============================] - 1s 36ms/step - loss: 0.0637 - accuracy: 0.9786 - val_loss: 0.0664 - val_accuracy: 0.9765\n",
            "Epoch 97/100\n",
            "16/16 [==============================] - 1s 36ms/step - loss: 0.0636 - accuracy: 0.9787 - val_loss: 0.0664 - val_accuracy: 0.9765\n",
            "Epoch 98/100\n",
            "16/16 [==============================] - 1s 36ms/step - loss: 0.0634 - accuracy: 0.9787 - val_loss: 0.0662 - val_accuracy: 0.9765\n",
            "Epoch 99/100\n",
            "16/16 [==============================] - 1s 37ms/step - loss: 0.0633 - accuracy: 0.9787 - val_loss: 0.0661 - val_accuracy: 0.9764\n",
            "Epoch 100/100\n",
            "16/16 [==============================] - 1s 41ms/step - loss: 0.0633 - accuracy: 0.9786 - val_loss: 0.0660 - val_accuracy: 0.9765\n"
          ]
        }
      ],
      "source": [
        "# training the model on training dataset\n",
        "history = lst.fit(x_train, y_train, epochs=100, batch_size=5000,validation_split=0.2)"
      ]
    },
    {
      "cell_type": "code",
      "execution_count": 168,
      "metadata": {
        "id": "Tjk6voYvDxDo"
      },
      "outputs": [],
      "source": [
        "X_test = X_test.to_numpy()"
      ]
    },
    {
      "cell_type": "code",
      "execution_count": 169,
      "metadata": {
        "id": "F7RKBuhZpM1s"
      },
      "outputs": [],
      "source": [
        "x_test = np.reshape(X_test, (X_test.shape[0],1,X_test.shape[1]))"
      ]
    },
    {
      "cell_type": "code",
      "execution_count": 170,
      "metadata": {
        "colab": {
          "base_uri": "https://localhost:8080/"
        },
        "id": "wEvPvD0N1BoA",
        "outputId": "77f18d5a-493d-45f3-9cef-6e8967f33391"
      },
      "outputs": [
        {
          "name": "stdout",
          "output_type": "stream",
          "text": [
            "Saved model to disk\n",
            "Loaded model from disk\n"
          ]
        }
      ],
      "source": [
        "filepath = './models/lst_binary.json'\n",
        "weightspath = './weights/lst_binary.h5'\n",
        "if (not path.isfile(filepath)):\n",
        "  # serialize model to JSON\n",
        "  lst_json = lst.to_json()\n",
        "  with open(filepath, \"w\") as json_file:\n",
        "    json_file.write(lst_json)\n",
        "\n",
        "  # serialize weights to HDF5\n",
        "  lst.save_weights(weightspath)\n",
        "  print(\"Saved model to disk\")\n",
        "\n",
        "  # load json and create model\n",
        "  json_file = open(filepath, 'r')\n",
        "  loaded_model_json = json_file.read()\n",
        "  json_file.close()\n",
        "  lst = model_from_json(loaded_model_json)\n",
        "\n",
        "  # load weights into new model\n",
        "  lst.load_weights(weightspath)\n",
        "  print(\"Loaded model from disk\")"
      ]
    },
    {
      "cell_type": "code",
      "execution_count": null,
      "metadata": {
        "colab": {
          "base_uri": "https://localhost:8080/"
        },
        "id": "dlmuSmhzMWee",
        "outputId": "1fa0f8de-16f7-4a49-91db-21eea476e15d"
      },
      "outputs": [
        {
          "name": "stdout",
          "output_type": "stream",
          "text": [
            "Loaded model from disk\n"
          ]
        }
      ],
      "source": [
        "# load json and create model\n",
        "json_file = open(filepath, 'r')\n",
        "loaded_model_json = json_file.read()\n",
        "json_file.close()\n",
        "lst = model_from_json(loaded_model_json)\n",
        "\n",
        "# load weights into new model\n",
        "lst.load_weights(weightspath)\n",
        "print(\"Loaded model from disk\")"
      ]
    },
    {
      "cell_type": "code",
      "execution_count": 171,
      "metadata": {
        "id": "ElLuZrYc1PCC"
      },
      "outputs": [],
      "source": [
        "# defining loss function, optimizer, metrics and then compiling model\n",
        "lst.compile(loss='binary_crossentropy',optimizer='adam',metrics=['accuracy'])"
      ]
    },
    {
      "cell_type": "code",
      "execution_count": 172,
      "metadata": {
        "colab": {
          "base_uri": "https://localhost:8080/"
        },
        "id": "h0x7huDdpA0q",
        "outputId": "7728254b-daa2-46af-e86a-1da97c36f6ba"
      },
      "outputs": [
        {
          "name": "stdout",
          "output_type": "stream",
          "text": [
            "985/985 [==============================] - 2s 2ms/step - loss: 0.0646 - accuracy: 0.9777\n",
            "Test results - Loss: 0.06455659121274948 - Accuracy: 97.77100682258606%\n"
          ]
        }
      ],
      "source": [
        "# predicting target attribute on testing dataset\n",
        "test_results = lst.evaluate(x_test, y_test, verbose=1)\n",
        "print(f'Test results - Loss: {test_results[0]} - Accuracy: {test_results[1]*100}%')"
      ]
    },
    {
      "cell_type": "code",
      "execution_count": 175,
      "metadata": {
        "colab": {
          "base_uri": "https://localhost:8080/",
          "height": 295
        },
        "id": "pJfKAHM0Ndpv",
        "outputId": "47b99cfd-0d02-482b-9e49-5632f41ec071"
      },
      "outputs": [
        {
          "data": {
            "image/png": "[encoded data removed]",
            "text/plain": [
              "<Figure size 432x288 with 1 Axes>"
            ]
          },
          "metadata": {
            "needs_background": "light"
          },
          "output_type": "display_data"
        }
      ],
      "source": [
        "# Plot of accuracy vs epoch of train and test dataset\n",
        "plt.plot(history.history['accuracy'])\n",
        "plt.plot(history.history['val_accuracy'])\n",
        "plt.title(\"Plot of accuracy vs epoch for train and test dataset\")\n",
        "plt.ylabel('accuracy')\n",
        "plt.xlabel('epoch')\n",
        "plt.legend(['train', 'test'], loc='best')\n",
        "plt.savefig('plots/lstm_binary_accuracy.png')\n",
        "plt.show()"
      ]
    },
    {
      "cell_type": "code",
      "execution_count": 176,
      "metadata": {
        "colab": {
          "base_uri": "https://localhost:8080/",
          "height": 295
        },
        "id": "kd0qPmceNdAr",
        "outputId": "679d25a8-a70e-453c-e337-12a035f06737"
      },
      "outputs": [
        {
          "data": {
            "image/png": "[encoded data removed]",
            "text/plain": [
              "<Figure size 432x288 with 1 Axes>"
            ]
          },
          "metadata": {
            "needs_background": "light"
          },
          "output_type": "display_data"
        }
      ],
      "source": [
        "# Plot of loss vs epoch of train and test dataset\n",
        "plt.plot(history.history['loss'])\n",
        "plt.plot(history.history['val_loss'])\n",
        "plt.title(\"Plot of loss vs epoch for train and test dataset\")\n",
        "plt.ylabel('loss')\n",
        "plt.xlabel('epoch')\n",
        "plt.legend(['train', 'test'], loc='best')\n",
        "plt.savefig('plots/lstm_binary_loss.png')\n",
        "plt.show()"
      ]
    },
    {
      "cell_type": "code",
      "execution_count": 177,
      "metadata": {
        "colab": {
          "base_uri": "https://localhost:8080/",
          "height": 312
        },
        "id": "RULmRxZ5zkkF",
        "outputId": "0f86f794-8fa5-4477-b0a9-0b2f0fad8796"
      },
      "outputs": [
        {
          "data": {
            "image/png": "[encoded data removed]",
            "text/plain": [
              "<IPython.core.display.Image object>"
            ]
          },
          "execution_count": 177,
          "metadata": {},
          "output_type": "execute_result"
        }
      ],
      "source": [
        "# representation of model layers\n",
        "plot_model(lst, to_file='plots/lstm_binary.png', show_shapes=True,)"
      ]
    },
    {
      "cell_type": "code",
      "execution_count": 178,
      "metadata": {
        "colab": {
          "base_uri": "https://localhost:8080/"
        },
        "id": "pz5PnvT7NVM3",
        "outputId": "6c5095c5-af6f-4970-9539-230bccfbad7f"
      },
      "outputs": [
        {
          "data": {
            "text/plain": [
              "(31494, 1)"
            ]
          },
          "execution_count": 178,
          "metadata": {},
          "output_type": "execute_result"
        }
      ],
      "source": [
        "y_test.shape"
      ]
    },
    {
      "cell_type": "code",
      "execution_count": 179,
      "metadata": {
        "id": "0gerwSZhM84M"
      },
      "outputs": [],
      "source": [
        "y_pred = lst.predict(x_test)"
      ]
    },
    {
      "cell_type": "code",
      "execution_count": 180,
      "metadata": {
        "colab": {
          "base_uri": "https://localhost:8080/"
        },
        "id": "uWEA6uWcz4sv",
        "outputId": "78ff2140-4c3f-4b6c-f4b0-ec80cfd18779"
      },
      "outputs": [
        {
          "data": {
            "text/plain": [
              "(31494, 1)"
            ]
          },
          "execution_count": 180,
          "metadata": {},
          "output_type": "execute_result"
        }
      ],
      "source": [
        "y_pred.shape"
      ]
    },
    {
      "cell_type": "code",
      "execution_count": 181,
      "metadata": {
        "id": "I95on6ReX10w"
      },
      "outputs": [],
      "source": [
        "y_pred = lst.predict(x_test)\n",
        "fpr, tpr, thresholds = roc_curve(y_test, y_pred)\n",
        "auc = auc(fpr, tpr)"
      ]
    },
    {
      "cell_type": "code",
      "execution_count": 185,
      "metadata": {
        "colab": {
          "base_uri": "https://localhost:8080/",
          "height": 295
        },
        "id": "sOyFjOmaYFEs",
        "outputId": "8f1e1931-b146-46d2-8724-6bbaee43d19d"
      },
      "outputs": [
        {
          "data": {
            "image/png": "[encoded data removed]",
            "text/plain": [
              "<Figure size 432x288 with 1 Axes>"
            ]
          },
          "metadata": {
            "needs_background": "light"
          },
          "output_type": "display_data"
        }
      ],
      "source": [
        "plt.plot([0, 1], [0, 1], 'k--')\n",
        "plt.plot(fpr, tpr, label='Keras (area = {:.3f})'.format(auc))\n",
        "plt.xlabel('False positive rate')\n",
        "plt.ylabel('True positive rate')\n",
        "plt.title('ROC curve')\n",
        "plt.legend(loc='best')\n",
        "plt.savefig('plots/lstm_binary_roc.png')\n",
        "plt.show()"
      ]
    },
    {
      "cell_type": "code",
      "execution_count": 183,
      "metadata": {
        "id": "wQQEpAOhaRjY"
      },
      "outputs": [],
      "source": [
        "y_classes = (lst.predict(x_test)>0.5).astype('int32')"
      ]
    },
    {
      "cell_type": "code",
      "execution_count": 184,
      "metadata": {
        "colab": {
          "base_uri": "https://localhost:8080/"
        },
        "id": "P6hUVw4vaPKa",
        "outputId": "868189e4-84a8-457a-ea09-ac60eeb6b9d8"
      },
      "outputs": [
        {
          "name": "stdout",
          "output_type": "stream",
          "text": [
            "Recall Score -  0.9862286872540837\n",
            "F1 Score -  0.9792233929205635\n",
            "Precision Score -  0.9723169154813683\n"
          ]
        }
      ],
      "source": [
        "print(\"Recall Score - \",recall_score(y_test,y_classes))\n",
        "print(\"F1 Score - \",f1_score(y_test,y_classes))\n",
        "print(\"Precision Score - \",precision_score(y_test,y_classes))"
      ]
    }
  ],
  "metadata": {
    "colab": {
      "collapsed_sections": [],
      "name": "Intrusion_Detection_NSL_KDD.ipynb",
      "provenance": []
    },
    "kernelspec": {
      "display_name": "Python 3",
      "name": "python3"
    },
    "language_info": {
      "codemirror_mode": {
        "name": "ipython",
        "version": 3
      },
      "file_extension": ".py",
      "mimetype": "text/x-python",
      "name": "python",
      "nbconvert_exporter": "python",
      "pygments_lexer": "ipython3",
      "version": "3.8.16"
    }
  },
  "nbformat": 4,
  "nbformat_minor": 0
}
