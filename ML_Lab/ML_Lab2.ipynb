{
 "cells": [
  {
   "cell_type": "markdown",
   "metadata": {},
   "source": [
    "# ML LAB Assignemnt-2 \n",
    "### Sai Karthik AP21110010310\n"
   ]
  },
  {
   "cell_type": "markdown",
   "metadata": {},
   "source": [
    "1. Take two 3D coordinates from the user. Find out the distance between these points\n",
    "using following distance functions. x and y are vectors representing the coordinates of two points.\n",
    "Here, k=3"
   ]
  },
  {
   "cell_type": "code",
   "execution_count": 7,
   "metadata": {},
   "outputs": [
    {
     "name": "stdout",
     "output_type": "stream",
     "text": [
      "Enter the coordinates for point 1:\n",
      "Enter the coordinates for point 2:\n",
      "Euclidean Distance: 5.196152422706632\n",
      "Minkowski Distance: 4.3267487109222245\n",
      "Manhattan Distance: 9.0\n"
     ]
    }
   ],
   "source": [
    "import math\n",
    "\n",
    "def euclidean_distance(x, y):\n",
    "    return math.sqrt(sum([(a - b) ** 2 for a, b in zip(x, y)]))\n",
    "\n",
    "def minkowski_distance(x, y, p):\n",
    "    return sum([abs(a - b) ** p for a, b in zip(x, y)]) ** (1/p)\n",
    "\n",
    "def manhattan_distance(x, y):\n",
    "    return sum([abs(a - b) for a, b in zip(x, y)])\n",
    "\n",
    "def take_coordinates():\n",
    "    coordinates = []\n",
    "    for i in range(2): \n",
    "        coordinate = []\n",
    "        print(f\"Enter the coordinates for point {i + 1}:\")\n",
    "        for j in range(3): \n",
    "            value = float(input(f\"Enter the value for dimension {j + 1}: \"))\n",
    "            coordinate.append(value)\n",
    "        coordinates.append(coordinate)\n",
    "    return coordinates\n",
    "\n",
    "def main():\n",
    "    coordinates = take_coordinates()\n",
    "    k=3\n",
    "    euclidean_dist = euclidean_distance(coordinates[0], coordinates[1])\n",
    "    minkowski_dist = minkowski_distance(coordinates[0], coordinates[1], k) \n",
    "    manhattan_dist = manhattan_distance(coordinates[0], coordinates[1])\n",
    "    \n",
    "    print(f\"Euclidean Distance: {euclidean_dist}\")\n",
    "    print(f\"Minkowski Distance: {minkowski_dist}\")\n",
    "    print(f\"Manhattan Distance: {manhattan_dist}\")\n",
    "\n",
    "if __name__ == \"__main__\":\n",
    "    main()\n"
   ]
  },
  {
   "cell_type": "markdown",
   "metadata": {},
   "source": [
    "2. Import the Iris dataset. Write a program to obtain the Euclidian Distance Matrix for\n",
    "all the data samples in the feature space. Distance metric is a 2D array, where the\n",
    "(i,j)th entry represents the distance between the ith and jth sample points in the feature\n",
    "space."
   ]
  },
  {
   "cell_type": "code",
   "execution_count": null,
   "metadata": {},
   "outputs": [],
   "source": []
  }
 ],
 "metadata": {
  "kernelspec": {
   "display_name": "Python 3",
   "language": "python",
   "name": "python3"
  },
  "language_info": {
   "codemirror_mode": {
    "name": "ipython",
    "version": 3
   },
   "file_extension": ".py",
   "mimetype": "text/x-python",
   "name": "python",
   "nbconvert_exporter": "python",
   "pygments_lexer": "ipython3",
   "version": "3.8.16"
  }
 },
 "nbformat": 4,
 "nbformat_minor": 2
}
